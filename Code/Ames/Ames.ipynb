{
 "cells": [
  {
   "cell_type": "markdown",
   "metadata": {},
   "source": [
    "# Ames\n",
    "___\n",
    "## Imports / Reads"
   ]
  },
  {
   "cell_type": "code",
   "execution_count": 77,
   "metadata": {},
   "outputs": [],
   "source": [
    "import math\n",
    "import numpy as np\n",
    "import pandas as pd\n",
    "import matplotlib.pyplot as plt\n",
    "import seaborn as sns\n",
    "import missingno as msno\n",
    "\n",
    "from sklearn.linear_model import LinearRegression, Ridge, Lasso, RidgeCV, LassoCV\n",
    "from sklearn.preprocessing import PolynomialFeatures, StandardScaler\n",
    "from sklearn.model_selection import train_test_split, cross_val_score\n",
    "from sklearn.metrics import mean_squared_error, r2_score"
   ]
  },
  {
   "cell_type": "code",
   "execution_count": 78,
   "metadata": {},
   "outputs": [],
   "source": [
    "pd.set_option('display.max_columns', 100)"
   ]
  },
  {
   "cell_type": "code",
   "execution_count": 79,
   "metadata": {},
   "outputs": [],
   "source": [
    "df = pd.read_csv('../../Data/Ames/train.csv')\n",
    "test_df = pd.read_csv('../../Data/Ames/test.csv')"
   ]
  },
  {
   "cell_type": "markdown",
   "metadata": {},
   "source": [
    "___\n",
    "## Cleaning"
   ]
  },
  {
   "cell_type": "code",
   "execution_count": 80,
   "metadata": {
    "scrolled": true
   },
   "outputs": [
    {
     "data": {
      "text/html": [
       "<div>\n",
       "<style scoped>\n",
       "    .dataframe tbody tr th:only-of-type {\n",
       "        vertical-align: middle;\n",
       "    }\n",
       "\n",
       "    .dataframe tbody tr th {\n",
       "        vertical-align: top;\n",
       "    }\n",
       "\n",
       "    .dataframe thead th {\n",
       "        text-align: right;\n",
       "    }\n",
       "</style>\n",
       "<table border=\"1\" class=\"dataframe\">\n",
       "  <thead>\n",
       "    <tr style=\"text-align: right;\">\n",
       "      <th></th>\n",
       "      <th>Id</th>\n",
       "      <th>PID</th>\n",
       "      <th>MS SubClass</th>\n",
       "      <th>MS Zoning</th>\n",
       "      <th>Lot Frontage</th>\n",
       "      <th>Lot Area</th>\n",
       "      <th>Street</th>\n",
       "      <th>Alley</th>\n",
       "      <th>Lot Shape</th>\n",
       "      <th>Land Contour</th>\n",
       "      <th>Utilities</th>\n",
       "      <th>Lot Config</th>\n",
       "      <th>Land Slope</th>\n",
       "      <th>Neighborhood</th>\n",
       "      <th>Condition 1</th>\n",
       "      <th>Condition 2</th>\n",
       "      <th>Bldg Type</th>\n",
       "      <th>House Style</th>\n",
       "      <th>Overall Qual</th>\n",
       "      <th>Overall Cond</th>\n",
       "      <th>Year Built</th>\n",
       "      <th>Year Remod/Add</th>\n",
       "      <th>Roof Style</th>\n",
       "      <th>Roof Matl</th>\n",
       "      <th>Exterior 1st</th>\n",
       "      <th>Exterior 2nd</th>\n",
       "      <th>Mas Vnr Type</th>\n",
       "      <th>Mas Vnr Area</th>\n",
       "      <th>Exter Qual</th>\n",
       "      <th>Exter Cond</th>\n",
       "      <th>Foundation</th>\n",
       "      <th>Bsmt Qual</th>\n",
       "      <th>Bsmt Cond</th>\n",
       "      <th>Bsmt Exposure</th>\n",
       "      <th>BsmtFin Type 1</th>\n",
       "      <th>BsmtFin SF 1</th>\n",
       "      <th>BsmtFin Type 2</th>\n",
       "      <th>BsmtFin SF 2</th>\n",
       "      <th>Bsmt Unf SF</th>\n",
       "      <th>Total Bsmt SF</th>\n",
       "      <th>Heating</th>\n",
       "      <th>Heating QC</th>\n",
       "      <th>Central Air</th>\n",
       "      <th>Electrical</th>\n",
       "      <th>1st Flr SF</th>\n",
       "      <th>2nd Flr SF</th>\n",
       "      <th>Low Qual Fin SF</th>\n",
       "      <th>Gr Liv Area</th>\n",
       "      <th>Bsmt Full Bath</th>\n",
       "      <th>Bsmt Half Bath</th>\n",
       "      <th>Full Bath</th>\n",
       "      <th>Half Bath</th>\n",
       "      <th>Bedroom AbvGr</th>\n",
       "      <th>Kitchen AbvGr</th>\n",
       "      <th>Kitchen Qual</th>\n",
       "      <th>TotRms AbvGrd</th>\n",
       "      <th>Functional</th>\n",
       "      <th>Fireplaces</th>\n",
       "      <th>Fireplace Qu</th>\n",
       "      <th>Garage Type</th>\n",
       "      <th>Garage Yr Blt</th>\n",
       "      <th>Garage Finish</th>\n",
       "      <th>Garage Cars</th>\n",
       "      <th>Garage Area</th>\n",
       "      <th>Garage Qual</th>\n",
       "      <th>Garage Cond</th>\n",
       "      <th>Paved Drive</th>\n",
       "      <th>Wood Deck SF</th>\n",
       "      <th>Open Porch SF</th>\n",
       "      <th>Enclosed Porch</th>\n",
       "      <th>3Ssn Porch</th>\n",
       "      <th>Screen Porch</th>\n",
       "      <th>Pool Area</th>\n",
       "      <th>Pool QC</th>\n",
       "      <th>Fence</th>\n",
       "      <th>Misc Feature</th>\n",
       "      <th>Misc Val</th>\n",
       "      <th>Mo Sold</th>\n",
       "      <th>Yr Sold</th>\n",
       "      <th>Sale Type</th>\n",
       "      <th>SalePrice</th>\n",
       "    </tr>\n",
       "  </thead>\n",
       "  <tbody>\n",
       "    <tr>\n",
       "      <td>0</td>\n",
       "      <td>109</td>\n",
       "      <td>533352170</td>\n",
       "      <td>60</td>\n",
       "      <td>RL</td>\n",
       "      <td>NaN</td>\n",
       "      <td>13517</td>\n",
       "      <td>Pave</td>\n",
       "      <td>NaN</td>\n",
       "      <td>IR1</td>\n",
       "      <td>Lvl</td>\n",
       "      <td>AllPub</td>\n",
       "      <td>CulDSac</td>\n",
       "      <td>Gtl</td>\n",
       "      <td>Sawyer</td>\n",
       "      <td>RRAe</td>\n",
       "      <td>Norm</td>\n",
       "      <td>1Fam</td>\n",
       "      <td>2Story</td>\n",
       "      <td>6</td>\n",
       "      <td>8</td>\n",
       "      <td>1976</td>\n",
       "      <td>2005</td>\n",
       "      <td>Gable</td>\n",
       "      <td>CompShg</td>\n",
       "      <td>HdBoard</td>\n",
       "      <td>Plywood</td>\n",
       "      <td>BrkFace</td>\n",
       "      <td>289.0</td>\n",
       "      <td>Gd</td>\n",
       "      <td>TA</td>\n",
       "      <td>CBlock</td>\n",
       "      <td>TA</td>\n",
       "      <td>TA</td>\n",
       "      <td>No</td>\n",
       "      <td>GLQ</td>\n",
       "      <td>533.0</td>\n",
       "      <td>Unf</td>\n",
       "      <td>0.0</td>\n",
       "      <td>192.0</td>\n",
       "      <td>725.0</td>\n",
       "      <td>GasA</td>\n",
       "      <td>Ex</td>\n",
       "      <td>Y</td>\n",
       "      <td>SBrkr</td>\n",
       "      <td>725</td>\n",
       "      <td>754</td>\n",
       "      <td>0</td>\n",
       "      <td>1479</td>\n",
       "      <td>0.0</td>\n",
       "      <td>0.0</td>\n",
       "      <td>2</td>\n",
       "      <td>1</td>\n",
       "      <td>3</td>\n",
       "      <td>1</td>\n",
       "      <td>Gd</td>\n",
       "      <td>6</td>\n",
       "      <td>Typ</td>\n",
       "      <td>0</td>\n",
       "      <td>NaN</td>\n",
       "      <td>Attchd</td>\n",
       "      <td>1976.0</td>\n",
       "      <td>RFn</td>\n",
       "      <td>2.0</td>\n",
       "      <td>475.0</td>\n",
       "      <td>TA</td>\n",
       "      <td>TA</td>\n",
       "      <td>Y</td>\n",
       "      <td>0</td>\n",
       "      <td>44</td>\n",
       "      <td>0</td>\n",
       "      <td>0</td>\n",
       "      <td>0</td>\n",
       "      <td>0</td>\n",
       "      <td>NaN</td>\n",
       "      <td>NaN</td>\n",
       "      <td>NaN</td>\n",
       "      <td>0</td>\n",
       "      <td>3</td>\n",
       "      <td>2010</td>\n",
       "      <td>WD</td>\n",
       "      <td>130500</td>\n",
       "    </tr>\n",
       "    <tr>\n",
       "      <td>1</td>\n",
       "      <td>544</td>\n",
       "      <td>531379050</td>\n",
       "      <td>60</td>\n",
       "      <td>RL</td>\n",
       "      <td>43.0</td>\n",
       "      <td>11492</td>\n",
       "      <td>Pave</td>\n",
       "      <td>NaN</td>\n",
       "      <td>IR1</td>\n",
       "      <td>Lvl</td>\n",
       "      <td>AllPub</td>\n",
       "      <td>CulDSac</td>\n",
       "      <td>Gtl</td>\n",
       "      <td>SawyerW</td>\n",
       "      <td>Norm</td>\n",
       "      <td>Norm</td>\n",
       "      <td>1Fam</td>\n",
       "      <td>2Story</td>\n",
       "      <td>7</td>\n",
       "      <td>5</td>\n",
       "      <td>1996</td>\n",
       "      <td>1997</td>\n",
       "      <td>Gable</td>\n",
       "      <td>CompShg</td>\n",
       "      <td>VinylSd</td>\n",
       "      <td>VinylSd</td>\n",
       "      <td>BrkFace</td>\n",
       "      <td>132.0</td>\n",
       "      <td>Gd</td>\n",
       "      <td>TA</td>\n",
       "      <td>PConc</td>\n",
       "      <td>Gd</td>\n",
       "      <td>TA</td>\n",
       "      <td>No</td>\n",
       "      <td>GLQ</td>\n",
       "      <td>637.0</td>\n",
       "      <td>Unf</td>\n",
       "      <td>0.0</td>\n",
       "      <td>276.0</td>\n",
       "      <td>913.0</td>\n",
       "      <td>GasA</td>\n",
       "      <td>Ex</td>\n",
       "      <td>Y</td>\n",
       "      <td>SBrkr</td>\n",
       "      <td>913</td>\n",
       "      <td>1209</td>\n",
       "      <td>0</td>\n",
       "      <td>2122</td>\n",
       "      <td>1.0</td>\n",
       "      <td>0.0</td>\n",
       "      <td>2</td>\n",
       "      <td>1</td>\n",
       "      <td>4</td>\n",
       "      <td>1</td>\n",
       "      <td>Gd</td>\n",
       "      <td>8</td>\n",
       "      <td>Typ</td>\n",
       "      <td>1</td>\n",
       "      <td>TA</td>\n",
       "      <td>Attchd</td>\n",
       "      <td>1997.0</td>\n",
       "      <td>RFn</td>\n",
       "      <td>2.0</td>\n",
       "      <td>559.0</td>\n",
       "      <td>TA</td>\n",
       "      <td>TA</td>\n",
       "      <td>Y</td>\n",
       "      <td>0</td>\n",
       "      <td>74</td>\n",
       "      <td>0</td>\n",
       "      <td>0</td>\n",
       "      <td>0</td>\n",
       "      <td>0</td>\n",
       "      <td>NaN</td>\n",
       "      <td>NaN</td>\n",
       "      <td>NaN</td>\n",
       "      <td>0</td>\n",
       "      <td>4</td>\n",
       "      <td>2009</td>\n",
       "      <td>WD</td>\n",
       "      <td>220000</td>\n",
       "    </tr>\n",
       "    <tr>\n",
       "      <td>2</td>\n",
       "      <td>153</td>\n",
       "      <td>535304180</td>\n",
       "      <td>20</td>\n",
       "      <td>RL</td>\n",
       "      <td>68.0</td>\n",
       "      <td>7922</td>\n",
       "      <td>Pave</td>\n",
       "      <td>NaN</td>\n",
       "      <td>Reg</td>\n",
       "      <td>Lvl</td>\n",
       "      <td>AllPub</td>\n",
       "      <td>Inside</td>\n",
       "      <td>Gtl</td>\n",
       "      <td>NAmes</td>\n",
       "      <td>Norm</td>\n",
       "      <td>Norm</td>\n",
       "      <td>1Fam</td>\n",
       "      <td>1Story</td>\n",
       "      <td>5</td>\n",
       "      <td>7</td>\n",
       "      <td>1953</td>\n",
       "      <td>2007</td>\n",
       "      <td>Gable</td>\n",
       "      <td>CompShg</td>\n",
       "      <td>VinylSd</td>\n",
       "      <td>VinylSd</td>\n",
       "      <td>None</td>\n",
       "      <td>0.0</td>\n",
       "      <td>TA</td>\n",
       "      <td>Gd</td>\n",
       "      <td>CBlock</td>\n",
       "      <td>TA</td>\n",
       "      <td>TA</td>\n",
       "      <td>No</td>\n",
       "      <td>GLQ</td>\n",
       "      <td>731.0</td>\n",
       "      <td>Unf</td>\n",
       "      <td>0.0</td>\n",
       "      <td>326.0</td>\n",
       "      <td>1057.0</td>\n",
       "      <td>GasA</td>\n",
       "      <td>TA</td>\n",
       "      <td>Y</td>\n",
       "      <td>SBrkr</td>\n",
       "      <td>1057</td>\n",
       "      <td>0</td>\n",
       "      <td>0</td>\n",
       "      <td>1057</td>\n",
       "      <td>1.0</td>\n",
       "      <td>0.0</td>\n",
       "      <td>1</td>\n",
       "      <td>0</td>\n",
       "      <td>3</td>\n",
       "      <td>1</td>\n",
       "      <td>Gd</td>\n",
       "      <td>5</td>\n",
       "      <td>Typ</td>\n",
       "      <td>0</td>\n",
       "      <td>NaN</td>\n",
       "      <td>Detchd</td>\n",
       "      <td>1953.0</td>\n",
       "      <td>Unf</td>\n",
       "      <td>1.0</td>\n",
       "      <td>246.0</td>\n",
       "      <td>TA</td>\n",
       "      <td>TA</td>\n",
       "      <td>Y</td>\n",
       "      <td>0</td>\n",
       "      <td>52</td>\n",
       "      <td>0</td>\n",
       "      <td>0</td>\n",
       "      <td>0</td>\n",
       "      <td>0</td>\n",
       "      <td>NaN</td>\n",
       "      <td>NaN</td>\n",
       "      <td>NaN</td>\n",
       "      <td>0</td>\n",
       "      <td>1</td>\n",
       "      <td>2010</td>\n",
       "      <td>WD</td>\n",
       "      <td>109000</td>\n",
       "    </tr>\n",
       "    <tr>\n",
       "      <td>3</td>\n",
       "      <td>318</td>\n",
       "      <td>916386060</td>\n",
       "      <td>60</td>\n",
       "      <td>RL</td>\n",
       "      <td>73.0</td>\n",
       "      <td>9802</td>\n",
       "      <td>Pave</td>\n",
       "      <td>NaN</td>\n",
       "      <td>Reg</td>\n",
       "      <td>Lvl</td>\n",
       "      <td>AllPub</td>\n",
       "      <td>Inside</td>\n",
       "      <td>Gtl</td>\n",
       "      <td>Timber</td>\n",
       "      <td>Norm</td>\n",
       "      <td>Norm</td>\n",
       "      <td>1Fam</td>\n",
       "      <td>2Story</td>\n",
       "      <td>5</td>\n",
       "      <td>5</td>\n",
       "      <td>2006</td>\n",
       "      <td>2007</td>\n",
       "      <td>Gable</td>\n",
       "      <td>CompShg</td>\n",
       "      <td>VinylSd</td>\n",
       "      <td>VinylSd</td>\n",
       "      <td>None</td>\n",
       "      <td>0.0</td>\n",
       "      <td>TA</td>\n",
       "      <td>TA</td>\n",
       "      <td>PConc</td>\n",
       "      <td>Gd</td>\n",
       "      <td>TA</td>\n",
       "      <td>No</td>\n",
       "      <td>Unf</td>\n",
       "      <td>0.0</td>\n",
       "      <td>Unf</td>\n",
       "      <td>0.0</td>\n",
       "      <td>384.0</td>\n",
       "      <td>384.0</td>\n",
       "      <td>GasA</td>\n",
       "      <td>Gd</td>\n",
       "      <td>Y</td>\n",
       "      <td>SBrkr</td>\n",
       "      <td>744</td>\n",
       "      <td>700</td>\n",
       "      <td>0</td>\n",
       "      <td>1444</td>\n",
       "      <td>0.0</td>\n",
       "      <td>0.0</td>\n",
       "      <td>2</td>\n",
       "      <td>1</td>\n",
       "      <td>3</td>\n",
       "      <td>1</td>\n",
       "      <td>TA</td>\n",
       "      <td>7</td>\n",
       "      <td>Typ</td>\n",
       "      <td>0</td>\n",
       "      <td>NaN</td>\n",
       "      <td>BuiltIn</td>\n",
       "      <td>2007.0</td>\n",
       "      <td>Fin</td>\n",
       "      <td>2.0</td>\n",
       "      <td>400.0</td>\n",
       "      <td>TA</td>\n",
       "      <td>TA</td>\n",
       "      <td>Y</td>\n",
       "      <td>100</td>\n",
       "      <td>0</td>\n",
       "      <td>0</td>\n",
       "      <td>0</td>\n",
       "      <td>0</td>\n",
       "      <td>0</td>\n",
       "      <td>NaN</td>\n",
       "      <td>NaN</td>\n",
       "      <td>NaN</td>\n",
       "      <td>0</td>\n",
       "      <td>4</td>\n",
       "      <td>2010</td>\n",
       "      <td>WD</td>\n",
       "      <td>174000</td>\n",
       "    </tr>\n",
       "    <tr>\n",
       "      <td>4</td>\n",
       "      <td>255</td>\n",
       "      <td>906425045</td>\n",
       "      <td>50</td>\n",
       "      <td>RL</td>\n",
       "      <td>82.0</td>\n",
       "      <td>14235</td>\n",
       "      <td>Pave</td>\n",
       "      <td>NaN</td>\n",
       "      <td>IR1</td>\n",
       "      <td>Lvl</td>\n",
       "      <td>AllPub</td>\n",
       "      <td>Inside</td>\n",
       "      <td>Gtl</td>\n",
       "      <td>SawyerW</td>\n",
       "      <td>Norm</td>\n",
       "      <td>Norm</td>\n",
       "      <td>1Fam</td>\n",
       "      <td>1.5Fin</td>\n",
       "      <td>6</td>\n",
       "      <td>8</td>\n",
       "      <td>1900</td>\n",
       "      <td>1993</td>\n",
       "      <td>Gable</td>\n",
       "      <td>CompShg</td>\n",
       "      <td>Wd Sdng</td>\n",
       "      <td>Plywood</td>\n",
       "      <td>None</td>\n",
       "      <td>0.0</td>\n",
       "      <td>TA</td>\n",
       "      <td>TA</td>\n",
       "      <td>PConc</td>\n",
       "      <td>Fa</td>\n",
       "      <td>Gd</td>\n",
       "      <td>No</td>\n",
       "      <td>Unf</td>\n",
       "      <td>0.0</td>\n",
       "      <td>Unf</td>\n",
       "      <td>0.0</td>\n",
       "      <td>676.0</td>\n",
       "      <td>676.0</td>\n",
       "      <td>GasA</td>\n",
       "      <td>TA</td>\n",
       "      <td>Y</td>\n",
       "      <td>SBrkr</td>\n",
       "      <td>831</td>\n",
       "      <td>614</td>\n",
       "      <td>0</td>\n",
       "      <td>1445</td>\n",
       "      <td>0.0</td>\n",
       "      <td>0.0</td>\n",
       "      <td>2</td>\n",
       "      <td>0</td>\n",
       "      <td>3</td>\n",
       "      <td>1</td>\n",
       "      <td>TA</td>\n",
       "      <td>6</td>\n",
       "      <td>Typ</td>\n",
       "      <td>0</td>\n",
       "      <td>NaN</td>\n",
       "      <td>Detchd</td>\n",
       "      <td>1957.0</td>\n",
       "      <td>Unf</td>\n",
       "      <td>2.0</td>\n",
       "      <td>484.0</td>\n",
       "      <td>TA</td>\n",
       "      <td>TA</td>\n",
       "      <td>N</td>\n",
       "      <td>0</td>\n",
       "      <td>59</td>\n",
       "      <td>0</td>\n",
       "      <td>0</td>\n",
       "      <td>0</td>\n",
       "      <td>0</td>\n",
       "      <td>NaN</td>\n",
       "      <td>NaN</td>\n",
       "      <td>NaN</td>\n",
       "      <td>0</td>\n",
       "      <td>3</td>\n",
       "      <td>2010</td>\n",
       "      <td>WD</td>\n",
       "      <td>138500</td>\n",
       "    </tr>\n",
       "  </tbody>\n",
       "</table>\n",
       "</div>"
      ],
      "text/plain": [
       "    Id        PID  MS SubClass MS Zoning  Lot Frontage  Lot Area Street Alley  \\\n",
       "0  109  533352170           60        RL           NaN     13517   Pave   NaN   \n",
       "1  544  531379050           60        RL          43.0     11492   Pave   NaN   \n",
       "2  153  535304180           20        RL          68.0      7922   Pave   NaN   \n",
       "3  318  916386060           60        RL          73.0      9802   Pave   NaN   \n",
       "4  255  906425045           50        RL          82.0     14235   Pave   NaN   \n",
       "\n",
       "  Lot Shape Land Contour Utilities Lot Config Land Slope Neighborhood  \\\n",
       "0       IR1          Lvl    AllPub    CulDSac        Gtl       Sawyer   \n",
       "1       IR1          Lvl    AllPub    CulDSac        Gtl      SawyerW   \n",
       "2       Reg          Lvl    AllPub     Inside        Gtl        NAmes   \n",
       "3       Reg          Lvl    AllPub     Inside        Gtl       Timber   \n",
       "4       IR1          Lvl    AllPub     Inside        Gtl      SawyerW   \n",
       "\n",
       "  Condition 1 Condition 2 Bldg Type House Style  Overall Qual  Overall Cond  \\\n",
       "0        RRAe        Norm      1Fam      2Story             6             8   \n",
       "1        Norm        Norm      1Fam      2Story             7             5   \n",
       "2        Norm        Norm      1Fam      1Story             5             7   \n",
       "3        Norm        Norm      1Fam      2Story             5             5   \n",
       "4        Norm        Norm      1Fam      1.5Fin             6             8   \n",
       "\n",
       "   Year Built  Year Remod/Add Roof Style Roof Matl Exterior 1st Exterior 2nd  \\\n",
       "0        1976            2005      Gable   CompShg      HdBoard      Plywood   \n",
       "1        1996            1997      Gable   CompShg      VinylSd      VinylSd   \n",
       "2        1953            2007      Gable   CompShg      VinylSd      VinylSd   \n",
       "3        2006            2007      Gable   CompShg      VinylSd      VinylSd   \n",
       "4        1900            1993      Gable   CompShg      Wd Sdng      Plywood   \n",
       "\n",
       "  Mas Vnr Type  Mas Vnr Area Exter Qual Exter Cond Foundation Bsmt Qual  \\\n",
       "0      BrkFace         289.0         Gd         TA     CBlock        TA   \n",
       "1      BrkFace         132.0         Gd         TA      PConc        Gd   \n",
       "2         None           0.0         TA         Gd     CBlock        TA   \n",
       "3         None           0.0         TA         TA      PConc        Gd   \n",
       "4         None           0.0         TA         TA      PConc        Fa   \n",
       "\n",
       "  Bsmt Cond Bsmt Exposure BsmtFin Type 1  BsmtFin SF 1 BsmtFin Type 2  \\\n",
       "0        TA            No            GLQ         533.0            Unf   \n",
       "1        TA            No            GLQ         637.0            Unf   \n",
       "2        TA            No            GLQ         731.0            Unf   \n",
       "3        TA            No            Unf           0.0            Unf   \n",
       "4        Gd            No            Unf           0.0            Unf   \n",
       "\n",
       "   BsmtFin SF 2  Bsmt Unf SF  Total Bsmt SF Heating Heating QC Central Air  \\\n",
       "0           0.0        192.0          725.0    GasA         Ex           Y   \n",
       "1           0.0        276.0          913.0    GasA         Ex           Y   \n",
       "2           0.0        326.0         1057.0    GasA         TA           Y   \n",
       "3           0.0        384.0          384.0    GasA         Gd           Y   \n",
       "4           0.0        676.0          676.0    GasA         TA           Y   \n",
       "\n",
       "  Electrical  1st Flr SF  2nd Flr SF  Low Qual Fin SF  Gr Liv Area  \\\n",
       "0      SBrkr         725         754                0         1479   \n",
       "1      SBrkr         913        1209                0         2122   \n",
       "2      SBrkr        1057           0                0         1057   \n",
       "3      SBrkr         744         700                0         1444   \n",
       "4      SBrkr         831         614                0         1445   \n",
       "\n",
       "   Bsmt Full Bath  Bsmt Half Bath  Full Bath  Half Bath  Bedroom AbvGr  \\\n",
       "0             0.0             0.0          2          1              3   \n",
       "1             1.0             0.0          2          1              4   \n",
       "2             1.0             0.0          1          0              3   \n",
       "3             0.0             0.0          2          1              3   \n",
       "4             0.0             0.0          2          0              3   \n",
       "\n",
       "   Kitchen AbvGr Kitchen Qual  TotRms AbvGrd Functional  Fireplaces  \\\n",
       "0              1           Gd              6        Typ           0   \n",
       "1              1           Gd              8        Typ           1   \n",
       "2              1           Gd              5        Typ           0   \n",
       "3              1           TA              7        Typ           0   \n",
       "4              1           TA              6        Typ           0   \n",
       "\n",
       "  Fireplace Qu Garage Type  Garage Yr Blt Garage Finish  Garage Cars  \\\n",
       "0          NaN      Attchd         1976.0           RFn          2.0   \n",
       "1           TA      Attchd         1997.0           RFn          2.0   \n",
       "2          NaN      Detchd         1953.0           Unf          1.0   \n",
       "3          NaN     BuiltIn         2007.0           Fin          2.0   \n",
       "4          NaN      Detchd         1957.0           Unf          2.0   \n",
       "\n",
       "   Garage Area Garage Qual Garage Cond Paved Drive  Wood Deck SF  \\\n",
       "0        475.0          TA          TA           Y             0   \n",
       "1        559.0          TA          TA           Y             0   \n",
       "2        246.0          TA          TA           Y             0   \n",
       "3        400.0          TA          TA           Y           100   \n",
       "4        484.0          TA          TA           N             0   \n",
       "\n",
       "   Open Porch SF  Enclosed Porch  3Ssn Porch  Screen Porch  Pool Area Pool QC  \\\n",
       "0             44               0           0             0          0     NaN   \n",
       "1             74               0           0             0          0     NaN   \n",
       "2             52               0           0             0          0     NaN   \n",
       "3              0               0           0             0          0     NaN   \n",
       "4             59               0           0             0          0     NaN   \n",
       "\n",
       "  Fence Misc Feature  Misc Val  Mo Sold  Yr Sold Sale Type  SalePrice  \n",
       "0   NaN          NaN         0        3     2010       WD      130500  \n",
       "1   NaN          NaN         0        4     2009       WD      220000  \n",
       "2   NaN          NaN         0        1     2010       WD      109000  \n",
       "3   NaN          NaN         0        4     2010       WD      174000  \n",
       "4   NaN          NaN         0        3     2010       WD      138500  "
      ]
     },
     "execution_count": 80,
     "metadata": {},
     "output_type": "execute_result"
    }
   ],
   "source": [
    "df.head()"
   ]
  },
  {
   "cell_type": "code",
   "execution_count": 81,
   "metadata": {
    "scrolled": true
   },
   "outputs": [
    {
     "data": {
      "text/plain": [
       "(2051, 81)"
      ]
     },
     "execution_count": 81,
     "metadata": {},
     "output_type": "execute_result"
    }
   ],
   "source": [
    "df.shape"
   ]
  },
  {
   "cell_type": "code",
   "execution_count": 82,
   "metadata": {},
   "outputs": [
    {
     "data": {
      "text/plain": [
       "{'1st Flr SF',\n",
       " '2nd Flr SF',\n",
       " '3Ssn Porch',\n",
       " 'Alley',\n",
       " 'Bedroom AbvGr',\n",
       " 'Bldg Type',\n",
       " 'Bsmt Cond',\n",
       " 'Bsmt Exposure',\n",
       " 'Bsmt Full Bath',\n",
       " 'Bsmt Half Bath',\n",
       " 'Bsmt Qual',\n",
       " 'Bsmt Unf SF',\n",
       " 'BsmtFin SF 1',\n",
       " 'BsmtFin SF 2',\n",
       " 'BsmtFin Type 1',\n",
       " 'BsmtFin Type 2',\n",
       " 'Central Air',\n",
       " 'Condition 1',\n",
       " 'Condition 2',\n",
       " 'Electrical',\n",
       " 'Enclosed Porch',\n",
       " 'Exter Cond',\n",
       " 'Exter Qual',\n",
       " 'Exterior 1st',\n",
       " 'Exterior 2nd',\n",
       " 'Fence',\n",
       " 'Fireplace Qu',\n",
       " 'Fireplaces',\n",
       " 'Foundation',\n",
       " 'Full Bath',\n",
       " 'Functional',\n",
       " 'Garage Area',\n",
       " 'Garage Cars',\n",
       " 'Garage Cond',\n",
       " 'Garage Finish',\n",
       " 'Garage Qual',\n",
       " 'Garage Type',\n",
       " 'Garage Yr Blt',\n",
       " 'Gr Liv Area',\n",
       " 'Half Bath',\n",
       " 'Heating',\n",
       " 'Heating QC',\n",
       " 'House Style',\n",
       " 'Id',\n",
       " 'Kitchen AbvGr',\n",
       " 'Kitchen Qual',\n",
       " 'Land Contour',\n",
       " 'Land Slope',\n",
       " 'Lot Area',\n",
       " 'Lot Config',\n",
       " 'Lot Frontage',\n",
       " 'Lot Shape',\n",
       " 'Low Qual Fin SF',\n",
       " 'MS SubClass',\n",
       " 'MS Zoning',\n",
       " 'Mas Vnr Area',\n",
       " 'Mas Vnr Type',\n",
       " 'Misc Feature',\n",
       " 'Misc Val',\n",
       " 'Mo Sold',\n",
       " 'Neighborhood',\n",
       " 'Open Porch SF',\n",
       " 'Overall Cond',\n",
       " 'Overall Qual',\n",
       " 'PID',\n",
       " 'Paved Drive',\n",
       " 'Pool Area',\n",
       " 'Pool QC',\n",
       " 'Roof Matl',\n",
       " 'Roof Style',\n",
       " 'Sale Type',\n",
       " 'SalePrice',\n",
       " 'Screen Porch',\n",
       " 'Street',\n",
       " 'TotRms AbvGrd',\n",
       " 'Total Bsmt SF',\n",
       " 'Utilities',\n",
       " 'Wood Deck SF',\n",
       " 'Year Built',\n",
       " 'Year Remod/Add',\n",
       " 'Yr Sold'}"
      ]
     },
     "execution_count": 82,
     "metadata": {},
     "output_type": "execute_result"
    }
   ],
   "source": [
    "columns = set(df.columns)\n",
    "columns"
   ]
  },
  {
   "cell_type": "markdown",
   "metadata": {},
   "source": [
    "___\n",
    "### Missing Data"
   ]
  },
  {
   "cell_type": "code",
   "execution_count": 83,
   "metadata": {},
   "outputs": [
    {
     "data": {
      "text/plain": [
       "Pool QC            2042\n",
       "Misc Feature       1986\n",
       "Alley              1911\n",
       "Fence              1651\n",
       "Fireplace Qu       1000\n",
       "Lot Frontage        330\n",
       "Garage Finish       114\n",
       "Garage Cond         114\n",
       "Garage Qual         114\n",
       "Garage Yr Blt       114\n",
       "Garage Type         113\n",
       "Bsmt Exposure        58\n",
       "BsmtFin Type 2       56\n",
       "BsmtFin Type 1       55\n",
       "Bsmt Cond            55\n",
       "Bsmt Qual            55\n",
       "Mas Vnr Type         22\n",
       "Mas Vnr Area         22\n",
       "Bsmt Half Bath        2\n",
       "Bsmt Full Bath        2\n",
       "Garage Cars           1\n",
       "Garage Area           1\n",
       "Bsmt Unf SF           1\n",
       "BsmtFin SF 2          1\n",
       "Total Bsmt SF         1\n",
       "BsmtFin SF 1          1\n",
       "Overall Cond          0\n",
       "Exterior 2nd          0\n",
       "Exterior 1st          0\n",
       "Roof Matl             0\n",
       "Roof Style            0\n",
       "Year Remod/Add        0\n",
       "Year Built            0\n",
       "SalePrice             0\n",
       "Overall Qual          0\n",
       "Land Contour          0\n",
       "PID                   0\n",
       "MS SubClass           0\n",
       "MS Zoning             0\n",
       "Lot Area              0\n",
       "Street                0\n",
       "Lot Shape             0\n",
       "Utilities             0\n",
       "House Style           0\n",
       "Lot Config            0\n",
       "Land Slope            0\n",
       "Exter Qual            0\n",
       "Condition 1           0\n",
       "Condition 2           0\n",
       "Bldg Type             0\n",
       "Neighborhood          0\n",
       "Heating               0\n",
       "Exter Cond            0\n",
       "TotRms AbvGrd         0\n",
       "Yr Sold               0\n",
       "Mo Sold               0\n",
       "Misc Val              0\n",
       "Pool Area             0\n",
       "Screen Porch          0\n",
       "3Ssn Porch            0\n",
       "Enclosed Porch        0\n",
       "Open Porch SF         0\n",
       "Wood Deck SF          0\n",
       "Paved Drive           0\n",
       "Fireplaces            0\n",
       "Functional            0\n",
       "Kitchen Qual          0\n",
       "Foundation            0\n",
       "Kitchen AbvGr         0\n",
       "Bedroom AbvGr         0\n",
       "Half Bath             0\n",
       "Full Bath             0\n",
       "Gr Liv Area           0\n",
       "Low Qual Fin SF       0\n",
       "2nd Flr SF            0\n",
       "1st Flr SF            0\n",
       "Electrical            0\n",
       "Central Air           0\n",
       "Heating QC            0\n",
       "Sale Type             0\n",
       "Id                    0\n",
       "dtype: int64"
      ]
     },
     "execution_count": 83,
     "metadata": {},
     "output_type": "execute_result"
    }
   ],
   "source": [
    "df.isnull().sum().sort_values(ascending=False)"
   ]
  },
  {
   "cell_type": "code",
   "execution_count": 84,
   "metadata": {},
   "outputs": [
    {
     "data": {
      "image/png": "[encoded data removed]",
      "text/plain": [
       "<Figure size 1800x720 with 2 Axes>"
      ]
     },
     "metadata": {
      "needs_background": "light"
     },
     "output_type": "display_data"
    }
   ],
   "source": [
    "msno.matrix(df);"
   ]
  },
  {
   "cell_type": "code",
   "execution_count": 85,
   "metadata": {},
   "outputs": [
    {
     "name": "stdout",
     "output_type": "stream",
     "text": [
      "Garage Yr Blt has 114 null(s)\n",
      "BsmtFin Type 2 has 56 null(s)\n",
      "Mas Vnr Type has 22 null(s)\n",
      "Total Bsmt SF has 1 null(s)\n",
      "Garage Cond has 114 null(s)\n",
      "BsmtFin Type 1 has 55 null(s)\n",
      "BsmtFin SF 2 has 1 null(s)\n",
      "Garage Qual has 114 null(s)\n",
      "Bsmt Exposure has 58 null(s)\n",
      "Misc Feature has 1986 null(s)\n",
      "Fence has 1651 null(s)\n",
      "Fireplace Qu has 1000 null(s)\n",
      "Lot Frontage has 330 null(s)\n",
      "Garage Cars has 1 null(s)\n",
      "Bsmt Half Bath has 2 null(s)\n",
      "Garage Area has 1 null(s)\n",
      "BsmtFin SF 1 has 1 null(s)\n",
      "Bsmt Cond has 55 null(s)\n",
      "Garage Type has 113 null(s)\n",
      "Bsmt Qual has 55 null(s)\n",
      "Garage Finish has 114 null(s)\n",
      "Bsmt Full Bath has 2 null(s)\n",
      "Bsmt Unf SF has 1 null(s)\n",
      "Mas Vnr Area has 22 null(s)\n",
      "Alley has 1911 null(s)\n",
      "Pool QC has 2042 null(s)\n"
     ]
    }
   ],
   "source": [
    "# lets get a list of how many missing values are in each column with missing values?\n",
    "def null_check(cols):\n",
    "    for col in cols:\n",
    "        if df[col].isnull().sum() > 0:\n",
    "            print(f'{col} has {df[col].isnull().sum()} null(s)')\n",
    "            \n",
    "null_check(columns)"
   ]
  },
  {
   "cell_type": "markdown",
   "metadata": {},
   "source": [
    "Out of all the columns that have null values, the categorical columns can be imputed as 'None' because those houses do not have those features."
   ]
  },
  {
   "cell_type": "code",
   "execution_count": 86,
   "metadata": {},
   "outputs": [
    {
     "name": "stdout",
     "output_type": "stream",
     "text": [
      "Garage Yr Blt has 114 null(s)\n",
      "Total Bsmt SF has 1 null(s)\n",
      "BsmtFin SF 2 has 1 null(s)\n",
      "Lot Frontage has 330 null(s)\n",
      "Garage Cars has 1 null(s)\n",
      "Bsmt Half Bath has 2 null(s)\n",
      "Garage Area has 1 null(s)\n",
      "BsmtFin SF 1 has 1 null(s)\n",
      "Bsmt Full Bath has 2 null(s)\n",
      "Bsmt Unf SF has 1 null(s)\n",
      "Mas Vnr Area has 22 null(s)\n"
     ]
    }
   ],
   "source": [
    "cat_cols = [\n",
    "    'Alley',\n",
    "    'Mas Vnr Type', \n",
    "    'Bsmt Qual', \n",
    "    'Bsmt Cond', \n",
    "    'Bsmt Exposure', \n",
    "    'BsmtFin Type 1', \n",
    "    'BsmtFin Type 2', \n",
    "    'Fireplace Qu', \n",
    "    'Garage Type', \n",
    "    'Garage Finish', \n",
    "    'Garage Qual', \n",
    "    'Garage Cond', \n",
    "    'Pool QC', \n",
    "    'Fence', \n",
    "    'Misc Feature'\n",
    "]\n",
    "\n",
    "[df[col].fillna('None', inplace=True) for col in cat_cols]\n",
    "    \n",
    "null_check(columns)"
   ]
  },
  {
   "cell_type": "markdown",
   "metadata": {},
   "source": [
    "Next the nulls for the basement features can be set to 0 because those houses do not have basements"
   ]
  },
  {
   "cell_type": "code",
   "execution_count": 87,
   "metadata": {},
   "outputs": [],
   "source": [
    "n_index = df.loc[df['Total Bsmt SF'].isnull()].index\n",
    "df.loc[n_index, 'Total Bsmt SF'] = 0\n",
    "\n",
    "n_index = df.loc[df['BsmtFin SF 1'].isnull()].index\n",
    "df.loc[n_index, 'BsmtFin SF 1'] = 0\n",
    "\n",
    "n_index = df.loc[df['BsmtFin SF 2'].isnull()].index\n",
    "df.loc[n_index, 'BsmtFin SF 2'] = 0\n",
    "\n",
    "n_index = df.loc[df['Bsmt Full Bath'].isnull()].index\n",
    "df.loc[n_index, 'Bsmt Full Bath'] = 0\n",
    "\n",
    "n_index = df.loc[df['Bsmt Unf SF'].isnull()].index\n",
    "df.loc[n_index, 'Bsmt Unf SF'] = 0\n",
    "\n",
    "n_index = df.loc[df['Bsmt Half Bath'].isnull()].index\n",
    "df.loc[n_index, 'Bsmt Half Bath'] = 0"
   ]
  },
  {
   "cell_type": "code",
   "execution_count": 88,
   "metadata": {
    "scrolled": true
   },
   "outputs": [
    {
     "name": "stdout",
     "output_type": "stream",
     "text": [
      "Garage Yr Blt has 114 null(s)\n",
      "Lot Frontage has 330 null(s)\n",
      "Garage Cars has 1 null(s)\n",
      "Garage Area has 1 null(s)\n",
      "Mas Vnr Area has 22 null(s)\n"
     ]
    }
   ],
   "source": [
    "null_check(columns)"
   ]
  },
  {
   "cell_type": "markdown",
   "metadata": {},
   "source": [
    "Now to deal with the Garage Cars and Garage Area nulls. For these nulls I can impute them as the median for the type of garage in the same area. This won't be 100% accurate but it will be a good estimate"
   ]
  },
  {
   "cell_type": "code",
   "execution_count": 89,
   "metadata": {
    "scrolled": true
   },
   "outputs": [
    {
     "data": {
      "text/plain": [
       "1712    Detchd\n",
       "Name: Garage Type, dtype: object"
      ]
     },
     "execution_count": 89,
     "metadata": {},
     "output_type": "execute_result"
    }
   ],
   "source": [
    "df.loc[df['Garage Cars'].isnull()]['Garage Type']"
   ]
  },
  {
   "cell_type": "code",
   "execution_count": 90,
   "metadata": {},
   "outputs": [
    {
     "data": {
      "text/plain": [
       "1712    IDOTRR\n",
       "Name: Neighborhood, dtype: object"
      ]
     },
     "execution_count": 90,
     "metadata": {},
     "output_type": "execute_result"
    }
   ],
   "source": [
    "df.loc[df['Garage Cars'].isnull()]['Neighborhood']"
   ]
  },
  {
   "cell_type": "code",
   "execution_count": 91,
   "metadata": {
    "scrolled": true
   },
   "outputs": [
    {
     "data": {
      "text/plain": [
       "1.0"
      ]
     },
     "execution_count": 91,
     "metadata": {},
     "output_type": "execute_result"
    }
   ],
   "source": [
    "df.loc[(df['Garage Type'] == 'Detchd') & (df['Neighborhood'] == 'IDOTRR')]['Garage Cars'].median()"
   ]
  },
  {
   "cell_type": "code",
   "execution_count": 92,
   "metadata": {},
   "outputs": [],
   "source": [
    "df.loc[1712, 'Garage Cars'] = 1"
   ]
  },
  {
   "cell_type": "code",
   "execution_count": 93,
   "metadata": {},
   "outputs": [
    {
     "name": "stdout",
     "output_type": "stream",
     "text": [
      "Garage Yr Blt has 114 null(s)\n",
      "Lot Frontage has 330 null(s)\n",
      "Garage Area has 1 null(s)\n",
      "Mas Vnr Area has 22 null(s)\n"
     ]
    }
   ],
   "source": [
    "null_check(columns)"
   ]
  },
  {
   "cell_type": "code",
   "execution_count": 94,
   "metadata": {},
   "outputs": [
    {
     "data": {
      "text/plain": [
       "1712    Detchd\n",
       "Name: Garage Type, dtype: object"
      ]
     },
     "execution_count": 94,
     "metadata": {},
     "output_type": "execute_result"
    }
   ],
   "source": [
    "df.loc[df['Garage Area'].isnull()]['Garage Type']"
   ]
  },
  {
   "cell_type": "code",
   "execution_count": 95,
   "metadata": {},
   "outputs": [
    {
     "data": {
      "text/plain": [
       "1712    IDOTRR\n",
       "Name: Neighborhood, dtype: object"
      ]
     },
     "execution_count": 95,
     "metadata": {},
     "output_type": "execute_result"
    }
   ],
   "source": [
    "df.loc[df['Garage Area'].isnull()]['Neighborhood']"
   ]
  },
  {
   "cell_type": "code",
   "execution_count": 96,
   "metadata": {},
   "outputs": [
    {
     "data": {
      "text/plain": [
       "338.0"
      ]
     },
     "execution_count": 96,
     "metadata": {},
     "output_type": "execute_result"
    }
   ],
   "source": [
    "df.loc[(df['Garage Type'] == 'Detchd') & (df['Neighborhood'] == 'IDOTRR')]['Garage Area'].median()"
   ]
  },
  {
   "cell_type": "code",
   "execution_count": 97,
   "metadata": {},
   "outputs": [],
   "source": [
    "df.loc[1712, 'Garage Area'] = 338"
   ]
  },
  {
   "cell_type": "code",
   "execution_count": 98,
   "metadata": {},
   "outputs": [
    {
     "name": "stdout",
     "output_type": "stream",
     "text": [
      "Garage Yr Blt has 114 null(s)\n",
      "Lot Frontage has 330 null(s)\n",
      "Mas Vnr Area has 22 null(s)\n"
     ]
    }
   ],
   "source": [
    "null_check(columns)"
   ]
  },
  {
   "cell_type": "code",
   "execution_count": 99,
   "metadata": {},
   "outputs": [
    {
     "data": {
      "text/plain": [
       "22      None\n",
       "41      None\n",
       "86      None\n",
       "212     None\n",
       "276     None\n",
       "338     None\n",
       "431     None\n",
       "451     None\n",
       "591     None\n",
       "844     None\n",
       "913     None\n",
       "939     None\n",
       "1025    None\n",
       "1244    None\n",
       "1306    None\n",
       "1430    None\n",
       "1434    None\n",
       "1606    None\n",
       "1699    None\n",
       "1815    None\n",
       "1820    None\n",
       "1941    None\n",
       "Name: Mas Vnr Type, dtype: object"
      ]
     },
     "execution_count": 99,
     "metadata": {},
     "output_type": "execute_result"
    }
   ],
   "source": [
    "n_index = df.loc[df['Mas Vnr Area'].isnull()].index\n",
    "df.iloc[n_index]['Mas Vnr Type']"
   ]
  },
  {
   "cell_type": "markdown",
   "metadata": {},
   "source": [
    "Our Mas Vnr Area nulls can be set to 0 because none of them have Masonry Veneer"
   ]
  },
  {
   "cell_type": "code",
   "execution_count": 100,
   "metadata": {},
   "outputs": [
    {
     "name": "stdout",
     "output_type": "stream",
     "text": [
      "Garage Yr Blt has 114 null(s)\n",
      "Lot Frontage has 330 null(s)\n"
     ]
    }
   ],
   "source": [
    "df.loc[n_index, 'Mas Vnr Area'] = 0\n",
    "null_check(columns)"
   ]
  },
  {
   "cell_type": "code",
   "execution_count": 101,
   "metadata": {},
   "outputs": [
    {
     "name": "stdout",
     "output_type": "stream",
     "text": [
      "Garage Yr Blt has 1 null(s)\n",
      "Lot Frontage has 330 null(s)\n"
     ]
    }
   ],
   "source": [
    "# here we are setting all the nulls . for Garage Year Built to be 0 where there is no garage\n",
    "n_index = df.loc[(df['Garage Yr Blt'].isnull()) & (df['Garage Type'] == 'None')].index\n",
    "df.loc[n_index, 'Garage Yr Blt'] = 0\n",
    "\n",
    "null_check(columns)"
   ]
  },
  {
   "cell_type": "code",
   "execution_count": 102,
   "metadata": {},
   "outputs": [
    {
     "data": {
      "text/html": [
       "<div>\n",
       "<style scoped>\n",
       "    .dataframe tbody tr th:only-of-type {\n",
       "        vertical-align: middle;\n",
       "    }\n",
       "\n",
       "    .dataframe tbody tr th {\n",
       "        vertical-align: top;\n",
       "    }\n",
       "\n",
       "    .dataframe thead th {\n",
       "        text-align: right;\n",
       "    }\n",
       "</style>\n",
       "<table border=\"1\" class=\"dataframe\">\n",
       "  <thead>\n",
       "    <tr style=\"text-align: right;\">\n",
       "      <th></th>\n",
       "      <th>Garage Type</th>\n",
       "      <th>Neighborhood</th>\n",
       "    </tr>\n",
       "  </thead>\n",
       "  <tbody>\n",
       "    <tr>\n",
       "      <td>1712</td>\n",
       "      <td>Detchd</td>\n",
       "      <td>IDOTRR</td>\n",
       "    </tr>\n",
       "  </tbody>\n",
       "</table>\n",
       "</div>"
      ],
      "text/plain": [
       "     Garage Type Neighborhood\n",
       "1712      Detchd       IDOTRR"
      ]
     },
     "execution_count": 102,
     "metadata": {},
     "output_type": "execute_result"
    }
   ],
   "source": [
    "df.loc[df['Garage Yr Blt'].isnull()][['Garage Type', 'Neighborhood']]"
   ]
  },
  {
   "cell_type": "code",
   "execution_count": 103,
   "metadata": {},
   "outputs": [
    {
     "data": {
      "text/plain": [
       "1942.0"
      ]
     },
     "execution_count": 103,
     "metadata": {},
     "output_type": "execute_result"
    }
   ],
   "source": [
    "df.loc[(df['Garage Type'] == 'Detchd') & (df['Neighborhood'] == 'IDOTRR')]['Garage Yr Blt'].median()"
   ]
  },
  {
   "cell_type": "markdown",
   "metadata": {},
   "source": [
    "again we're just going to impute this missing value as the median year for houses in that area with a detached garage"
   ]
  },
  {
   "cell_type": "code",
   "execution_count": 104,
   "metadata": {},
   "outputs": [
    {
     "name": "stdout",
     "output_type": "stream",
     "text": [
      "Lot Frontage has 330 null(s)\n"
     ]
    }
   ],
   "source": [
    "df.loc[1712, 'Garage Yr Blt'] = 1942\n",
    "null_check(columns)"
   ]
  },
  {
   "cell_type": "markdown",
   "metadata": {},
   "source": [
    "We're going to repeat the same process for Lot Frontage as well"
   ]
  },
  {
   "cell_type": "code",
   "execution_count": 105,
   "metadata": {
    "scrolled": false
   },
   "outputs": [],
   "source": [
    "# Filling in nulls for Lot Frontage\n",
    "\n",
    "mini_df = df.loc[df['Lot Frontage'].isnull()][['Lot Area', 'Neighborhood', 'Lot Shape', 'Lot Config']]\n",
    "\n",
    "while mini_df.shape[0] > 0:\n",
    "    \n",
    "    # get the values from the first entry in the list\n",
    "    nhood = mini_df['Neighborhood'].values[0]\n",
    "    lshape = mini_df['Lot Shape'].values[0]\n",
    "    lconfig = mini_df['Lot Config'].values[0]\n",
    "    \n",
    "    # get the median Lot Frontage value for places matching the values of the first in the mini df\n",
    "    n_index = df.loc[(df['Neighborhood'] == nhood) &\n",
    "                 (df['Lot Shape'] == lshape) &\n",
    "                 (df['Lot Config'] == lconfig)\n",
    "                ].index\n",
    "    \n",
    "    lfrontage_median = df.loc[n_index, 'Lot Frontage'].median()\n",
    "    \n",
    "    # if our Lot Frontage median is nan we will broaden our scopes to get a numerical median\n",
    "    if math.isnan(lfrontage_median):\n",
    "        n_index = df.loc[(df['Neighborhood'] == nhood) &\n",
    "                         (df['Lot Config'] == lconfig)\n",
    "                        ].index\n",
    "        lfrontage_median = df.loc[n_index, 'Lot Frontage'].median()\n",
    "        \n",
    "    # try a secondary method if our Lot Frontage median is still nan\n",
    "    if math.isnan(lfrontage_median):\n",
    "        n_index = df.loc[(df['Lot Shape'] == lshape) &\n",
    "                         (df['Lot Config'] == lconfig)\n",
    "                        ].index\n",
    "        lfrontage_median = df.loc[n_index, 'Lot Frontage'].median()\n",
    "        \n",
    "    # impute nulls\n",
    "    n_index = df.loc[(df['Lot Frontage'].isnull()) &\n",
    "                 (df['Neighborhood'] == nhood) &\n",
    "                 (df['Lot Shape'] == lshape) &\n",
    "                 (df['Lot Config'] == lconfig)\n",
    "                ].index\n",
    "    df.loc[n_index, 'Lot Frontage'] = lfrontage_median\n",
    "    \n",
    "    # reset mini df\n",
    "    mini_df = df.loc[df['Lot Frontage'].isnull()][['Lot Area', 'Neighborhood', 'Lot Shape', 'Lot Config']]"
   ]
  },
  {
   "cell_type": "code",
   "execution_count": 106,
   "metadata": {},
   "outputs": [
    {
     "data": {
      "image/png": "[encoded data removed]",
      "text/plain": [
       "<Figure size 1800x720 with 2 Axes>"
      ]
     },
     "metadata": {
      "needs_background": "light"
     },
     "output_type": "display_data"
    }
   ],
   "source": [
    "msno.matrix(df);"
   ]
  },
  {
   "cell_type": "code",
   "execution_count": 107,
   "metadata": {},
   "outputs": [],
   "source": [
    "# save cleaned version\n",
    "df.to_csv('../../Data/Ames/cleaned.csv', index=False)"
   ]
  },
  {
   "cell_type": "markdown",
   "metadata": {},
   "source": [
    "___\n",
    "## EDA"
   ]
  },
  {
   "cell_type": "code",
   "execution_count": 108,
   "metadata": {
    "scrolled": true
   },
   "outputs": [
    {
     "name": "stdout",
     "output_type": "stream",
     "text": [
      "MS Zoning\n",
      "['RL' 'RM' 'FV' 'C (all)' 'A (agr)' 'RH' 'I (all)']\n",
      "-----------\n",
      "Street\n",
      "['Pave' 'Grvl']\n",
      "-----------\n",
      "Alley\n",
      "['None' 'Pave' 'Grvl']\n",
      "-----------\n",
      "Lot Shape\n",
      "['IR1' 'Reg' 'IR2' 'IR3']\n",
      "-----------\n",
      "Land Contour\n",
      "['Lvl' 'HLS' 'Bnk' 'Low']\n",
      "-----------\n",
      "Utilities\n",
      "['AllPub' 'NoSeWa' 'NoSewr']\n",
      "-----------\n",
      "Lot Config\n",
      "['CulDSac' 'Inside' 'Corner' 'FR2' 'FR3']\n",
      "-----------\n",
      "Land Slope\n",
      "['Gtl' 'Sev' 'Mod']\n",
      "-----------\n",
      "Neighborhood\n",
      "['Sawyer' 'SawyerW' 'NAmes' 'Timber' 'Edwards' 'OldTown' 'BrDale'\n",
      " 'CollgCr' 'Somerst' 'Mitchel' 'StoneBr' 'NridgHt' 'Gilbert' 'Crawfor'\n",
      " 'IDOTRR' 'NWAmes' 'Veenker' 'MeadowV' 'SWISU' 'NoRidge' 'ClearCr'\n",
      " 'Blmngtn' 'BrkSide' 'NPkVill' 'Blueste' 'GrnHill' 'Greens' 'Landmrk']\n",
      "-----------\n",
      "Condition 1\n",
      "['RRAe' 'Norm' 'PosA' 'Artery' 'Feedr' 'PosN' 'RRAn' 'RRNe' 'RRNn']\n",
      "-----------\n",
      "Condition 2\n",
      "['Norm' 'RRNn' 'Feedr' 'Artery' 'PosA' 'PosN' 'RRAe' 'RRAn']\n",
      "-----------\n",
      "Bldg Type\n",
      "['1Fam' 'TwnhsE' 'Twnhs' '2fmCon' 'Duplex']\n",
      "-----------\n",
      "House Style\n",
      "['2Story' '1Story' '1.5Fin' 'SFoyer' 'SLvl' '2.5Unf' '2.5Fin' '1.5Unf']\n",
      "-----------\n",
      "Roof Style\n",
      "['Gable' 'Hip' 'Flat' 'Mansard' 'Shed' 'Gambrel']\n",
      "-----------\n",
      "Roof Matl\n",
      "['CompShg' 'WdShngl' 'Tar&Grv' 'WdShake' 'Membran' 'ClyTile']\n",
      "-----------\n",
      "Exterior 1st\n",
      "['HdBoard' 'VinylSd' 'Wd Sdng' 'BrkFace' 'Plywood' 'MetalSd' 'AsbShng'\n",
      " 'CemntBd' 'WdShing' 'Stucco' 'BrkComm' 'Stone' 'CBlock' 'ImStucc'\n",
      " 'AsphShn']\n",
      "-----------\n",
      "Exterior 2nd\n",
      "['Plywood' 'VinylSd' 'Wd Sdng' 'HdBoard' 'MetalSd' 'AsbShng' 'CmentBd'\n",
      " 'Wd Shng' 'BrkFace' 'Stucco' 'Brk Cmn' 'ImStucc' 'Stone' 'CBlock'\n",
      " 'AsphShn']\n",
      "-----------\n",
      "Mas Vnr Type\n",
      "['BrkFace' 'None' 'Stone' 'BrkCmn']\n",
      "-----------\n",
      "Exter Qual\n",
      "['Gd' 'TA' 'Ex' 'Fa']\n",
      "-----------\n",
      "Exter Cond\n",
      "['TA' 'Gd' 'Fa' 'Ex' 'Po']\n",
      "-----------\n",
      "Foundation\n",
      "['CBlock' 'PConc' 'BrkTil' 'Slab' 'Stone' 'Wood']\n",
      "-----------\n",
      "Bsmt Qual\n",
      "['TA' 'Gd' 'Fa' 'None' 'Ex' 'Po']\n",
      "-----------\n",
      "Bsmt Cond\n",
      "['TA' 'Gd' 'None' 'Fa' 'Po' 'Ex']\n",
      "-----------\n",
      "Bsmt Exposure\n",
      "['No' 'Gd' 'Av' 'None' 'Mn']\n",
      "-----------\n",
      "BsmtFin Type 1\n",
      "['GLQ' 'Unf' 'ALQ' 'Rec' 'None' 'BLQ' 'LwQ']\n",
      "-----------\n",
      "BsmtFin Type 2\n",
      "['Unf' 'Rec' 'None' 'BLQ' 'GLQ' 'LwQ' 'ALQ']\n",
      "-----------\n",
      "Heating\n",
      "['GasA' 'GasW' 'Grav' 'Wall' 'OthW']\n",
      "-----------\n",
      "Heating QC\n",
      "['Ex' 'TA' 'Gd' 'Fa' 'Po']\n",
      "-----------\n",
      "Central Air\n",
      "['Y' 'N']\n",
      "-----------\n",
      "Electrical\n",
      "['SBrkr' 'FuseF' 'FuseA' 'FuseP' 'Mix']\n",
      "-----------\n",
      "Kitchen Qual\n",
      "['Gd' 'TA' 'Fa' 'Ex']\n",
      "-----------\n",
      "Functional\n",
      "['Typ' 'Mod' 'Min2' 'Maj1' 'Min1' 'Sev' 'Sal' 'Maj2']\n",
      "-----------\n",
      "Fireplace Qu\n",
      "['None' 'TA' 'Gd' 'Po' 'Ex' 'Fa']\n",
      "-----------\n",
      "Garage Type\n",
      "['Attchd' 'Detchd' 'BuiltIn' 'Basment' 'None' '2Types' 'CarPort']\n",
      "-----------\n",
      "Garage Finish\n",
      "['RFn' 'Unf' 'Fin' 'None']\n",
      "-----------\n",
      "Garage Qual\n",
      "['TA' 'Fa' 'None' 'Gd' 'Ex' 'Po']\n",
      "-----------\n",
      "Garage Cond\n",
      "['TA' 'Fa' 'None' 'Po' 'Gd' 'Ex']\n",
      "-----------\n",
      "Paved Drive\n",
      "['Y' 'N' 'P']\n",
      "-----------\n",
      "Pool QC\n",
      "['None' 'Fa' 'Gd' 'Ex' 'TA']\n",
      "-----------\n",
      "Fence\n",
      "['None' 'MnPrv' 'GdPrv' 'GdWo' 'MnWw']\n",
      "-----------\n",
      "Misc Feature\n",
      "['None' 'Shed' 'TenC' 'Gar2' 'Othr' 'Elev']\n",
      "-----------\n",
      "Sale Type\n",
      "['WD ' 'New' 'COD' 'ConLD' 'Con' 'CWD' 'Oth' 'ConLI' 'ConLw']\n",
      "-----------\n"
     ]
    }
   ],
   "source": [
    "# Let's get a list of all our categorical data\n",
    "cat_list = [df.dtypes.index[i] for i in range(len(df.dtypes)) if df.dtypes[i] == 'object']\n",
    "\n",
    "# now we can check each categorical for any anomolies\n",
    "for col in cat_list:\n",
    "    print(col)\n",
    "    print(df[col].unique())\n",
    "    print('-----------')"
   ]
  },
  {
   "cell_type": "markdown",
   "metadata": {},
   "source": [
    "Nothing out of the ordinary when it comes to categorical data. I will eventually turn all of the categorical data into numerical data, but for now I'm just checking if anything is unexpected"
   ]
  },
  {
   "cell_type": "code",
   "execution_count": 109,
   "metadata": {},
   "outputs": [],
   "source": [
    "# df['Central Air'] = df['Central Air'].map({'Y':1, 'N':0})"
   ]
  },
  {
   "cell_type": "code",
   "execution_count": 110,
   "metadata": {},
   "outputs": [
    {
     "data": {
      "text/plain": [
       "39"
      ]
     },
     "execution_count": 110,
     "metadata": {},
     "output_type": "execute_result"
    }
   ],
   "source": [
    "# Now let's make a list of our numerical data\n",
    "num_list = df._get_numeric_data().columns\n",
    "len(num_list)"
   ]
  },
  {
   "cell_type": "code",
   "execution_count": 111,
   "metadata": {},
   "outputs": [
    {
     "data": {
      "text/plain": [
       "(2051, 81)"
      ]
     },
     "execution_count": 111,
     "metadata": {},
     "output_type": "execute_result"
    }
   ],
   "source": [
    "df.shape"
   ]
  },
  {
   "cell_type": "code",
   "execution_count": 112,
   "metadata": {},
   "outputs": [
    {
     "data": {
      "text/plain": [
       "81"
      ]
     },
     "execution_count": 112,
     "metadata": {},
     "output_type": "execute_result"
    }
   ],
   "source": [
    "len(num_list) + len(cat_list)"
   ]
  },
  {
   "cell_type": "markdown",
   "metadata": {},
   "source": [
    "We've covered all our columns, but I'd like to now remove unwanted columns from our numerical list. i.e. SalePrice (that's what we're trying to predict), Id (not relevant), and PID (also not relevant)"
   ]
  },
  {
   "cell_type": "code",
   "execution_count": 113,
   "metadata": {},
   "outputs": [],
   "source": [
    "unwanted = ['SalePrice', 'Id', 'PID']\n",
    "num_list = [ele for ele in num_list if ele not in unwanted]"
   ]
  },
  {
   "cell_type": "markdown",
   "metadata": {},
   "source": [
    "Now to check the numerical data for any potentially incorrect data."
   ]
  },
  {
   "cell_type": "code",
   "execution_count": 114,
   "metadata": {},
   "outputs": [
    {
     "data": {
      "text/plain": [
       "1671    611657\n",
       "1964    591587\n",
       "1692    584500\n",
       "1796    582933\n",
       "151     556581\n",
       "         ...  \n",
       "1518     35311\n",
       "1292     35000\n",
       "1309     34900\n",
       "183      13100\n",
       "1628     12789\n",
       "Name: SalePrice, Length: 2051, dtype: int64"
      ]
     },
     "execution_count": 114,
     "metadata": {},
     "output_type": "execute_result"
    }
   ],
   "source": [
    "# check our target\n",
    "df['SalePrice'].sort_values(ascending=False)"
   ]
  },
  {
   "cell_type": "code",
   "execution_count": 115,
   "metadata": {},
   "outputs": [],
   "source": [
    "# make a function to check the correlation between a list of features and the target\n",
    "def check_corr(df, features, target):\n",
    "    \n",
    "    # combine the features and the target into one list for the heatmap\n",
    "    hm_list = features + [target]\n",
    "    \n",
    "    # plot the correlations between features and the target\n",
    "    plt.figure(figsize=(2, len(features)/2))\n",
    "    sns.heatmap(df[hm_list].corr()[[target]].sort_values(by=target, ascending=False),\n",
    "                vmin=-1,\n",
    "                vmax=1,\n",
    "                cmap='coolwarm',\n",
    "                annot=True\n",
    "               );"
   ]
  },
  {
   "cell_type": "code",
   "execution_count": 116,
   "metadata": {},
   "outputs": [
    {
     "data": {
      "image/png": "[encoded data removed]",
      "text/plain": [
       "<Figure size 144x1296 with 2 Axes>"
      ]
     },
     "metadata": {
      "needs_background": "light"
     },
     "output_type": "display_data"
    }
   ],
   "source": [
    "check_corr(df, num_list, 'SalePrice')"
   ]
  },
  {
   "cell_type": "code",
   "execution_count": 117,
   "metadata": {
    "scrolled": true
   },
   "outputs": [
    {
     "data": {
      "image/png": "[encoded data removed]",
      "text/plain": [
       "<Figure size 180x1980 with 11 Axes>"
      ]
     },
     "metadata": {
      "needs_background": "light"
     },
     "output_type": "display_data"
    }
   ],
   "source": [
    "sns.pairplot(df, \n",
    "             x_vars=['SalePrice'], \n",
    "             y_vars=['Overall Qual', 'Gr Liv Area', 'Garage Area', 'Garage Cars', 'Total Bsmt SF', '1st Flr SF',\n",
    "                     'Year Built', 'Year Remod/Add', 'Full Bath', 'TotRms AbvGrd', 'Mas Vnr Area'\n",
    "                    ]\n",
    "            );"
   ]
  },
  {
   "cell_type": "code",
   "execution_count": 118,
   "metadata": {},
   "outputs": [
    {
     "data": {
      "image/png": "[encoded data removed]",
      "text/plain": [
       "<Figure size 432x288 with 1 Axes>"
      ]
     },
     "metadata": {
      "needs_background": "light"
     },
     "output_type": "display_data"
    }
   ],
   "source": [
    "df['SalePrice'].hist();"
   ]
  },
  {
   "cell_type": "code",
   "execution_count": 119,
   "metadata": {},
   "outputs": [
    {
     "data": {
      "image/png": "[encoded data removed]",
      "text/plain": [
       "<Figure size 432x288 with 1 Axes>"
      ]
     },
     "metadata": {
      "needs_background": "light"
     },
     "output_type": "display_data"
    }
   ],
   "source": [
    "sns.boxplot(df['SalePrice']);"
   ]
  },
  {
   "cell_type": "code",
   "execution_count": 120,
   "metadata": {},
   "outputs": [
    {
     "data": {
      "image/png": "[encoded data removed]",
      "text/plain": [
       "<Figure size 1080x1296 with 36 Axes>"
      ]
     },
     "metadata": {
      "needs_background": "light"
     },
     "output_type": "display_data"
    }
   ],
   "source": [
    "plt.tight_layout;\n",
    "df[num_list].hist(figsize=(15,18));"
   ]
  },
  {
   "cell_type": "markdown",
   "metadata": {},
   "source": [
    "Now let's convert all of out categorical data into numerical data"
   ]
  },
  {
   "cell_type": "markdown",
   "metadata": {},
   "source": [
    "___"
   ]
  },
  {
   "cell_type": "markdown",
   "metadata": {},
   "source": [
    "## Modeling"
   ]
  },
  {
   "cell_type": "code",
   "execution_count": 121,
   "metadata": {},
   "outputs": [],
   "source": [
    "# Let's make a function to build a linear model\n",
    "def make_lr_model(df, features, target):\n",
    "    # define our X and y (predictors and target)\n",
    "    X = df[features]\n",
    "    y = df[target]\n",
    "    \n",
    "    # train test split\n",
    "    X_train, X_holdout, y_train, y_holdout = train_test_split(X,y, random_state=42)\n",
    "    \n",
    "    # inst and fit\n",
    "    mlr = LinearRegression()\n",
    "    mlr.fit(X_train,y_train)\n",
    "    \n",
    "    # print out some info about our model\n",
    "    \n",
    "    print('--------------------------------------------------')\n",
    "    print(f'R2 for training score: {mlr.score(X_train,y_train)}')\n",
    "    print(f'R2 for holdout score: {mlr.score(X_holdout,y_holdout)}')\n",
    "    print('--------------------------------------------------')\n",
    "    print(f'Average Cross Val Score(cv=15): {cross_val_score(mlr, X_holdout, y_holdout, cv=15).mean()}')\n",
    "    print('--------------------------------------------------')\n",
    "    \n",
    "    # refit the model to our entire data frame\n",
    "    mlr = LinearRegression()\n",
    "    mlr.fit(X,y)\n",
    "    \n",
    "    for i, name in enumerate(features):\n",
    "        print(f'{name}\\'s coefficient: {mlr.coef_[i]}')\n",
    "    print('--------------------------------------------------')\n",
    "    print(f'y intercept: {mlr.intercept_}')\n",
    "    print('--------------------------------------------------')\n",
    "    print(f'RMSE: {np.sqrt(mean_squared_error(y, mlr.predict(X)))}') # root mean square error for entire dataset\n",
    "    print('--------------------------------------------------')"
   ]
  },
  {
   "cell_type": "code",
   "execution_count": 122,
   "metadata": {},
   "outputs": [
    {
     "name": "stdout",
     "output_type": "stream",
     "text": [
      "--------------------------------------------------\n",
      "R2 for training score: 0.8303221305896838\n",
      "R2 for holdout score: 0.8633915831062905\n",
      "--------------------------------------------------\n",
      "Average Cross Val Score(cv=15): 0.8749564139580362\n",
      "--------------------------------------------------\n",
      "MS SubClass's coefficient: -152.9737971847373\n",
      "Lot Frontage's coefficient: -41.0983009148552\n",
      "Lot Area's coefficient: 0.5681662844978703\n",
      "Overall Qual's coefficient: 17417.758913556387\n",
      "Overall Cond's coefficient: 3845.414077497625\n",
      "Year Built's coefficient: 351.63499160552396\n",
      "Year Remod/Add's coefficient: 197.97213411023444\n",
      "Mas Vnr Area's coefficient: 32.76803927878843\n",
      "BsmtFin SF 1's coefficient: 10.339836440961047\n",
      "BsmtFin SF 2's coefficient: 1.0510150361649384\n",
      "Bsmt Unf SF's coefficient: -2.177084695065946\n",
      "Total Bsmt SF's coefficient: 9.213766780944209\n",
      "1st Flr SF's coefficient: 22.592150753498185\n",
      "2nd Flr SF's coefficient: 17.555747357210677\n",
      "Low Qual Fin SF's coefficient: -12.976618440675342\n",
      "Gr Liv Area's coefficient: 27.171279674013928\n",
      "Bsmt Full Bath's coefficient: 7032.949305548212\n",
      "Bsmt Half Bath's coefficient: -3173.358817751159\n",
      "Full Bath's coefficient: 1474.4902288039996\n",
      "Half Bath's coefficient: -1627.5758929761823\n",
      "Bedroom AbvGr's coefficient: -7539.516382911758\n",
      "Kitchen AbvGr's coefficient: -14407.063709913973\n",
      "TotRms AbvGrd's coefficient: 4393.077513594805\n",
      "Fireplaces's coefficient: 4139.307588891162\n",
      "Garage Yr Blt's coefficient: -13.240501836254047\n",
      "Garage Cars's coefficient: 8590.938344378068\n",
      "Garage Area's coefficient: 23.676148789282795\n",
      "Wood Deck SF's coefficient: 23.220127165214368\n",
      "Open Porch SF's coefficient: 6.235428288330357\n",
      "Enclosed Porch's coefficient: 21.89340998771125\n",
      "3Ssn Porch's coefficient: 23.198476665633574\n",
      "Screen Porch's coefficient: 82.5214263892813\n",
      "Pool Area's coefficient: -96.39511117128527\n",
      "Misc Val's coefficient: -12.294297479680298\n",
      "Mo Sold's coefficient: 270.42575854132247\n",
      "Yr Sold's coefficient: -654.1299086206061\n",
      "--------------------------------------------------\n",
      "y intercept: 191844.41173081775\n",
      "--------------------------------------------------\n",
      "RMSE: 31660.220418932964\n",
      "--------------------------------------------------\n"
     ]
    }
   ],
   "source": [
    "# model with all our numerical data\n",
    "make_lr_model(df, num_list, 'SalePrice')"
   ]
  },
  {
   "cell_type": "markdown",
   "metadata": {},
   "source": [
    "Not a bad place to start. We should focus on feature engineering to help reduce our RMSE and improve our base model."
   ]
  },
  {
   "cell_type": "code",
   "execution_count": 123,
   "metadata": {},
   "outputs": [
    {
     "name": "stdout",
     "output_type": "stream",
     "text": [
      "--------------------------------------------------\n",
      "R2 for training score: 0.7823634774211837\n",
      "R2 for holdout score: 0.8400837279812203\n",
      "--------------------------------------------------\n",
      "Average Cross Val Score(cv=15): 0.8441015637857986\n",
      "--------------------------------------------------\n",
      "Overall Qual's coefficient: 19117.02280078419\n",
      "Gr Liv Area's coefficient: 45.15480695689348\n",
      "Garage Area's coefficient: 29.988861342455223\n",
      "Garage Cars's coefficient: 5890.098980970819\n",
      "Total Bsmt SF's coefficient: 15.709370198410646\n",
      "1st Flr SF's coefficient: 17.356316906674508\n",
      "Year Built's coefficient: 222.72300745815733\n",
      "Year Remod/Add's coefficient: 376.6660885423525\n",
      "Full Bath's coefficient: -6121.4891471564415\n",
      "TotRms AbvGrd's coefficient: -118.70332628217714\n",
      "Mas Vnr Area's coefficient: 40.08727099676514\n",
      "--------------------------------------------------\n",
      "y intercept: -1244623.0465980268\n",
      "--------------------------------------------------\n",
      "RMSE: 35640.371328855756\n",
      "--------------------------------------------------\n"
     ]
    }
   ],
   "source": [
    "# model with numerical data that has a correlation with Sale Price of at least .5\n",
    "features = ['Overall Qual', 'Gr Liv Area', 'Garage Area', 'Garage Cars', 'Total Bsmt SF', '1st Flr SF',\n",
    "            'Year Built', 'Year Remod/Add', 'Full Bath', 'TotRms AbvGrd', 'Mas Vnr Area']\n",
    "make_lr_model(df, features, 'SalePrice')"
   ]
  },
  {
   "cell_type": "markdown",
   "metadata": {},
   "source": [
    "This model actually performed worse, which tells me there are other important features that are not highly correlated to Sale Price"
   ]
  },
  {
   "cell_type": "code",
   "execution_count": null,
   "metadata": {},
   "outputs": [],
   "source": []
  }
 ],
 "metadata": {
  "kernelspec": {
   "display_name": "Python 3",
   "language": "python",
   "name": "python3"
  },
  "language_info": {
   "codemirror_mode": {
    "name": "ipython",
    "version": 3
   },
   "file_extension": ".py",
   "mimetype": "text/x-python",
   "name": "python",
   "nbconvert_exporter": "python",
   "pygments_lexer": "ipython3",
   "version": "3.7.3"
  }
 },
 "nbformat": 4,
 "nbformat_minor": 2
}
