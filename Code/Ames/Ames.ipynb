{
 "cells": [
  {
   "cell_type": "markdown",
   "metadata": {},
   "source": [
    "# Ames\n",
    "___\n",
    "## Imports / Reads"
   ]
  },
  {
   "cell_type": "code",
   "execution_count": 1,
   "metadata": {},
   "outputs": [],
   "source": [
    "import math\n",
    "import numpy as np\n",
    "import pandas as pd\n",
    "import matplotlib.pyplot as plt\n",
    "import seaborn as sns\n",
    "import missingno as msno"
   ]
  },
  {
   "cell_type": "code",
   "execution_count": 2,
   "metadata": {},
   "outputs": [],
   "source": [
    "df = pd.read_csv('../../Data/Ames/train.csv')\n",
    "test_df = pd.read_csv('../../Data/Ames/test.csv')"
   ]
  },
  {
   "cell_type": "markdown",
   "metadata": {},
   "source": [
    "___\n",
    "## EDA / Cleaning"
   ]
  },
  {
   "cell_type": "code",
   "execution_count": 3,
   "metadata": {
    "scrolled": true
   },
   "outputs": [
    {
     "data": {
      "text/html": [
       "<div>\n",
       "<style scoped>\n",
       "    .dataframe tbody tr th:only-of-type {\n",
       "        vertical-align: middle;\n",
       "    }\n",
       "\n",
       "    .dataframe tbody tr th {\n",
       "        vertical-align: top;\n",
       "    }\n",
       "\n",
       "    .dataframe thead th {\n",
       "        text-align: right;\n",
       "    }\n",
       "</style>\n",
       "<table border=\"1\" class=\"dataframe\">\n",
       "  <thead>\n",
       "    <tr style=\"text-align: right;\">\n",
       "      <th></th>\n",
       "      <th>Id</th>\n",
       "      <th>PID</th>\n",
       "      <th>MS SubClass</th>\n",
       "      <th>MS Zoning</th>\n",
       "      <th>Lot Frontage</th>\n",
       "      <th>Lot Area</th>\n",
       "      <th>Street</th>\n",
       "      <th>Alley</th>\n",
       "      <th>Lot Shape</th>\n",
       "      <th>Land Contour</th>\n",
       "      <th>...</th>\n",
       "      <th>Screen Porch</th>\n",
       "      <th>Pool Area</th>\n",
       "      <th>Pool QC</th>\n",
       "      <th>Fence</th>\n",
       "      <th>Misc Feature</th>\n",
       "      <th>Misc Val</th>\n",
       "      <th>Mo Sold</th>\n",
       "      <th>Yr Sold</th>\n",
       "      <th>Sale Type</th>\n",
       "      <th>SalePrice</th>\n",
       "    </tr>\n",
       "  </thead>\n",
       "  <tbody>\n",
       "    <tr>\n",
       "      <td>0</td>\n",
       "      <td>109</td>\n",
       "      <td>533352170</td>\n",
       "      <td>60</td>\n",
       "      <td>RL</td>\n",
       "      <td>NaN</td>\n",
       "      <td>13517</td>\n",
       "      <td>Pave</td>\n",
       "      <td>NaN</td>\n",
       "      <td>IR1</td>\n",
       "      <td>Lvl</td>\n",
       "      <td>...</td>\n",
       "      <td>0</td>\n",
       "      <td>0</td>\n",
       "      <td>NaN</td>\n",
       "      <td>NaN</td>\n",
       "      <td>NaN</td>\n",
       "      <td>0</td>\n",
       "      <td>3</td>\n",
       "      <td>2010</td>\n",
       "      <td>WD</td>\n",
       "      <td>130500</td>\n",
       "    </tr>\n",
       "    <tr>\n",
       "      <td>1</td>\n",
       "      <td>544</td>\n",
       "      <td>531379050</td>\n",
       "      <td>60</td>\n",
       "      <td>RL</td>\n",
       "      <td>43.0</td>\n",
       "      <td>11492</td>\n",
       "      <td>Pave</td>\n",
       "      <td>NaN</td>\n",
       "      <td>IR1</td>\n",
       "      <td>Lvl</td>\n",
       "      <td>...</td>\n",
       "      <td>0</td>\n",
       "      <td>0</td>\n",
       "      <td>NaN</td>\n",
       "      <td>NaN</td>\n",
       "      <td>NaN</td>\n",
       "      <td>0</td>\n",
       "      <td>4</td>\n",
       "      <td>2009</td>\n",
       "      <td>WD</td>\n",
       "      <td>220000</td>\n",
       "    </tr>\n",
       "    <tr>\n",
       "      <td>2</td>\n",
       "      <td>153</td>\n",
       "      <td>535304180</td>\n",
       "      <td>20</td>\n",
       "      <td>RL</td>\n",
       "      <td>68.0</td>\n",
       "      <td>7922</td>\n",
       "      <td>Pave</td>\n",
       "      <td>NaN</td>\n",
       "      <td>Reg</td>\n",
       "      <td>Lvl</td>\n",
       "      <td>...</td>\n",
       "      <td>0</td>\n",
       "      <td>0</td>\n",
       "      <td>NaN</td>\n",
       "      <td>NaN</td>\n",
       "      <td>NaN</td>\n",
       "      <td>0</td>\n",
       "      <td>1</td>\n",
       "      <td>2010</td>\n",
       "      <td>WD</td>\n",
       "      <td>109000</td>\n",
       "    </tr>\n",
       "    <tr>\n",
       "      <td>3</td>\n",
       "      <td>318</td>\n",
       "      <td>916386060</td>\n",
       "      <td>60</td>\n",
       "      <td>RL</td>\n",
       "      <td>73.0</td>\n",
       "      <td>9802</td>\n",
       "      <td>Pave</td>\n",
       "      <td>NaN</td>\n",
       "      <td>Reg</td>\n",
       "      <td>Lvl</td>\n",
       "      <td>...</td>\n",
       "      <td>0</td>\n",
       "      <td>0</td>\n",
       "      <td>NaN</td>\n",
       "      <td>NaN</td>\n",
       "      <td>NaN</td>\n",
       "      <td>0</td>\n",
       "      <td>4</td>\n",
       "      <td>2010</td>\n",
       "      <td>WD</td>\n",
       "      <td>174000</td>\n",
       "    </tr>\n",
       "    <tr>\n",
       "      <td>4</td>\n",
       "      <td>255</td>\n",
       "      <td>906425045</td>\n",
       "      <td>50</td>\n",
       "      <td>RL</td>\n",
       "      <td>82.0</td>\n",
       "      <td>14235</td>\n",
       "      <td>Pave</td>\n",
       "      <td>NaN</td>\n",
       "      <td>IR1</td>\n",
       "      <td>Lvl</td>\n",
       "      <td>...</td>\n",
       "      <td>0</td>\n",
       "      <td>0</td>\n",
       "      <td>NaN</td>\n",
       "      <td>NaN</td>\n",
       "      <td>NaN</td>\n",
       "      <td>0</td>\n",
       "      <td>3</td>\n",
       "      <td>2010</td>\n",
       "      <td>WD</td>\n",
       "      <td>138500</td>\n",
       "    </tr>\n",
       "  </tbody>\n",
       "</table>\n",
       "<p>5 rows × 81 columns</p>\n",
       "</div>"
      ],
      "text/plain": [
       "    Id        PID  MS SubClass MS Zoning  Lot Frontage  Lot Area Street Alley  \\\n",
       "0  109  533352170           60        RL           NaN     13517   Pave   NaN   \n",
       "1  544  531379050           60        RL          43.0     11492   Pave   NaN   \n",
       "2  153  535304180           20        RL          68.0      7922   Pave   NaN   \n",
       "3  318  916386060           60        RL          73.0      9802   Pave   NaN   \n",
       "4  255  906425045           50        RL          82.0     14235   Pave   NaN   \n",
       "\n",
       "  Lot Shape Land Contour  ... Screen Porch Pool Area Pool QC Fence  \\\n",
       "0       IR1          Lvl  ...            0         0     NaN   NaN   \n",
       "1       IR1          Lvl  ...            0         0     NaN   NaN   \n",
       "2       Reg          Lvl  ...            0         0     NaN   NaN   \n",
       "3       Reg          Lvl  ...            0         0     NaN   NaN   \n",
       "4       IR1          Lvl  ...            0         0     NaN   NaN   \n",
       "\n",
       "  Misc Feature Misc Val Mo Sold Yr Sold  Sale Type  SalePrice  \n",
       "0          NaN        0       3    2010        WD      130500  \n",
       "1          NaN        0       4    2009        WD      220000  \n",
       "2          NaN        0       1    2010        WD      109000  \n",
       "3          NaN        0       4    2010        WD      174000  \n",
       "4          NaN        0       3    2010        WD      138500  \n",
       "\n",
       "[5 rows x 81 columns]"
      ]
     },
     "execution_count": 3,
     "metadata": {},
     "output_type": "execute_result"
    }
   ],
   "source": [
    "df.head()"
   ]
  },
  {
   "cell_type": "code",
   "execution_count": 4,
   "metadata": {
    "scrolled": true
   },
   "outputs": [
    {
     "data": {
      "text/plain": [
       "(2051, 81)"
      ]
     },
     "execution_count": 4,
     "metadata": {},
     "output_type": "execute_result"
    }
   ],
   "source": [
    "df.shape"
   ]
  },
  {
   "cell_type": "code",
   "execution_count": 5,
   "metadata": {},
   "outputs": [
    {
     "data": {
      "text/plain": [
       "{'1st Flr SF',\n",
       " '2nd Flr SF',\n",
       " '3Ssn Porch',\n",
       " 'Alley',\n",
       " 'Bedroom AbvGr',\n",
       " 'Bldg Type',\n",
       " 'Bsmt Cond',\n",
       " 'Bsmt Exposure',\n",
       " 'Bsmt Full Bath',\n",
       " 'Bsmt Half Bath',\n",
       " 'Bsmt Qual',\n",
       " 'Bsmt Unf SF',\n",
       " 'BsmtFin SF 1',\n",
       " 'BsmtFin SF 2',\n",
       " 'BsmtFin Type 1',\n",
       " 'BsmtFin Type 2',\n",
       " 'Central Air',\n",
       " 'Condition 1',\n",
       " 'Condition 2',\n",
       " 'Electrical',\n",
       " 'Enclosed Porch',\n",
       " 'Exter Cond',\n",
       " 'Exter Qual',\n",
       " 'Exterior 1st',\n",
       " 'Exterior 2nd',\n",
       " 'Fence',\n",
       " 'Fireplace Qu',\n",
       " 'Fireplaces',\n",
       " 'Foundation',\n",
       " 'Full Bath',\n",
       " 'Functional',\n",
       " 'Garage Area',\n",
       " 'Garage Cars',\n",
       " 'Garage Cond',\n",
       " 'Garage Finish',\n",
       " 'Garage Qual',\n",
       " 'Garage Type',\n",
       " 'Garage Yr Blt',\n",
       " 'Gr Liv Area',\n",
       " 'Half Bath',\n",
       " 'Heating',\n",
       " 'Heating QC',\n",
       " 'House Style',\n",
       " 'Id',\n",
       " 'Kitchen AbvGr',\n",
       " 'Kitchen Qual',\n",
       " 'Land Contour',\n",
       " 'Land Slope',\n",
       " 'Lot Area',\n",
       " 'Lot Config',\n",
       " 'Lot Frontage',\n",
       " 'Lot Shape',\n",
       " 'Low Qual Fin SF',\n",
       " 'MS SubClass',\n",
       " 'MS Zoning',\n",
       " 'Mas Vnr Area',\n",
       " 'Mas Vnr Type',\n",
       " 'Misc Feature',\n",
       " 'Misc Val',\n",
       " 'Mo Sold',\n",
       " 'Neighborhood',\n",
       " 'Open Porch SF',\n",
       " 'Overall Cond',\n",
       " 'Overall Qual',\n",
       " 'PID',\n",
       " 'Paved Drive',\n",
       " 'Pool Area',\n",
       " 'Pool QC',\n",
       " 'Roof Matl',\n",
       " 'Roof Style',\n",
       " 'Sale Type',\n",
       " 'SalePrice',\n",
       " 'Screen Porch',\n",
       " 'Street',\n",
       " 'TotRms AbvGrd',\n",
       " 'Total Bsmt SF',\n",
       " 'Utilities',\n",
       " 'Wood Deck SF',\n",
       " 'Year Built',\n",
       " 'Year Remod/Add',\n",
       " 'Yr Sold'}"
      ]
     },
     "execution_count": 5,
     "metadata": {},
     "output_type": "execute_result"
    }
   ],
   "source": [
    "columns = set(df.columns)\n",
    "columns"
   ]
  },
  {
   "cell_type": "markdown",
   "metadata": {},
   "source": [
    "___\n",
    "### Missing Data"
   ]
  },
  {
   "cell_type": "code",
   "execution_count": 6,
   "metadata": {},
   "outputs": [
    {
     "data": {
      "text/plain": [
       "Pool QC         2042\n",
       "Misc Feature    1986\n",
       "Alley           1911\n",
       "Fence           1651\n",
       "Fireplace Qu    1000\n",
       "                ... \n",
       "Electrical         0\n",
       "Central Air        0\n",
       "Heating QC         0\n",
       "Sale Type          0\n",
       "Id                 0\n",
       "Length: 81, dtype: int64"
      ]
     },
     "execution_count": 6,
     "metadata": {},
     "output_type": "execute_result"
    }
   ],
   "source": [
    "df.isnull().sum().sort_values(ascending=False)"
   ]
  },
  {
   "cell_type": "code",
   "execution_count": 7,
   "metadata": {},
   "outputs": [
    {
     "data": {
      "image/png": "[encoded data removed]",
      "text/plain": [
       "<Figure size 1800x720 with 2 Axes>"
      ]
     },
     "metadata": {
      "needs_background": "light"
     },
     "output_type": "display_data"
    }
   ],
   "source": [
    "msno.matrix(df);"
   ]
  },
  {
   "cell_type": "code",
   "execution_count": 8,
   "metadata": {},
   "outputs": [
    {
     "name": "stdout",
     "output_type": "stream",
     "text": [
      "Garage Cond has 114 null(s)\n",
      "BsmtFin SF 2 has 1 null(s)\n",
      "Bsmt Exposure has 58 null(s)\n",
      "BsmtFin Type 2 has 56 null(s)\n",
      "Bsmt Qual has 55 null(s)\n",
      "Fireplace Qu has 1000 null(s)\n",
      "BsmtFin SF 1 has 1 null(s)\n",
      "Misc Feature has 1986 null(s)\n",
      "Garage Qual has 114 null(s)\n",
      "Bsmt Cond has 55 null(s)\n",
      "Garage Finish has 114 null(s)\n",
      "Garage Area has 1 null(s)\n",
      "Fence has 1651 null(s)\n",
      "Garage Cars has 1 null(s)\n",
      "Total Bsmt SF has 1 null(s)\n",
      "Pool QC has 2042 null(s)\n",
      "Bsmt Full Bath has 2 null(s)\n",
      "Lot Frontage has 330 null(s)\n",
      "Garage Type has 113 null(s)\n",
      "Mas Vnr Area has 22 null(s)\n",
      "Bsmt Unf SF has 1 null(s)\n",
      "BsmtFin Type 1 has 55 null(s)\n",
      "Bsmt Half Bath has 2 null(s)\n",
      "Mas Vnr Type has 22 null(s)\n",
      "Garage Yr Blt has 114 null(s)\n",
      "Alley has 1911 null(s)\n"
     ]
    }
   ],
   "source": [
    "# lets get a list of how many missing values are in each column with missing values?\n",
    "def null_check(cols):\n",
    "    for col in cols:\n",
    "        if df[col].isnull().sum() > 0:\n",
    "            print(f'{col} has {df[col].isnull().sum()} null(s)')\n",
    "            \n",
    "null_check(columns)"
   ]
  },
  {
   "cell_type": "markdown",
   "metadata": {},
   "source": [
    "Out of all the columns that have null values, the categorical columns can be imputed as 'None' because those houses do not have those features."
   ]
  },
  {
   "cell_type": "code",
   "execution_count": 9,
   "metadata": {},
   "outputs": [
    {
     "name": "stdout",
     "output_type": "stream",
     "text": [
      "BsmtFin SF 2 has 1 null(s)\n",
      "BsmtFin SF 1 has 1 null(s)\n",
      "Garage Area has 1 null(s)\n",
      "Garage Cars has 1 null(s)\n",
      "Total Bsmt SF has 1 null(s)\n",
      "Bsmt Full Bath has 2 null(s)\n",
      "Lot Frontage has 330 null(s)\n",
      "Mas Vnr Area has 22 null(s)\n",
      "Bsmt Unf SF has 1 null(s)\n",
      "Bsmt Half Bath has 2 null(s)\n",
      "Garage Yr Blt has 114 null(s)\n"
     ]
    }
   ],
   "source": [
    "cat_cols = [\n",
    "    'Alley',\n",
    "    'Mas Vnr Type', \n",
    "    'Bsmt Qual', \n",
    "    'Bsmt Cond', \n",
    "    'Bsmt Exposure', \n",
    "    'BsmtFin Type 1', \n",
    "    'BsmtFin Type 2', \n",
    "    'Fireplace Qu', \n",
    "    'Garage Type', \n",
    "    'Garage Finish', \n",
    "    'Garage Qual', \n",
    "    'Garage Cond', \n",
    "    'Pool QC', \n",
    "    'Fence', \n",
    "    'Misc Feature'\n",
    "]\n",
    "\n",
    "[df[col].fillna('None', inplace=True) for col in cat_cols]\n",
    "    \n",
    "null_check(columns)"
   ]
  },
  {
   "cell_type": "markdown",
   "metadata": {},
   "source": [
    "Next the nulls for the basement features can be set to 0 because those houses do not have basements"
   ]
  },
  {
   "cell_type": "code",
   "execution_count": 10,
   "metadata": {},
   "outputs": [],
   "source": [
    "n_index = df.loc[df['Total Bsmt SF'].isnull()].index\n",
    "df.loc[n_index, 'Total Bsmt SF'] = 0\n",
    "\n",
    "n_index = df.loc[df['BsmtFin SF 1'].isnull()].index\n",
    "df.loc[n_index, 'BsmtFin SF 1'] = 0\n",
    "\n",
    "n_index = df.loc[df['BsmtFin SF 2'].isnull()].index\n",
    "df.loc[n_index, 'BsmtFin SF 2'] = 0\n",
    "\n",
    "n_index = df.loc[df['Bsmt Full Bath'].isnull()].index\n",
    "df.loc[n_index, 'Bsmt Full Bath'] = 0\n",
    "\n",
    "n_index = df.loc[df['Bsmt Unf SF'].isnull()].index\n",
    "df.loc[n_index, 'Bsmt Unf SF'] = 0\n",
    "\n",
    "n_index = df.loc[df['Bsmt Half Bath'].isnull()].index\n",
    "df.loc[n_index, 'Bsmt Half Bath'] = 0"
   ]
  },
  {
   "cell_type": "code",
   "execution_count": 11,
   "metadata": {
    "scrolled": true
   },
   "outputs": [
    {
     "name": "stdout",
     "output_type": "stream",
     "text": [
      "Garage Area has 1 null(s)\n",
      "Garage Cars has 1 null(s)\n",
      "Lot Frontage has 330 null(s)\n",
      "Mas Vnr Area has 22 null(s)\n",
      "Garage Yr Blt has 114 null(s)\n"
     ]
    }
   ],
   "source": [
    "null_check(columns)"
   ]
  },
  {
   "cell_type": "markdown",
   "metadata": {},
   "source": [
    "Now to deal with the Garage Cars and Garage Area nulls. For these nulls I can impute them as the median for the type of garage in the same area. This won't be 100% accurate but it will be a good estimate"
   ]
  },
  {
   "cell_type": "code",
   "execution_count": 12,
   "metadata": {
    "scrolled": true
   },
   "outputs": [
    {
     "data": {
      "text/plain": [
       "1712    Detchd\n",
       "Name: Garage Type, dtype: object"
      ]
     },
     "execution_count": 12,
     "metadata": {},
     "output_type": "execute_result"
    }
   ],
   "source": [
    "df.loc[df['Garage Cars'].isnull()]['Garage Type']"
   ]
  },
  {
   "cell_type": "code",
   "execution_count": 13,
   "metadata": {},
   "outputs": [
    {
     "data": {
      "text/plain": [
       "1712    IDOTRR\n",
       "Name: Neighborhood, dtype: object"
      ]
     },
     "execution_count": 13,
     "metadata": {},
     "output_type": "execute_result"
    }
   ],
   "source": [
    "df.loc[df['Garage Cars'].isnull()]['Neighborhood']"
   ]
  },
  {
   "cell_type": "code",
   "execution_count": 14,
   "metadata": {
    "scrolled": true
   },
   "outputs": [
    {
     "data": {
      "text/plain": [
       "1.0"
      ]
     },
     "execution_count": 14,
     "metadata": {},
     "output_type": "execute_result"
    }
   ],
   "source": [
    "df.loc[(df['Garage Type'] == 'Detchd') & (df['Neighborhood'] == 'IDOTRR')]['Garage Cars'].median()"
   ]
  },
  {
   "cell_type": "code",
   "execution_count": 15,
   "metadata": {},
   "outputs": [],
   "source": [
    "df.loc[1712, 'Garage Cars'] = 1"
   ]
  },
  {
   "cell_type": "code",
   "execution_count": 16,
   "metadata": {},
   "outputs": [
    {
     "name": "stdout",
     "output_type": "stream",
     "text": [
      "Garage Area has 1 null(s)\n",
      "Lot Frontage has 330 null(s)\n",
      "Mas Vnr Area has 22 null(s)\n",
      "Garage Yr Blt has 114 null(s)\n"
     ]
    }
   ],
   "source": [
    "null_check(columns)"
   ]
  },
  {
   "cell_type": "code",
   "execution_count": 17,
   "metadata": {},
   "outputs": [
    {
     "data": {
      "text/plain": [
       "1712    Detchd\n",
       "Name: Garage Type, dtype: object"
      ]
     },
     "execution_count": 17,
     "metadata": {},
     "output_type": "execute_result"
    }
   ],
   "source": [
    "df.loc[df['Garage Area'].isnull()]['Garage Type']"
   ]
  },
  {
   "cell_type": "code",
   "execution_count": 18,
   "metadata": {},
   "outputs": [
    {
     "data": {
      "text/plain": [
       "1712    IDOTRR\n",
       "Name: Neighborhood, dtype: object"
      ]
     },
     "execution_count": 18,
     "metadata": {},
     "output_type": "execute_result"
    }
   ],
   "source": [
    "df.loc[df['Garage Area'].isnull()]['Neighborhood']"
   ]
  },
  {
   "cell_type": "code",
   "execution_count": 19,
   "metadata": {},
   "outputs": [
    {
     "data": {
      "text/plain": [
       "338.0"
      ]
     },
     "execution_count": 19,
     "metadata": {},
     "output_type": "execute_result"
    }
   ],
   "source": [
    "df.loc[(df['Garage Type'] == 'Detchd') & (df['Neighborhood'] == 'IDOTRR')]['Garage Area'].median()"
   ]
  },
  {
   "cell_type": "code",
   "execution_count": 20,
   "metadata": {},
   "outputs": [],
   "source": [
    "df.loc[1712, 'Garage Area'] = 338"
   ]
  },
  {
   "cell_type": "code",
   "execution_count": 21,
   "metadata": {},
   "outputs": [
    {
     "name": "stdout",
     "output_type": "stream",
     "text": [
      "Lot Frontage has 330 null(s)\n",
      "Mas Vnr Area has 22 null(s)\n",
      "Garage Yr Blt has 114 null(s)\n"
     ]
    }
   ],
   "source": [
    "null_check(columns)"
   ]
  },
  {
   "cell_type": "code",
   "execution_count": 22,
   "metadata": {},
   "outputs": [
    {
     "data": {
      "text/plain": [
       "22      None\n",
       "41      None\n",
       "86      None\n",
       "212     None\n",
       "276     None\n",
       "338     None\n",
       "431     None\n",
       "451     None\n",
       "591     None\n",
       "844     None\n",
       "913     None\n",
       "939     None\n",
       "1025    None\n",
       "1244    None\n",
       "1306    None\n",
       "1430    None\n",
       "1434    None\n",
       "1606    None\n",
       "1699    None\n",
       "1815    None\n",
       "1820    None\n",
       "1941    None\n",
       "Name: Mas Vnr Type, dtype: object"
      ]
     },
     "execution_count": 22,
     "metadata": {},
     "output_type": "execute_result"
    }
   ],
   "source": [
    "n_index = df.loc[df['Mas Vnr Area'].isnull()].index\n",
    "df.iloc[n_index]['Mas Vnr Type']"
   ]
  },
  {
   "cell_type": "markdown",
   "metadata": {},
   "source": [
    "Our Mas Vnr Area nulls can be set to 0 because none of them have Masonry Veneer"
   ]
  },
  {
   "cell_type": "code",
   "execution_count": 23,
   "metadata": {},
   "outputs": [
    {
     "name": "stdout",
     "output_type": "stream",
     "text": [
      "Lot Frontage has 330 null(s)\n",
      "Garage Yr Blt has 114 null(s)\n"
     ]
    }
   ],
   "source": [
    "df.loc[n_index, 'Mas Vnr Area'] = 0\n",
    "null_check(columns)"
   ]
  },
  {
   "cell_type": "code",
   "execution_count": 24,
   "metadata": {},
   "outputs": [
    {
     "name": "stdout",
     "output_type": "stream",
     "text": [
      "Lot Frontage has 330 null(s)\n",
      "Garage Yr Blt has 1 null(s)\n"
     ]
    }
   ],
   "source": [
    "# here we are setting all the nulls . for Garage Year Built to be 0 where there is no garage\n",
    "n_index = df.loc[(df['Garage Yr Blt'].isnull()) & (df['Garage Type'] == 'None')].index\n",
    "df.loc[n_index, 'Garage Yr Blt'] = 0\n",
    "\n",
    "null_check(columns)"
   ]
  },
  {
   "cell_type": "code",
   "execution_count": 25,
   "metadata": {},
   "outputs": [
    {
     "data": {
      "text/html": [
       "<div>\n",
       "<style scoped>\n",
       "    .dataframe tbody tr th:only-of-type {\n",
       "        vertical-align: middle;\n",
       "    }\n",
       "\n",
       "    .dataframe tbody tr th {\n",
       "        vertical-align: top;\n",
       "    }\n",
       "\n",
       "    .dataframe thead th {\n",
       "        text-align: right;\n",
       "    }\n",
       "</style>\n",
       "<table border=\"1\" class=\"dataframe\">\n",
       "  <thead>\n",
       "    <tr style=\"text-align: right;\">\n",
       "      <th></th>\n",
       "      <th>Garage Type</th>\n",
       "      <th>Neighborhood</th>\n",
       "    </tr>\n",
       "  </thead>\n",
       "  <tbody>\n",
       "    <tr>\n",
       "      <td>1712</td>\n",
       "      <td>Detchd</td>\n",
       "      <td>IDOTRR</td>\n",
       "    </tr>\n",
       "  </tbody>\n",
       "</table>\n",
       "</div>"
      ],
      "text/plain": [
       "     Garage Type Neighborhood\n",
       "1712      Detchd       IDOTRR"
      ]
     },
     "execution_count": 25,
     "metadata": {},
     "output_type": "execute_result"
    }
   ],
   "source": [
    "df.loc[df['Garage Yr Blt'].isnull()][['Garage Type', 'Neighborhood']]"
   ]
  },
  {
   "cell_type": "code",
   "execution_count": 26,
   "metadata": {},
   "outputs": [
    {
     "data": {
      "text/plain": [
       "1942.0"
      ]
     },
     "execution_count": 26,
     "metadata": {},
     "output_type": "execute_result"
    }
   ],
   "source": [
    "df.loc[(df['Garage Type'] == 'Detchd') & (df['Neighborhood'] == 'IDOTRR')]['Garage Yr Blt'].median()"
   ]
  },
  {
   "cell_type": "markdown",
   "metadata": {},
   "source": [
    "again we're just going to impute this missing value as the median year for houses in that area with a detached garage"
   ]
  },
  {
   "cell_type": "code",
   "execution_count": 27,
   "metadata": {},
   "outputs": [
    {
     "name": "stdout",
     "output_type": "stream",
     "text": [
      "Lot Frontage has 330 null(s)\n"
     ]
    }
   ],
   "source": [
    "df.loc[1712, 'Garage Yr Blt'] = 1942\n",
    "null_check(columns)"
   ]
  },
  {
   "cell_type": "markdown",
   "metadata": {},
   "source": [
    "We're going to repeat the same process for Lot Frontage as well"
   ]
  },
  {
   "cell_type": "code",
   "execution_count": 28,
   "metadata": {
    "scrolled": false
   },
   "outputs": [],
   "source": [
    "# Filling in nulls for Lot Frontage\n",
    "\n",
    "mini_df = df.loc[df['Lot Frontage'].isnull()][['Lot Area', 'Neighborhood', 'Lot Shape', 'Lot Config']]\n",
    "\n",
    "while mini_df.shape[0] > 0:\n",
    "    \n",
    "    # get the values from the first entry in the list\n",
    "    nhood = mini_df['Neighborhood'].values[0]\n",
    "    lshape = mini_df['Lot Shape'].values[0]\n",
    "    lconfig = mini_df['Lot Config'].values[0]\n",
    "    \n",
    "    # get the median Lot Frontage value for places matching the values of the first in the mini df\n",
    "    n_index = df.loc[(df['Neighborhood'] == nhood) &\n",
    "                 (df['Lot Shape'] == lshape) &\n",
    "                 (df['Lot Config'] == lconfig)\n",
    "                ].index\n",
    "    \n",
    "    lfrontage_median = df.loc[n_index, 'Lot Frontage'].median()\n",
    "    \n",
    "    # if our Lot Frontage median is nan we will broaden our scopes to get a numerical median\n",
    "    if math.isnan(lfrontage_median):\n",
    "        n_index = df.loc[(df['Neighborhood'] == nhood) &\n",
    "                         (df['Lot Config'] == lconfig)\n",
    "                        ].index\n",
    "        lfrontage_median = df.loc[n_index, 'Lot Frontage'].median()\n",
    "        \n",
    "    # try a secondary method if our Lot Frontage median is still nan\n",
    "    if math.isnan(lfrontage_median):\n",
    "        n_index = df.loc[(df['Lot Shape'] == lshape) &\n",
    "                         (df['Lot Config'] == lconfig)\n",
    "                        ].index\n",
    "        lfrontage_median = df.loc[n_index, 'Lot Frontage'].median()\n",
    "        \n",
    "    # impute nulls\n",
    "    n_index = df.loc[(df['Lot Frontage'].isnull()) &\n",
    "                 (df['Neighborhood'] == nhood) &\n",
    "                 (df['Lot Shape'] == lshape) &\n",
    "                 (df['Lot Config'] == lconfig)\n",
    "                ].index\n",
    "    df.loc[n_index, 'Lot Frontage'] = lfrontage_median\n",
    "    \n",
    "    # reset mini df\n",
    "    mini_df = df.loc[df['Lot Frontage'].isnull()][['Lot Area', 'Neighborhood', 'Lot Shape', 'Lot Config']]"
   ]
  },
  {
   "cell_type": "code",
   "execution_count": 29,
   "metadata": {},
   "outputs": [
    {
     "data": {
      "image/png": "[encoded data removed]",
      "text/plain": [
       "<Figure size 1800x720 with 2 Axes>"
      ]
     },
     "metadata": {
      "needs_background": "light"
     },
     "output_type": "display_data"
    }
   ],
   "source": [
    "msno.matrix(df);"
   ]
  },
  {
   "cell_type": "code",
   "execution_count": 30,
   "metadata": {},
   "outputs": [],
   "source": [
    "# save cleaned version\n",
    "df.to_csv('../../Data/Ames/cleaned.csv', index=False)"
   ]
  },
  {
   "cell_type": "markdown",
   "metadata": {},
   "source": [
    "___"
   ]
  },
  {
   "cell_type": "code",
   "execution_count": null,
   "metadata": {},
   "outputs": [],
   "source": []
  }
 ],
 "metadata": {
  "kernelspec": {
   "display_name": "Python 3",
   "language": "python",
   "name": "python3"
  },
  "language_info": {
   "codemirror_mode": {
    "name": "ipython",
    "version": 3
   },
   "file_extension": ".py",
   "mimetype": "text/x-python",
   "name": "python",
   "nbconvert_exporter": "python",
   "pygments_lexer": "ipython3",
   "version": "3.7.3"
  }
 },
 "nbformat": 4,
 "nbformat_minor": 2
}
