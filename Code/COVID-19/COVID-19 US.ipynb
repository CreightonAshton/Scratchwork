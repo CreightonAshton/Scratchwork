{
 "cells": [
  {
   "cell_type": "markdown",
   "metadata": {},
   "source": [
    "# COVID-19 US\n",
    "___\n",
    "data provided by: https://www.cdc.gov/coronavirus/2019-ncov/cases-updates/cases-in-us.html"
   ]
  },
  {
   "cell_type": "code",
   "execution_count": 3,
   "metadata": {},
   "outputs": [],
   "source": [
    "# import\n",
    "import pandas as pd\n",
    "import numpy as np\n",
    "import matplotlib.pyplot as plt\n",
    "import missingno as msno"
   ]
  },
  {
   "cell_type": "code",
   "execution_count": 4,
   "metadata": {},
   "outputs": [
    {
     "data": {
      "text/html": [
       "<div>\n",
       "<style scoped>\n",
       "    .dataframe tbody tr th:only-of-type {\n",
       "        vertical-align: middle;\n",
       "    }\n",
       "\n",
       "    .dataframe tbody tr th {\n",
       "        vertical-align: top;\n",
       "    }\n",
       "\n",
       "    .dataframe thead th {\n",
       "        text-align: right;\n",
       "    }\n",
       "</style>\n",
       "<table border=\"1\" class=\"dataframe\">\n",
       "  <thead>\n",
       "    <tr style=\"text-align: right;\">\n",
       "      <th></th>\n",
       "      <th>Jurisdiction</th>\n",
       "      <th>Range</th>\n",
       "      <th>Cases Reported</th>\n",
       "      <th>Community Transmission</th>\n",
       "      <th>URL</th>\n",
       "    </tr>\n",
       "  </thead>\n",
       "  <tbody>\n",
       "    <tr>\n",
       "      <td>0</td>\n",
       "      <td>Alabama</td>\n",
       "      <td>5001 to 10000</td>\n",
       "      <td>5668</td>\n",
       "      <td>Yes, defined area(s)</td>\n",
       "      <td>http://www.adph.org/</td>\n",
       "    </tr>\n",
       "    <tr>\n",
       "      <td>1</td>\n",
       "      <td>Alaska</td>\n",
       "      <td>101 to 1000</td>\n",
       "      <td>329</td>\n",
       "      <td>Yes, defined area(s)</td>\n",
       "      <td>http://dhss.alaska.gov/Pages/default.aspx</td>\n",
       "    </tr>\n",
       "    <tr>\n",
       "      <td>2</td>\n",
       "      <td>American Samoa</td>\n",
       "      <td>None</td>\n",
       "      <td>None</td>\n",
       "      <td>NaN</td>\n",
       "      <td>http://dhss.as/</td>\n",
       "    </tr>\n",
       "    <tr>\n",
       "      <td>3</td>\n",
       "      <td>Arizona</td>\n",
       "      <td>5001 to 10000</td>\n",
       "      <td>5251</td>\n",
       "      <td>Yes, widespread</td>\n",
       "      <td>http://www.azdhs.gov/</td>\n",
       "    </tr>\n",
       "    <tr>\n",
       "      <td>4</td>\n",
       "      <td>Arkansas</td>\n",
       "      <td>1001 to 5000</td>\n",
       "      <td>2262</td>\n",
       "      <td>Yes, widespread</td>\n",
       "      <td>https://www.healthy.arkansas.gov/</td>\n",
       "    </tr>\n",
       "  </tbody>\n",
       "</table>\n",
       "</div>"
      ],
      "text/plain": [
       "     Jurisdiction          Range Cases Reported Community Transmission  \\\n",
       "0         Alabama  5001 to 10000           5668   Yes, defined area(s)   \n",
       "1          Alaska    101 to 1000            329   Yes, defined area(s)   \n",
       "2  American Samoa           None           None                    NaN   \n",
       "3         Arizona  5001 to 10000           5251        Yes, widespread   \n",
       "4        Arkansas   1001 to 5000           2262        Yes, widespread   \n",
       "\n",
       "                                         URL  \n",
       "0                       http://www.adph.org/  \n",
       "1  http://dhss.alaska.gov/Pages/default.aspx  \n",
       "2                            http://dhss.as/  \n",
       "3                      http://www.azdhs.gov/  \n",
       "4          https://www.healthy.arkansas.gov/  "
      ]
     },
     "execution_count": 4,
     "metadata": {},
     "output_type": "execute_result"
    }
   ],
   "source": [
    "# read in data\n",
    "df = pd.read_csv('../../Data/COVID-19/States Reporting Cases of COVID-19 to CDC_.csv')\n",
    "df.head()"
   ]
  },
  {
   "cell_type": "code",
   "execution_count": 5,
   "metadata": {},
   "outputs": [
    {
     "data": {
      "text/plain": [
       "(59, 5)"
      ]
     },
     "execution_count": 5,
     "metadata": {},
     "output_type": "execute_result"
    }
   ],
   "source": [
    "df.shape"
   ]
  }
 ],
 "metadata": {
  "kernelspec": {
   "display_name": "Python 3",
   "language": "python",
   "name": "python3"
  },
  "language_info": {
   "codemirror_mode": {
    "name": "ipython",
    "version": 3
   },
   "file_extension": ".py",
   "mimetype": "text/x-python",
   "name": "python",
   "nbconvert_exporter": "python",
   "pygments_lexer": "ipython3",
   "version": "3.7.3"
  }
 },
 "nbformat": 4,
 "nbformat_minor": 2
}
