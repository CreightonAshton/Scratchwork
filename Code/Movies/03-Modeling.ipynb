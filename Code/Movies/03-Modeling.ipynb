{
 "cells": [
  {
   "cell_type": "markdown",
   "metadata": {},
   "source": [
    "# Modeling\n",
    "___"
   ]
  },
  {
   "cell_type": "code",
   "execution_count": 1,
   "metadata": {},
   "outputs": [],
   "source": [
    "# imports\n",
    "import pandas as pd\n",
    "import numpy as np\n",
    "import matplotlib.pyplot as plt\n",
    "import seaborn as sns\n",
    "import scipy.stats\n",
    "\n",
    "from scipy.sparse import csr_matrix, save_npz, load_npz\n",
    "\n",
    "from sklearn.linear_model import LinearRegression, Ridge, Lasso, RidgeCV, LassoCV\n",
    "from sklearn.preprocessing import PolynomialFeatures, StandardScaler\n",
    "from sklearn.model_selection import train_test_split\n",
    "from sklearn.metrics import r2_score, mean_squared_error"
   ]
  },
  {
   "cell_type": "code",
   "execution_count": 2,
   "metadata": {},
   "outputs": [],
   "source": [
    "# read in files\n",
    "cleaned_df = pd.read_csv('../../Data/Movies/IMDB_Movies_cleaned_v02.csv')\n",
    "sparse_dummy = load_npz('../../Data/Movies/sparse_dummy.npz')\n",
    "dummy_cols = np.loadtxt('../../Data/Movies/dummy_cols.csv', dtype=str)"
   ]
  },
  {
   "cell_type": "markdown",
   "metadata": {},
   "source": [
    "___\n",
    "## Polynomial Features"
   ]
  },
  {
   "cell_type": "code",
   "execution_count": 3,
   "metadata": {
    "scrolled": false
   },
   "outputs": [
    {
     "data": {
      "text/html": [
       "<div>\n",
       "<style scoped>\n",
       "    .dataframe tbody tr th:only-of-type {\n",
       "        vertical-align: middle;\n",
       "    }\n",
       "\n",
       "    .dataframe tbody tr th {\n",
       "        vertical-align: top;\n",
       "    }\n",
       "\n",
       "    .dataframe thead th {\n",
       "        text-align: right;\n",
       "    }\n",
       "</style>\n",
       "<table border=\"1\" class=\"dataframe\">\n",
       "  <thead>\n",
       "    <tr style=\"text-align: right;\">\n",
       "      <th></th>\n",
       "      <th>title</th>\n",
       "      <th>year</th>\n",
       "      <th>genre</th>\n",
       "      <th>duration</th>\n",
       "      <th>country</th>\n",
       "      <th>language</th>\n",
       "      <th>director</th>\n",
       "      <th>writer</th>\n",
       "      <th>production_company</th>\n",
       "      <th>actors</th>\n",
       "      <th>avg_vote</th>\n",
       "      <th>votes</th>\n",
       "      <th>budget</th>\n",
       "      <th>usa_gross_income</th>\n",
       "      <th>worldwide_gross_income</th>\n",
       "      <th>metascore</th>\n",
       "      <th>reviews_from_users</th>\n",
       "      <th>reviews_from_critics</th>\n",
       "    </tr>\n",
       "  </thead>\n",
       "  <tbody>\n",
       "    <tr>\n",
       "      <td>0</td>\n",
       "      <td>Metropolis</td>\n",
       "      <td>1927</td>\n",
       "      <td>Drama, Sci-Fi</td>\n",
       "      <td>153</td>\n",
       "      <td>Germany</td>\n",
       "      <td>German</td>\n",
       "      <td>Fritz Lang</td>\n",
       "      <td>Thea von Harbou, Thea von Harbou</td>\n",
       "      <td>Universum Film (UFA)</td>\n",
       "      <td>Alfred Abel, Gustav Fröhlich, Rudolf Klein-Rog...</td>\n",
       "      <td>8.3</td>\n",
       "      <td>148396</td>\n",
       "      <td>780000</td>\n",
       "      <td>1236166</td>\n",
       "      <td>1349711</td>\n",
       "      <td>98.0</td>\n",
       "      <td>471.0</td>\n",
       "      <td>194.0</td>\n",
       "    </tr>\n",
       "    <tr>\n",
       "      <td>1</td>\n",
       "      <td>City Lights</td>\n",
       "      <td>1931</td>\n",
       "      <td>Comedy, Drama, Romance</td>\n",
       "      <td>87</td>\n",
       "      <td>USA</td>\n",
       "      <td>English</td>\n",
       "      <td>Charles Chaplin</td>\n",
       "      <td>Charles Chaplin</td>\n",
       "      <td>Charles Chaplin Productions</td>\n",
       "      <td>Virginia Cherrill, Florence Lee, Harry Myers, ...</td>\n",
       "      <td>8.5</td>\n",
       "      <td>152716</td>\n",
       "      <td>1500000</td>\n",
       "      <td>19181</td>\n",
       "      <td>32609</td>\n",
       "      <td>99.0</td>\n",
       "      <td>270.0</td>\n",
       "      <td>120.0</td>\n",
       "    </tr>\n",
       "    <tr>\n",
       "      <td>2</td>\n",
       "      <td>Modern Times</td>\n",
       "      <td>1936</td>\n",
       "      <td>Comedy, Drama, Family</td>\n",
       "      <td>87</td>\n",
       "      <td>USA</td>\n",
       "      <td>English</td>\n",
       "      <td>Charles Chaplin</td>\n",
       "      <td>Charles Chaplin</td>\n",
       "      <td>Charles Chaplin Productions</td>\n",
       "      <td>Charles Chaplin, Paulette Goddard, Henry Bergm...</td>\n",
       "      <td>8.5</td>\n",
       "      <td>197969</td>\n",
       "      <td>1500000</td>\n",
       "      <td>163577</td>\n",
       "      <td>445226</td>\n",
       "      <td>96.0</td>\n",
       "      <td>262.0</td>\n",
       "      <td>146.0</td>\n",
       "    </tr>\n",
       "    <tr>\n",
       "      <td>3</td>\n",
       "      <td>Snow White and the Seven Dwarfs</td>\n",
       "      <td>1937</td>\n",
       "      <td>Animation, Family, Fantasy</td>\n",
       "      <td>83</td>\n",
       "      <td>USA</td>\n",
       "      <td>English</td>\n",
       "      <td>William Cottrell, David Hand</td>\n",
       "      <td>Jacob Grimm, Wilhelm Grimm</td>\n",
       "      <td>Walt Disney Productions</td>\n",
       "      <td>Roy Atwell, Stuart Buchanan, Adriana Caselotti...</td>\n",
       "      <td>7.6</td>\n",
       "      <td>168735</td>\n",
       "      <td>1499000</td>\n",
       "      <td>184925486</td>\n",
       "      <td>184925486</td>\n",
       "      <td>95.0</td>\n",
       "      <td>229.0</td>\n",
       "      <td>166.0</td>\n",
       "    </tr>\n",
       "    <tr>\n",
       "      <td>4</td>\n",
       "      <td>Gone with the Wind</td>\n",
       "      <td>1939</td>\n",
       "      <td>Drama, History, Romance</td>\n",
       "      <td>238</td>\n",
       "      <td>USA</td>\n",
       "      <td>English</td>\n",
       "      <td>Victor Fleming, George Cukor</td>\n",
       "      <td>Margaret Mitchell, Sidney Howard</td>\n",
       "      <td>Selznick International Pictures</td>\n",
       "      <td>Thomas Mitchell, Barbara O'Neil, Vivien Leigh,...</td>\n",
       "      <td>8.1</td>\n",
       "      <td>269664</td>\n",
       "      <td>3977000</td>\n",
       "      <td>200852579</td>\n",
       "      <td>402352579</td>\n",
       "      <td>97.0</td>\n",
       "      <td>808.0</td>\n",
       "      <td>183.0</td>\n",
       "    </tr>\n",
       "  </tbody>\n",
       "</table>\n",
       "</div>"
      ],
      "text/plain": [
       "                             title  year                       genre  \\\n",
       "0                       Metropolis  1927               Drama, Sci-Fi   \n",
       "1                      City Lights  1931      Comedy, Drama, Romance   \n",
       "2                     Modern Times  1936       Comedy, Drama, Family   \n",
       "3  Snow White and the Seven Dwarfs  1937  Animation, Family, Fantasy   \n",
       "4               Gone with the Wind  1939     Drama, History, Romance   \n",
       "\n",
       "   duration  country language                      director  \\\n",
       "0       153  Germany   German                    Fritz Lang   \n",
       "1        87      USA  English               Charles Chaplin   \n",
       "2        87      USA  English               Charles Chaplin   \n",
       "3        83      USA  English  William Cottrell, David Hand   \n",
       "4       238      USA  English  Victor Fleming, George Cukor   \n",
       "\n",
       "                             writer               production_company  \\\n",
       "0  Thea von Harbou, Thea von Harbou             Universum Film (UFA)   \n",
       "1                   Charles Chaplin      Charles Chaplin Productions   \n",
       "2                   Charles Chaplin      Charles Chaplin Productions   \n",
       "3        Jacob Grimm, Wilhelm Grimm          Walt Disney Productions   \n",
       "4  Margaret Mitchell, Sidney Howard  Selznick International Pictures   \n",
       "\n",
       "                                              actors  avg_vote   votes  \\\n",
       "0  Alfred Abel, Gustav Fröhlich, Rudolf Klein-Rog...       8.3  148396   \n",
       "1  Virginia Cherrill, Florence Lee, Harry Myers, ...       8.5  152716   \n",
       "2  Charles Chaplin, Paulette Goddard, Henry Bergm...       8.5  197969   \n",
       "3  Roy Atwell, Stuart Buchanan, Adriana Caselotti...       7.6  168735   \n",
       "4  Thomas Mitchell, Barbara O'Neil, Vivien Leigh,...       8.1  269664   \n",
       "\n",
       "    budget  usa_gross_income  worldwide_gross_income  metascore  \\\n",
       "0   780000           1236166                 1349711       98.0   \n",
       "1  1500000             19181                   32609       99.0   \n",
       "2  1500000            163577                  445226       96.0   \n",
       "3  1499000         184925486               184925486       95.0   \n",
       "4  3977000         200852579               402352579       97.0   \n",
       "\n",
       "   reviews_from_users  reviews_from_critics  \n",
       "0               471.0                 194.0  \n",
       "1               270.0                 120.0  \n",
       "2               262.0                 146.0  \n",
       "3               229.0                 166.0  \n",
       "4               808.0                 183.0  "
      ]
     },
     "execution_count": 3,
     "metadata": {},
     "output_type": "execute_result"
    }
   ],
   "source": [
    "cleaned_df.head()"
   ]
  },
  {
   "cell_type": "code",
   "execution_count": 4,
   "metadata": {},
   "outputs": [
    {
     "data": {
      "text/html": [
       "<div>\n",
       "<style scoped>\n",
       "    .dataframe tbody tr th:only-of-type {\n",
       "        vertical-align: middle;\n",
       "    }\n",
       "\n",
       "    .dataframe tbody tr th {\n",
       "        vertical-align: top;\n",
       "    }\n",
       "\n",
       "    .dataframe thead th {\n",
       "        text-align: right;\n",
       "    }\n",
       "</style>\n",
       "<table border=\"1\" class=\"dataframe\">\n",
       "  <thead>\n",
       "    <tr style=\"text-align: right;\">\n",
       "      <th></th>\n",
       "      <th>year</th>\n",
       "      <th>duration</th>\n",
       "      <th>avg_vote</th>\n",
       "      <th>votes</th>\n",
       "      <th>budget</th>\n",
       "      <th>metascore</th>\n",
       "      <th>reviews_from_users</th>\n",
       "      <th>reviews_from_critics</th>\n",
       "      <th>year^2</th>\n",
       "      <th>year duration</th>\n",
       "      <th>...</th>\n",
       "      <th>budget^2</th>\n",
       "      <th>budget metascore</th>\n",
       "      <th>budget reviews_from_users</th>\n",
       "      <th>budget reviews_from_critics</th>\n",
       "      <th>metascore^2</th>\n",
       "      <th>metascore reviews_from_users</th>\n",
       "      <th>metascore reviews_from_critics</th>\n",
       "      <th>reviews_from_users^2</th>\n",
       "      <th>reviews_from_users reviews_from_critics</th>\n",
       "      <th>reviews_from_critics^2</th>\n",
       "    </tr>\n",
       "  </thead>\n",
       "  <tbody>\n",
       "    <tr>\n",
       "      <td>0</td>\n",
       "      <td>1927.0</td>\n",
       "      <td>153.0</td>\n",
       "      <td>8.3</td>\n",
       "      <td>148396.0</td>\n",
       "      <td>780000.0</td>\n",
       "      <td>98.0</td>\n",
       "      <td>471.0</td>\n",
       "      <td>194.0</td>\n",
       "      <td>3713329.0</td>\n",
       "      <td>294831.0</td>\n",
       "      <td>...</td>\n",
       "      <td>6.084000e+11</td>\n",
       "      <td>76440000.0</td>\n",
       "      <td>3.673800e+08</td>\n",
       "      <td>151320000.0</td>\n",
       "      <td>9604.0</td>\n",
       "      <td>46158.0</td>\n",
       "      <td>19012.0</td>\n",
       "      <td>221841.0</td>\n",
       "      <td>91374.0</td>\n",
       "      <td>37636.0</td>\n",
       "    </tr>\n",
       "    <tr>\n",
       "      <td>1</td>\n",
       "      <td>1931.0</td>\n",
       "      <td>87.0</td>\n",
       "      <td>8.5</td>\n",
       "      <td>152716.0</td>\n",
       "      <td>1500000.0</td>\n",
       "      <td>99.0</td>\n",
       "      <td>270.0</td>\n",
       "      <td>120.0</td>\n",
       "      <td>3728761.0</td>\n",
       "      <td>167997.0</td>\n",
       "      <td>...</td>\n",
       "      <td>2.250000e+12</td>\n",
       "      <td>148500000.0</td>\n",
       "      <td>4.050000e+08</td>\n",
       "      <td>180000000.0</td>\n",
       "      <td>9801.0</td>\n",
       "      <td>26730.0</td>\n",
       "      <td>11880.0</td>\n",
       "      <td>72900.0</td>\n",
       "      <td>32400.0</td>\n",
       "      <td>14400.0</td>\n",
       "    </tr>\n",
       "    <tr>\n",
       "      <td>2</td>\n",
       "      <td>1936.0</td>\n",
       "      <td>87.0</td>\n",
       "      <td>8.5</td>\n",
       "      <td>197969.0</td>\n",
       "      <td>1500000.0</td>\n",
       "      <td>96.0</td>\n",
       "      <td>262.0</td>\n",
       "      <td>146.0</td>\n",
       "      <td>3748096.0</td>\n",
       "      <td>168432.0</td>\n",
       "      <td>...</td>\n",
       "      <td>2.250000e+12</td>\n",
       "      <td>144000000.0</td>\n",
       "      <td>3.930000e+08</td>\n",
       "      <td>219000000.0</td>\n",
       "      <td>9216.0</td>\n",
       "      <td>25152.0</td>\n",
       "      <td>14016.0</td>\n",
       "      <td>68644.0</td>\n",
       "      <td>38252.0</td>\n",
       "      <td>21316.0</td>\n",
       "    </tr>\n",
       "    <tr>\n",
       "      <td>3</td>\n",
       "      <td>1937.0</td>\n",
       "      <td>83.0</td>\n",
       "      <td>7.6</td>\n",
       "      <td>168735.0</td>\n",
       "      <td>1499000.0</td>\n",
       "      <td>95.0</td>\n",
       "      <td>229.0</td>\n",
       "      <td>166.0</td>\n",
       "      <td>3751969.0</td>\n",
       "      <td>160771.0</td>\n",
       "      <td>...</td>\n",
       "      <td>2.247001e+12</td>\n",
       "      <td>142405000.0</td>\n",
       "      <td>3.432710e+08</td>\n",
       "      <td>248834000.0</td>\n",
       "      <td>9025.0</td>\n",
       "      <td>21755.0</td>\n",
       "      <td>15770.0</td>\n",
       "      <td>52441.0</td>\n",
       "      <td>38014.0</td>\n",
       "      <td>27556.0</td>\n",
       "    </tr>\n",
       "    <tr>\n",
       "      <td>4</td>\n",
       "      <td>1939.0</td>\n",
       "      <td>238.0</td>\n",
       "      <td>8.1</td>\n",
       "      <td>269664.0</td>\n",
       "      <td>3977000.0</td>\n",
       "      <td>97.0</td>\n",
       "      <td>808.0</td>\n",
       "      <td>183.0</td>\n",
       "      <td>3759721.0</td>\n",
       "      <td>461482.0</td>\n",
       "      <td>...</td>\n",
       "      <td>1.581653e+13</td>\n",
       "      <td>385769000.0</td>\n",
       "      <td>3.213416e+09</td>\n",
       "      <td>727791000.0</td>\n",
       "      <td>9409.0</td>\n",
       "      <td>78376.0</td>\n",
       "      <td>17751.0</td>\n",
       "      <td>652864.0</td>\n",
       "      <td>147864.0</td>\n",
       "      <td>33489.0</td>\n",
       "    </tr>\n",
       "  </tbody>\n",
       "</table>\n",
       "<p>5 rows × 44 columns</p>\n",
       "</div>"
      ],
      "text/plain": [
       "     year  duration  avg_vote     votes     budget  metascore  \\\n",
       "0  1927.0     153.0       8.3  148396.0   780000.0       98.0   \n",
       "1  1931.0      87.0       8.5  152716.0  1500000.0       99.0   \n",
       "2  1936.0      87.0       8.5  197969.0  1500000.0       96.0   \n",
       "3  1937.0      83.0       7.6  168735.0  1499000.0       95.0   \n",
       "4  1939.0     238.0       8.1  269664.0  3977000.0       97.0   \n",
       "\n",
       "   reviews_from_users  reviews_from_critics     year^2  year duration  ...  \\\n",
       "0               471.0                 194.0  3713329.0       294831.0  ...   \n",
       "1               270.0                 120.0  3728761.0       167997.0  ...   \n",
       "2               262.0                 146.0  3748096.0       168432.0  ...   \n",
       "3               229.0                 166.0  3751969.0       160771.0  ...   \n",
       "4               808.0                 183.0  3759721.0       461482.0  ...   \n",
       "\n",
       "       budget^2  budget metascore  budget reviews_from_users  \\\n",
       "0  6.084000e+11        76440000.0               3.673800e+08   \n",
       "1  2.250000e+12       148500000.0               4.050000e+08   \n",
       "2  2.250000e+12       144000000.0               3.930000e+08   \n",
       "3  2.247001e+12       142405000.0               3.432710e+08   \n",
       "4  1.581653e+13       385769000.0               3.213416e+09   \n",
       "\n",
       "   budget reviews_from_critics  metascore^2  metascore reviews_from_users  \\\n",
       "0                  151320000.0       9604.0                       46158.0   \n",
       "1                  180000000.0       9801.0                       26730.0   \n",
       "2                  219000000.0       9216.0                       25152.0   \n",
       "3                  248834000.0       9025.0                       21755.0   \n",
       "4                  727791000.0       9409.0                       78376.0   \n",
       "\n",
       "   metascore reviews_from_critics  reviews_from_users^2  \\\n",
       "0                         19012.0              221841.0   \n",
       "1                         11880.0               72900.0   \n",
       "2                         14016.0               68644.0   \n",
       "3                         15770.0               52441.0   \n",
       "4                         17751.0              652864.0   \n",
       "\n",
       "   reviews_from_users reviews_from_critics  reviews_from_critics^2  \n",
       "0                                  91374.0                 37636.0  \n",
       "1                                  32400.0                 14400.0  \n",
       "2                                  38252.0                 21316.0  \n",
       "3                                  38014.0                 27556.0  \n",
       "4                                 147864.0                 33489.0  \n",
       "\n",
       "[5 rows x 44 columns]"
      ]
     },
     "execution_count": 4,
     "metadata": {},
     "output_type": "execute_result"
    }
   ],
   "source": [
    "poly_features = ['year', 'duration', 'avg_vote', 'votes', 'budget', 'metascore', 'reviews_from_users',\n",
    "                 'reviews_from_critics']\n",
    "\n",
    "# Set up our X and ys\n",
    "X = cleaned_df[poly_features]\n",
    "y_usa = cleaned_df['usa_gross_income']\n",
    "y_ww = cleaned_df['worldwide_gross_income']\n",
    "\n",
    "# create some polynomial features\n",
    "poly = PolynomialFeatures(degree=2, interaction_only=False, include_bias=False)\n",
    "Xpoly = poly.fit_transform(X)\n",
    "\n",
    "poly_df = pd.DataFrame(data=Xpoly, columns=poly.get_feature_names(X.columns))\n",
    "poly_df.head()"
   ]
  },
  {
   "cell_type": "markdown",
   "metadata": {},
   "source": [
    "___\n",
    "## Combine poly data frame with dummy data frame"
   ]
  },
  {
   "cell_type": "code",
   "execution_count": 5,
   "metadata": {},
   "outputs": [],
   "source": [
    "df_dummied = pd.DataFrame.sparse.from_spmatrix(sparse_dummy,\n",
    "                                  index=range(cleaned_df.shape[0]),\n",
    "                                  columns = dummy_cols)"
   ]
  },
  {
   "cell_type": "code",
   "execution_count": 6,
   "metadata": {},
   "outputs": [
    {
     "data": {
      "text/html": [
       "<div>\n",
       "<style scoped>\n",
       "    .dataframe tbody tr th:only-of-type {\n",
       "        vertical-align: middle;\n",
       "    }\n",
       "\n",
       "    .dataframe tbody tr th {\n",
       "        vertical-align: top;\n",
       "    }\n",
       "\n",
       "    .dataframe thead th {\n",
       "        text-align: right;\n",
       "    }\n",
       "</style>\n",
       "<table border=\"1\" class=\"dataframe\">\n",
       "  <thead>\n",
       "    <tr style=\"text-align: right;\">\n",
       "      <th></th>\n",
       "      <th>usa_gross_income</th>\n",
       "      <th>worldwide_gross_income</th>\n",
       "      <th>country-afghanistan</th>\n",
       "      <th>country-algeria</th>\n",
       "      <th>country-angola</th>\n",
       "      <th>country-argentina</th>\n",
       "      <th>country-aruba</th>\n",
       "      <th>country-australia</th>\n",
       "      <th>country-austria</th>\n",
       "      <th>country-bahamas</th>\n",
       "      <th>...</th>\n",
       "      <th>budget metascore</th>\n",
       "      <th>budget reviews_from_users</th>\n",
       "      <th>budget reviews_from_critics</th>\n",
       "      <th>metascore^2</th>\n",
       "      <th>metascore reviews_from_users</th>\n",
       "      <th>metascore reviews_from_critics</th>\n",
       "      <th>reviews_from_users^2</th>\n",
       "      <th>reviews_from_users reviews_from_critics</th>\n",
       "      <th>reviews_from_critics^2</th>\n",
       "      <th>title</th>\n",
       "    </tr>\n",
       "  </thead>\n",
       "  <tbody>\n",
       "    <tr>\n",
       "      <td>0</td>\n",
       "      <td>1236166.0</td>\n",
       "      <td>1349711.0</td>\n",
       "      <td>0.0</td>\n",
       "      <td>0.0</td>\n",
       "      <td>0.0</td>\n",
       "      <td>0.0</td>\n",
       "      <td>0.0</td>\n",
       "      <td>0.0</td>\n",
       "      <td>0.0</td>\n",
       "      <td>0.0</td>\n",
       "      <td>...</td>\n",
       "      <td>76440000.0</td>\n",
       "      <td>3.673800e+08</td>\n",
       "      <td>151320000.0</td>\n",
       "      <td>9604.0</td>\n",
       "      <td>46158.0</td>\n",
       "      <td>19012.0</td>\n",
       "      <td>221841.0</td>\n",
       "      <td>91374.0</td>\n",
       "      <td>37636.0</td>\n",
       "      <td>Metropolis</td>\n",
       "    </tr>\n",
       "    <tr>\n",
       "      <td>1</td>\n",
       "      <td>19181.0</td>\n",
       "      <td>32609.0</td>\n",
       "      <td>0.0</td>\n",
       "      <td>0.0</td>\n",
       "      <td>0.0</td>\n",
       "      <td>0.0</td>\n",
       "      <td>0.0</td>\n",
       "      <td>0.0</td>\n",
       "      <td>0.0</td>\n",
       "      <td>0.0</td>\n",
       "      <td>...</td>\n",
       "      <td>148500000.0</td>\n",
       "      <td>4.050000e+08</td>\n",
       "      <td>180000000.0</td>\n",
       "      <td>9801.0</td>\n",
       "      <td>26730.0</td>\n",
       "      <td>11880.0</td>\n",
       "      <td>72900.0</td>\n",
       "      <td>32400.0</td>\n",
       "      <td>14400.0</td>\n",
       "      <td>City Lights</td>\n",
       "    </tr>\n",
       "    <tr>\n",
       "      <td>2</td>\n",
       "      <td>163577.0</td>\n",
       "      <td>445226.0</td>\n",
       "      <td>0.0</td>\n",
       "      <td>0.0</td>\n",
       "      <td>0.0</td>\n",
       "      <td>0.0</td>\n",
       "      <td>0.0</td>\n",
       "      <td>0.0</td>\n",
       "      <td>0.0</td>\n",
       "      <td>0.0</td>\n",
       "      <td>...</td>\n",
       "      <td>144000000.0</td>\n",
       "      <td>3.930000e+08</td>\n",
       "      <td>219000000.0</td>\n",
       "      <td>9216.0</td>\n",
       "      <td>25152.0</td>\n",
       "      <td>14016.0</td>\n",
       "      <td>68644.0</td>\n",
       "      <td>38252.0</td>\n",
       "      <td>21316.0</td>\n",
       "      <td>Modern Times</td>\n",
       "    </tr>\n",
       "    <tr>\n",
       "      <td>3</td>\n",
       "      <td>184925486.0</td>\n",
       "      <td>184925486.0</td>\n",
       "      <td>0.0</td>\n",
       "      <td>0.0</td>\n",
       "      <td>0.0</td>\n",
       "      <td>0.0</td>\n",
       "      <td>0.0</td>\n",
       "      <td>0.0</td>\n",
       "      <td>0.0</td>\n",
       "      <td>0.0</td>\n",
       "      <td>...</td>\n",
       "      <td>142405000.0</td>\n",
       "      <td>3.432710e+08</td>\n",
       "      <td>248834000.0</td>\n",
       "      <td>9025.0</td>\n",
       "      <td>21755.0</td>\n",
       "      <td>15770.0</td>\n",
       "      <td>52441.0</td>\n",
       "      <td>38014.0</td>\n",
       "      <td>27556.0</td>\n",
       "      <td>Snow White and the Seven Dwarfs</td>\n",
       "    </tr>\n",
       "    <tr>\n",
       "      <td>4</td>\n",
       "      <td>200852579.0</td>\n",
       "      <td>402352579.0</td>\n",
       "      <td>0.0</td>\n",
       "      <td>0.0</td>\n",
       "      <td>0.0</td>\n",
       "      <td>0.0</td>\n",
       "      <td>0.0</td>\n",
       "      <td>0.0</td>\n",
       "      <td>0.0</td>\n",
       "      <td>0.0</td>\n",
       "      <td>...</td>\n",
       "      <td>385769000.0</td>\n",
       "      <td>3.213416e+09</td>\n",
       "      <td>727791000.0</td>\n",
       "      <td>9409.0</td>\n",
       "      <td>78376.0</td>\n",
       "      <td>17751.0</td>\n",
       "      <td>652864.0</td>\n",
       "      <td>147864.0</td>\n",
       "      <td>33489.0</td>\n",
       "      <td>Gone with the Wind</td>\n",
       "    </tr>\n",
       "  </tbody>\n",
       "</table>\n",
       "<p>5 rows × 1140 columns</p>\n",
       "</div>"
      ],
      "text/plain": [
       "   usa_gross_income  worldwide_gross_income  country-afghanistan  \\\n",
       "0         1236166.0               1349711.0                  0.0   \n",
       "1           19181.0                 32609.0                  0.0   \n",
       "2          163577.0                445226.0                  0.0   \n",
       "3       184925486.0             184925486.0                  0.0   \n",
       "4       200852579.0             402352579.0                  0.0   \n",
       "\n",
       "   country-algeria  country-angola  country-argentina  country-aruba  \\\n",
       "0              0.0             0.0                0.0            0.0   \n",
       "1              0.0             0.0                0.0            0.0   \n",
       "2              0.0             0.0                0.0            0.0   \n",
       "3              0.0             0.0                0.0            0.0   \n",
       "4              0.0             0.0                0.0            0.0   \n",
       "\n",
       "   country-australia  country-austria  country-bahamas  ...  budget metascore  \\\n",
       "0                0.0              0.0              0.0  ...        76440000.0   \n",
       "1                0.0              0.0              0.0  ...       148500000.0   \n",
       "2                0.0              0.0              0.0  ...       144000000.0   \n",
       "3                0.0              0.0              0.0  ...       142405000.0   \n",
       "4                0.0              0.0              0.0  ...       385769000.0   \n",
       "\n",
       "   budget reviews_from_users  budget reviews_from_critics  metascore^2  \\\n",
       "0               3.673800e+08                  151320000.0       9604.0   \n",
       "1               4.050000e+08                  180000000.0       9801.0   \n",
       "2               3.930000e+08                  219000000.0       9216.0   \n",
       "3               3.432710e+08                  248834000.0       9025.0   \n",
       "4               3.213416e+09                  727791000.0       9409.0   \n",
       "\n",
       "   metascore reviews_from_users  metascore reviews_from_critics  \\\n",
       "0                       46158.0                         19012.0   \n",
       "1                       26730.0                         11880.0   \n",
       "2                       25152.0                         14016.0   \n",
       "3                       21755.0                         15770.0   \n",
       "4                       78376.0                         17751.0   \n",
       "\n",
       "   reviews_from_users^2  reviews_from_users reviews_from_critics  \\\n",
       "0              221841.0                                  91374.0   \n",
       "1               72900.0                                  32400.0   \n",
       "2               68644.0                                  38252.0   \n",
       "3               52441.0                                  38014.0   \n",
       "4              652864.0                                 147864.0   \n",
       "\n",
       "   reviews_from_critics^2                            title  \n",
       "0                 37636.0                       Metropolis  \n",
       "1                 14400.0                      City Lights  \n",
       "2                 21316.0                     Modern Times  \n",
       "3                 27556.0  Snow White and the Seven Dwarfs  \n",
       "4                 33489.0               Gone with the Wind  \n",
       "\n",
       "[5 rows x 1140 columns]"
      ]
     },
     "execution_count": 6,
     "metadata": {},
     "output_type": "execute_result"
    }
   ],
   "source": [
    "df = pd.concat([df_dummied.drop(\n",
    "                        columns=['year',\n",
    "                                 'duration',\n",
    "                                 'avg_vote',\n",
    "                                 'votes',\n",
    "                                 'budget',\n",
    "                                 'metascore',\n",
    "                                 'reviews_from_users',\n",
    "                                 'reviews_from_critics']),\n",
    "                poly_df],\n",
    "         axis=1)\n",
    "\n",
    "df['title'] = cleaned_df['title']\n",
    "df.head()"
   ]
  },
  {
   "cell_type": "code",
   "execution_count": 7,
   "metadata": {},
   "outputs": [],
   "source": [
    "# next step is to split up our data into training and testing data.\n",
    "# we are using all of our columns as features (which will make our model drastically overfit)\n",
    "# then we will reduce the features later using Ridge and Lasso\n",
    "X_usa_train, X_usa_test, y_usa_train, y_usa_test = train_test_split(\n",
    "                                                                    df.drop(\n",
    "                                                                        ['title',\n",
    "                                                                         'usa_gross_income',\n",
    "                                                                         'worldwide_gross_income'], axis=1),\n",
    "                                                                    y_usa,\n",
    "                                                                    test_size = .2,\n",
    "                                                                    random_state = 42)\n"
   ]
  },
  {
   "cell_type": "code",
   "execution_count": 8,
   "metadata": {},
   "outputs": [],
   "source": [
    "X_ww_train, X_ww_test, y_ww_train, y_ww_test = train_test_split(\n",
    "                                                                df.drop(\n",
    "                                                                    ['title',\n",
    "                                                                     'usa_gross_income',\n",
    "                                                                     'worldwide_gross_income'], axis=1),\n",
    "                                                                y_ww,\n",
    "                                                                test_size = .2,\n",
    "                                                                random_state = 42)"
   ]
  },
  {
   "cell_type": "code",
   "execution_count": 9,
   "metadata": {},
   "outputs": [
    {
     "data": {
      "text/plain": [
       "(5164, 1137)"
      ]
     },
     "execution_count": 9,
     "metadata": {},
     "output_type": "execute_result"
    }
   ],
   "source": [
    "X_usa_train.shape"
   ]
  },
  {
   "cell_type": "code",
   "execution_count": 10,
   "metadata": {},
   "outputs": [
    {
     "data": {
      "text/plain": [
       "(5164,)"
      ]
     },
     "execution_count": 10,
     "metadata": {},
     "output_type": "execute_result"
    }
   ],
   "source": [
    "y_usa_train.shape"
   ]
  },
  {
   "cell_type": "code",
   "execution_count": 11,
   "metadata": {},
   "outputs": [
    {
     "data": {
      "text/plain": [
       "(1291, 1137)"
      ]
     },
     "execution_count": 11,
     "metadata": {},
     "output_type": "execute_result"
    }
   ],
   "source": [
    "X_usa_test.shape"
   ]
  },
  {
   "cell_type": "code",
   "execution_count": 12,
   "metadata": {},
   "outputs": [
    {
     "data": {
      "text/plain": [
       "(1291,)"
      ]
     },
     "execution_count": 12,
     "metadata": {},
     "output_type": "execute_result"
    }
   ],
   "source": [
    "y_usa_test.shape"
   ]
  },
  {
   "cell_type": "code",
   "execution_count": 13,
   "metadata": {},
   "outputs": [
    {
     "data": {
      "text/plain": [
       "(5164, 1137)"
      ]
     },
     "execution_count": 13,
     "metadata": {},
     "output_type": "execute_result"
    }
   ],
   "source": [
    "X_ww_train.shape"
   ]
  },
  {
   "cell_type": "code",
   "execution_count": 14,
   "metadata": {},
   "outputs": [
    {
     "data": {
      "text/plain": [
       "(5164,)"
      ]
     },
     "execution_count": 14,
     "metadata": {},
     "output_type": "execute_result"
    }
   ],
   "source": [
    "y_ww_train.shape"
   ]
  },
  {
   "cell_type": "code",
   "execution_count": 15,
   "metadata": {},
   "outputs": [
    {
     "data": {
      "text/plain": [
       "(1291, 1137)"
      ]
     },
     "execution_count": 15,
     "metadata": {},
     "output_type": "execute_result"
    }
   ],
   "source": [
    "X_ww_test.shape"
   ]
  },
  {
   "cell_type": "code",
   "execution_count": 16,
   "metadata": {},
   "outputs": [
    {
     "data": {
      "text/plain": [
       "(1291,)"
      ]
     },
     "execution_count": 16,
     "metadata": {},
     "output_type": "execute_result"
    }
   ],
   "source": [
    "y_ww_test.shape"
   ]
  },
  {
   "cell_type": "code",
   "execution_count": 17,
   "metadata": {},
   "outputs": [],
   "source": [
    "# next step is to scale our data. yes, we should be scaling our dummy data\n",
    "ss_usa = StandardScaler()\n",
    "\n",
    "Z_usa_train = ss_usa.fit_transform(X_usa_train)\n",
    "Z_usa_test = ss_usa.transform(X_usa_test)\n",
    "\n",
    "ss_ww = StandardScaler()\n",
    "\n",
    "Z_ww_train = ss_ww.fit_transform(X_ww_train)\n",
    "Z_ww_test = ss_ww.transform(X_ww_test)"
   ]
  },
  {
   "cell_type": "markdown",
   "metadata": {},
   "source": [
    "___\n",
    "## Model Building\n",
    "___\n",
    "### Let's try a SLR"
   ]
  },
  {
   "cell_type": "code",
   "execution_count": 18,
   "metadata": {},
   "outputs": [
    {
     "data": {
      "text/html": [
       "<div>\n",
       "<style scoped>\n",
       "    .dataframe tbody tr th:only-of-type {\n",
       "        vertical-align: middle;\n",
       "    }\n",
       "\n",
       "    .dataframe tbody tr th {\n",
       "        vertical-align: top;\n",
       "    }\n",
       "\n",
       "    .dataframe thead th {\n",
       "        text-align: right;\n",
       "    }\n",
       "</style>\n",
       "<table border=\"1\" class=\"dataframe\">\n",
       "  <thead>\n",
       "    <tr style=\"text-align: right;\">\n",
       "      <th></th>\n",
       "      <th>title</th>\n",
       "      <th>year</th>\n",
       "      <th>genre</th>\n",
       "      <th>duration</th>\n",
       "      <th>country</th>\n",
       "      <th>language</th>\n",
       "      <th>director</th>\n",
       "      <th>writer</th>\n",
       "      <th>production_company</th>\n",
       "      <th>actors</th>\n",
       "      <th>avg_vote</th>\n",
       "      <th>votes</th>\n",
       "      <th>budget</th>\n",
       "      <th>usa_gross_income</th>\n",
       "      <th>worldwide_gross_income</th>\n",
       "      <th>metascore</th>\n",
       "      <th>reviews_from_users</th>\n",
       "      <th>reviews_from_critics</th>\n",
       "    </tr>\n",
       "  </thead>\n",
       "  <tbody>\n",
       "    <tr>\n",
       "      <td>0</td>\n",
       "      <td>Metropolis</td>\n",
       "      <td>1927</td>\n",
       "      <td>Drama, Sci-Fi</td>\n",
       "      <td>153</td>\n",
       "      <td>Germany</td>\n",
       "      <td>German</td>\n",
       "      <td>Fritz Lang</td>\n",
       "      <td>Thea von Harbou, Thea von Harbou</td>\n",
       "      <td>Universum Film (UFA)</td>\n",
       "      <td>Alfred Abel, Gustav Fröhlich, Rudolf Klein-Rog...</td>\n",
       "      <td>8.3</td>\n",
       "      <td>148396</td>\n",
       "      <td>780000</td>\n",
       "      <td>1236166</td>\n",
       "      <td>1349711</td>\n",
       "      <td>98.0</td>\n",
       "      <td>471.0</td>\n",
       "      <td>194.0</td>\n",
       "    </tr>\n",
       "    <tr>\n",
       "      <td>1</td>\n",
       "      <td>City Lights</td>\n",
       "      <td>1931</td>\n",
       "      <td>Comedy, Drama, Romance</td>\n",
       "      <td>87</td>\n",
       "      <td>USA</td>\n",
       "      <td>English</td>\n",
       "      <td>Charles Chaplin</td>\n",
       "      <td>Charles Chaplin</td>\n",
       "      <td>Charles Chaplin Productions</td>\n",
       "      <td>Virginia Cherrill, Florence Lee, Harry Myers, ...</td>\n",
       "      <td>8.5</td>\n",
       "      <td>152716</td>\n",
       "      <td>1500000</td>\n",
       "      <td>19181</td>\n",
       "      <td>32609</td>\n",
       "      <td>99.0</td>\n",
       "      <td>270.0</td>\n",
       "      <td>120.0</td>\n",
       "    </tr>\n",
       "    <tr>\n",
       "      <td>2</td>\n",
       "      <td>Modern Times</td>\n",
       "      <td>1936</td>\n",
       "      <td>Comedy, Drama, Family</td>\n",
       "      <td>87</td>\n",
       "      <td>USA</td>\n",
       "      <td>English</td>\n",
       "      <td>Charles Chaplin</td>\n",
       "      <td>Charles Chaplin</td>\n",
       "      <td>Charles Chaplin Productions</td>\n",
       "      <td>Charles Chaplin, Paulette Goddard, Henry Bergm...</td>\n",
       "      <td>8.5</td>\n",
       "      <td>197969</td>\n",
       "      <td>1500000</td>\n",
       "      <td>163577</td>\n",
       "      <td>445226</td>\n",
       "      <td>96.0</td>\n",
       "      <td>262.0</td>\n",
       "      <td>146.0</td>\n",
       "    </tr>\n",
       "    <tr>\n",
       "      <td>3</td>\n",
       "      <td>Snow White and the Seven Dwarfs</td>\n",
       "      <td>1937</td>\n",
       "      <td>Animation, Family, Fantasy</td>\n",
       "      <td>83</td>\n",
       "      <td>USA</td>\n",
       "      <td>English</td>\n",
       "      <td>William Cottrell, David Hand</td>\n",
       "      <td>Jacob Grimm, Wilhelm Grimm</td>\n",
       "      <td>Walt Disney Productions</td>\n",
       "      <td>Roy Atwell, Stuart Buchanan, Adriana Caselotti...</td>\n",
       "      <td>7.6</td>\n",
       "      <td>168735</td>\n",
       "      <td>1499000</td>\n",
       "      <td>184925486</td>\n",
       "      <td>184925486</td>\n",
       "      <td>95.0</td>\n",
       "      <td>229.0</td>\n",
       "      <td>166.0</td>\n",
       "    </tr>\n",
       "    <tr>\n",
       "      <td>4</td>\n",
       "      <td>Gone with the Wind</td>\n",
       "      <td>1939</td>\n",
       "      <td>Drama, History, Romance</td>\n",
       "      <td>238</td>\n",
       "      <td>USA</td>\n",
       "      <td>English</td>\n",
       "      <td>Victor Fleming, George Cukor</td>\n",
       "      <td>Margaret Mitchell, Sidney Howard</td>\n",
       "      <td>Selznick International Pictures</td>\n",
       "      <td>Thomas Mitchell, Barbara O'Neil, Vivien Leigh,...</td>\n",
       "      <td>8.1</td>\n",
       "      <td>269664</td>\n",
       "      <td>3977000</td>\n",
       "      <td>200852579</td>\n",
       "      <td>402352579</td>\n",
       "      <td>97.0</td>\n",
       "      <td>808.0</td>\n",
       "      <td>183.0</td>\n",
       "    </tr>\n",
       "  </tbody>\n",
       "</table>\n",
       "</div>"
      ],
      "text/plain": [
       "                             title  year                       genre  \\\n",
       "0                       Metropolis  1927               Drama, Sci-Fi   \n",
       "1                      City Lights  1931      Comedy, Drama, Romance   \n",
       "2                     Modern Times  1936       Comedy, Drama, Family   \n",
       "3  Snow White and the Seven Dwarfs  1937  Animation, Family, Fantasy   \n",
       "4               Gone with the Wind  1939     Drama, History, Romance   \n",
       "\n",
       "   duration  country language                      director  \\\n",
       "0       153  Germany   German                    Fritz Lang   \n",
       "1        87      USA  English               Charles Chaplin   \n",
       "2        87      USA  English               Charles Chaplin   \n",
       "3        83      USA  English  William Cottrell, David Hand   \n",
       "4       238      USA  English  Victor Fleming, George Cukor   \n",
       "\n",
       "                             writer               production_company  \\\n",
       "0  Thea von Harbou, Thea von Harbou             Universum Film (UFA)   \n",
       "1                   Charles Chaplin      Charles Chaplin Productions   \n",
       "2                   Charles Chaplin      Charles Chaplin Productions   \n",
       "3        Jacob Grimm, Wilhelm Grimm          Walt Disney Productions   \n",
       "4  Margaret Mitchell, Sidney Howard  Selznick International Pictures   \n",
       "\n",
       "                                              actors  avg_vote   votes  \\\n",
       "0  Alfred Abel, Gustav Fröhlich, Rudolf Klein-Rog...       8.3  148396   \n",
       "1  Virginia Cherrill, Florence Lee, Harry Myers, ...       8.5  152716   \n",
       "2  Charles Chaplin, Paulette Goddard, Henry Bergm...       8.5  197969   \n",
       "3  Roy Atwell, Stuart Buchanan, Adriana Caselotti...       7.6  168735   \n",
       "4  Thomas Mitchell, Barbara O'Neil, Vivien Leigh,...       8.1  269664   \n",
       "\n",
       "    budget  usa_gross_income  worldwide_gross_income  metascore  \\\n",
       "0   780000           1236166                 1349711       98.0   \n",
       "1  1500000             19181                   32609       99.0   \n",
       "2  1500000            163577                  445226       96.0   \n",
       "3  1499000         184925486               184925486       95.0   \n",
       "4  3977000         200852579               402352579       97.0   \n",
       "\n",
       "   reviews_from_users  reviews_from_critics  \n",
       "0               471.0                 194.0  \n",
       "1               270.0                 120.0  \n",
       "2               262.0                 146.0  \n",
       "3               229.0                 166.0  \n",
       "4               808.0                 183.0  "
      ]
     },
     "execution_count": 18,
     "metadata": {},
     "output_type": "execute_result"
    }
   ],
   "source": [
    "cleaned_df.head()"
   ]
  },
  {
   "cell_type": "code",
   "execution_count": 19,
   "metadata": {},
   "outputs": [
    {
     "data": {
      "text/html": [
       "<div>\n",
       "<style scoped>\n",
       "    .dataframe tbody tr th:only-of-type {\n",
       "        vertical-align: middle;\n",
       "    }\n",
       "\n",
       "    .dataframe tbody tr th {\n",
       "        vertical-align: top;\n",
       "    }\n",
       "\n",
       "    .dataframe thead th {\n",
       "        text-align: right;\n",
       "    }\n",
       "</style>\n",
       "<table border=\"1\" class=\"dataframe\">\n",
       "  <thead>\n",
       "    <tr style=\"text-align: right;\">\n",
       "      <th></th>\n",
       "      <th>year</th>\n",
       "      <th>duration</th>\n",
       "      <th>avg_vote</th>\n",
       "      <th>votes</th>\n",
       "      <th>budget</th>\n",
       "      <th>usa_gross_income</th>\n",
       "      <th>worldwide_gross_income</th>\n",
       "      <th>metascore</th>\n",
       "      <th>reviews_from_users</th>\n",
       "      <th>reviews_from_critics</th>\n",
       "    </tr>\n",
       "  </thead>\n",
       "  <tbody>\n",
       "    <tr>\n",
       "      <td>count</td>\n",
       "      <td>6455.000000</td>\n",
       "      <td>6455.000000</td>\n",
       "      <td>6455.000000</td>\n",
       "      <td>6.455000e+03</td>\n",
       "      <td>6.455000e+03</td>\n",
       "      <td>6.455000e+03</td>\n",
       "      <td>6.455000e+03</td>\n",
       "      <td>6455.000000</td>\n",
       "      <td>6455.000000</td>\n",
       "      <td>6455.000000</td>\n",
       "    </tr>\n",
       "    <tr>\n",
       "      <td>mean</td>\n",
       "      <td>2003.384663</td>\n",
       "      <td>107.960496</td>\n",
       "      <td>6.444988</td>\n",
       "      <td>9.359688e+04</td>\n",
       "      <td>3.051168e+07</td>\n",
       "      <td>4.099650e+07</td>\n",
       "      <td>8.835337e+07</td>\n",
       "      <td>54.956468</td>\n",
       "      <td>297.159411</td>\n",
       "      <td>147.250039</td>\n",
       "    </tr>\n",
       "    <tr>\n",
       "      <td>std</td>\n",
       "      <td>11.586031</td>\n",
       "      <td>18.858717</td>\n",
       "      <td>0.986782</td>\n",
       "      <td>1.607133e+05</td>\n",
       "      <td>3.988408e+07</td>\n",
       "      <td>6.706056e+07</td>\n",
       "      <td>1.743638e+08</td>\n",
       "      <td>18.089484</td>\n",
       "      <td>451.994617</td>\n",
       "      <td>124.060533</td>\n",
       "    </tr>\n",
       "    <tr>\n",
       "      <td>min</td>\n",
       "      <td>1927.000000</td>\n",
       "      <td>63.000000</td>\n",
       "      <td>1.400000</td>\n",
       "      <td>1.000000e+02</td>\n",
       "      <td>8.200000e+01</td>\n",
       "      <td>5.090000e+02</td>\n",
       "      <td>5.940000e+02</td>\n",
       "      <td>1.000000</td>\n",
       "      <td>1.000000</td>\n",
       "      <td>1.000000</td>\n",
       "    </tr>\n",
       "    <tr>\n",
       "      <td>25%</td>\n",
       "      <td>1999.000000</td>\n",
       "      <td>95.000000</td>\n",
       "      <td>5.900000</td>\n",
       "      <td>1.146200e+04</td>\n",
       "      <td>5.788500e+06</td>\n",
       "      <td>1.568678e+06</td>\n",
       "      <td>4.644498e+06</td>\n",
       "      <td>42.000000</td>\n",
       "      <td>75.000000</td>\n",
       "      <td>58.000000</td>\n",
       "    </tr>\n",
       "    <tr>\n",
       "      <td>50%</td>\n",
       "      <td>2006.000000</td>\n",
       "      <td>105.000000</td>\n",
       "      <td>6.500000</td>\n",
       "      <td>3.756400e+04</td>\n",
       "      <td>1.600000e+07</td>\n",
       "      <td>1.736802e+07</td>\n",
       "      <td>2.689548e+07</td>\n",
       "      <td>55.000000</td>\n",
       "      <td>164.000000</td>\n",
       "      <td>113.000000</td>\n",
       "    </tr>\n",
       "    <tr>\n",
       "      <td>75%</td>\n",
       "      <td>2012.000000</td>\n",
       "      <td>118.000000</td>\n",
       "      <td>7.100000</td>\n",
       "      <td>1.037355e+05</td>\n",
       "      <td>3.800000e+07</td>\n",
       "      <td>5.159012e+07</td>\n",
       "      <td>9.223271e+07</td>\n",
       "      <td>68.000000</td>\n",
       "      <td>339.500000</td>\n",
       "      <td>197.000000</td>\n",
       "    </tr>\n",
       "    <tr>\n",
       "      <td>max</td>\n",
       "      <td>2019.000000</td>\n",
       "      <td>272.000000</td>\n",
       "      <td>9.300000</td>\n",
       "      <td>2.159628e+06</td>\n",
       "      <td>3.560000e+08</td>\n",
       "      <td>9.366622e+08</td>\n",
       "      <td>2.797801e+09</td>\n",
       "      <td>100.000000</td>\n",
       "      <td>8302.000000</td>\n",
       "      <td>987.000000</td>\n",
       "    </tr>\n",
       "  </tbody>\n",
       "</table>\n",
       "</div>"
      ],
      "text/plain": [
       "              year     duration     avg_vote         votes        budget  \\\n",
       "count  6455.000000  6455.000000  6455.000000  6.455000e+03  6.455000e+03   \n",
       "mean   2003.384663   107.960496     6.444988  9.359688e+04  3.051168e+07   \n",
       "std      11.586031    18.858717     0.986782  1.607133e+05  3.988408e+07   \n",
       "min    1927.000000    63.000000     1.400000  1.000000e+02  8.200000e+01   \n",
       "25%    1999.000000    95.000000     5.900000  1.146200e+04  5.788500e+06   \n",
       "50%    2006.000000   105.000000     6.500000  3.756400e+04  1.600000e+07   \n",
       "75%    2012.000000   118.000000     7.100000  1.037355e+05  3.800000e+07   \n",
       "max    2019.000000   272.000000     9.300000  2.159628e+06  3.560000e+08   \n",
       "\n",
       "       usa_gross_income  worldwide_gross_income    metascore  \\\n",
       "count      6.455000e+03            6.455000e+03  6455.000000   \n",
       "mean       4.099650e+07            8.835337e+07    54.956468   \n",
       "std        6.706056e+07            1.743638e+08    18.089484   \n",
       "min        5.090000e+02            5.940000e+02     1.000000   \n",
       "25%        1.568678e+06            4.644498e+06    42.000000   \n",
       "50%        1.736802e+07            2.689548e+07    55.000000   \n",
       "75%        5.159012e+07            9.223271e+07    68.000000   \n",
       "max        9.366622e+08            2.797801e+09   100.000000   \n",
       "\n",
       "       reviews_from_users  reviews_from_critics  \n",
       "count         6455.000000           6455.000000  \n",
       "mean           297.159411            147.250039  \n",
       "std            451.994617            124.060533  \n",
       "min              1.000000              1.000000  \n",
       "25%             75.000000             58.000000  \n",
       "50%            164.000000            113.000000  \n",
       "75%            339.500000            197.000000  \n",
       "max           8302.000000            987.000000  "
      ]
     },
     "execution_count": 19,
     "metadata": {},
     "output_type": "execute_result"
    }
   ],
   "source": [
    "cleaned_df.describe()"
   ]
  },
  {
   "cell_type": "code",
   "execution_count": 20,
   "metadata": {
    "scrolled": false
   },
   "outputs": [
    {
     "data": {
      "image/png": "[encoded data removed]",
      "text/plain": [
       "<Figure size 360x360 with 1 Axes>"
      ]
     },
     "metadata": {
      "needs_background": "light"
     },
     "output_type": "display_data"
    },
    {
     "data": {
      "image/png": "[encoded data removed]",
      "text/plain": [
       "<Figure size 360x360 with 1 Axes>"
      ]
     },
     "metadata": {
      "needs_background": "light"
     },
     "output_type": "display_data"
    },
    {
     "data": {
      "image/png": "[encoded data removed]",
      "text/plain": [
       "<Figure size 360x360 with 1 Axes>"
      ]
     },
     "metadata": {
      "needs_background": "light"
     },
     "output_type": "display_data"
    },
    {
     "data": {
      "image/png": "[encoded data removed]",
      "text/plain": [
       "<Figure size 360x360 with 1 Axes>"
      ]
     },
     "metadata": {
      "needs_background": "light"
     },
     "output_type": "display_data"
    },
    {
     "data": {
      "image/png": "[encoded data removed]",
      "text/plain": [
       "<Figure size 360x360 with 1 Axes>"
      ]
     },
     "metadata": {
      "needs_background": "light"
     },
     "output_type": "display_data"
    },
    {
     "data": {
      "image/png": "[encoded data removed]",
      "text/plain": [
       "<Figure size 360x360 with 1 Axes>"
      ]
     },
     "metadata": {
      "needs_background": "light"
     },
     "output_type": "display_data"
    },
    {
     "data": {
      "image/png": "[encoded data removed]",
      "text/plain": [
       "<Figure size 360x360 with 1 Axes>"
      ]
     },
     "metadata": {
      "needs_background": "light"
     },
     "output_type": "display_data"
    },
    {
     "data": {
      "image/png": "[encoded data removed]",
      "text/plain": [
       "<Figure size 360x360 with 1 Axes>"
      ]
     },
     "metadata": {
      "needs_background": "light"
     },
     "output_type": "display_data"
    }
   ],
   "source": [
    "for col in [col for col in cleaned_df.describe().columns if col not in ['usa_gross_income', 'worldwide_gross_income']]:\n",
    "    sns.lmplot(x=col, y='worldwide_gross_income', data=cleaned_df)\n",
    "    plt.show();"
   ]
  },
  {
   "cell_type": "markdown",
   "metadata": {},
   "source": [
    "looks as though budget might be our best predictor of worldwide_gross_income\n",
    "\n",
    "Build a function that will take in two lists, Y and X, and return the intercept and slope coefficients that minimize SSE."
   ]
  },
  {
   "cell_type": "code",
   "execution_count": 21,
   "metadata": {},
   "outputs": [],
   "source": [
    "# taken from GA notes, 3.01 - lab\n",
    "def lin_reg(x,y):\n",
    "    # Using other libraries for standard deviation and the Pearson correlation coefficient.\n",
    "    # Note that in SLR, the correlation coefficient multiplied by the standard\n",
    "    # deviation of y divided by standard deviation of x is the optimal slope.\n",
    "    beta_1 = (scipy.stats.pearsonr(x,y)[0])*(np.std(y)/np.std(x))\n",
    "    \n",
    "    # The Pearson correlation coefficient returns a tuple, so it needs to be sliced/indexed.\n",
    "    # The optimal beta is found by: mean(y) - b1 * mean(x).\n",
    "    beta_0 = np.mean(y)-(beta_1*np.mean(x)) \n",
    "    \n",
    "    return beta_0, beta_1"
   ]
  },
  {
   "cell_type": "code",
   "execution_count": 22,
   "metadata": {},
   "outputs": [
    {
     "data": {
      "text/plain": [
       "(-10821435.630595699, 3.250387742370372)"
      ]
     },
     "execution_count": 22,
     "metadata": {},
     "output_type": "execute_result"
    }
   ],
   "source": [
    "lin_reg(cleaned_df['budget'].values, cleaned_df['worldwide_gross_income'].values)"
   ]
  },
  {
   "cell_type": "markdown",
   "metadata": {},
   "source": [
    "This means a SLR (simple linear regression) using budget as the sole predictor for worldwide_gross_income would say that the Y intercept is -10,821,435 and slope of 3.25. One way to interpret this would be to say for every 1 dollar increase in budget, the worldwide_gross_income would also increase by 3.25 dollars\n",
    "___\n",
    "using this simple model let's calculate and plot the residuals"
   ]
  },
  {
   "cell_type": "code",
   "execution_count": 23,
   "metadata": {},
   "outputs": [
    {
     "data": {
      "text/plain": [
       "59682256.528910674"
      ]
     },
     "execution_count": 23,
     "metadata": {},
     "output_type": "execute_result"
    }
   ],
   "source": [
    "y_intercept, slope = lin_reg(cleaned_df['budget'].values, cleaned_df['worldwide_gross_income'].values)\n",
    "\n",
    "# simple y = mx + b to make predictions\n",
    "y_pred = cleaned_df['budget'].values * slope + y_intercept\n",
    "\n",
    "# residuals are how far off our predictions really are\n",
    "resids = abs(cleaned_df['worldwide_gross_income'].values - y_pred)\n",
    "resids.mean()"
   ]
  },
  {
   "cell_type": "markdown",
   "metadata": {},
   "source": [
    "The average of our residuals means that, on average, our predictions are off by about $59,682,256"
   ]
  },
  {
   "cell_type": "code",
   "execution_count": 24,
   "metadata": {},
   "outputs": [
    {
     "data": {
      "image/png": "[encoded data removed]",
      "text/plain": [
       "<Figure size 720x720 with 1 Axes>"
      ]
     },
     "metadata": {
      "needs_background": "light"
     },
     "output_type": "display_data"
    }
   ],
   "source": [
    "cleaned_df['preds'] = y_pred\n",
    "\n",
    "# plot our predictions compared to the actuals\n",
    "fig = plt.figure(figsize=(10,10))\n",
    "ax = plt.gca()\n",
    "\n",
    "ax.scatter(x=df['budget'], y=cleaned_df['worldwide_gross_income'], c='k')\n",
    "ax.plot(df['budget'].values, cleaned_df['preds'].values, color='r')\n",
    "\n",
    "plt.show()"
   ]
  },
  {
   "cell_type": "code",
   "execution_count": 25,
   "metadata": {},
   "outputs": [
    {
     "data": {
      "image/png": "[encoded data removed]",
      "text/plain": [
       "<Figure size 360x360 with 1 Axes>"
      ]
     },
     "metadata": {
      "needs_background": "light"
     },
     "output_type": "display_data"
    }
   ],
   "source": [
    "# same plot done with seaborn\n",
    "sns.lmplot(x='budget', y='worldwide_gross_income', data=cleaned_df);"
   ]
  },
  {
   "cell_type": "code",
   "execution_count": 26,
   "metadata": {},
   "outputs": [
    {
     "data": {
      "image/png": "[encoded data removed]",
      "text/plain": [
       "<Figure size 720x720 with 1 Axes>"
      ]
     },
     "metadata": {
      "needs_background": "light"
     },
     "output_type": "display_data"
    }
   ],
   "source": [
    "# plot our residuals\n",
    "fig = plt.figure(figsize=(10,10))\n",
    "ax = plt.gca()\n",
    "\n",
    "ax.scatter(x=cleaned_df['budget'], y=cleaned_df['worldwide_gross_income'], c='k')\n",
    "ax.plot(cleaned_df['budget'].values, cleaned_df['preds'].values, color='r')\n",
    "\n",
    "for _, row in cleaned_df.iterrows():\n",
    "    plt.plot((row['budget'], row['budget']), (row['worldwide_gross_income'], row['preds']), 'b-', alpha=.5)"
   ]
  },
  {
   "cell_type": "markdown",
   "metadata": {},
   "source": [
    "We can see from our residuals that our predictions are getting more and more off the farther out we go."
   ]
  },
  {
   "cell_type": "code",
   "execution_count": 27,
   "metadata": {},
   "outputs": [
    {
     "data": {
      "image/png": "[encoded data removed]",
      "text/plain": [
       "<Figure size 360x360 with 1 Axes>"
      ]
     },
     "metadata": {
      "needs_background": "light"
     },
     "output_type": "display_data"
    }
   ],
   "source": [
    "sns.lmplot(x='worldwide_gross_income', y='preds', data=cleaned_df);"
   ]
  },
  {
   "cell_type": "markdown",
   "metadata": {},
   "source": [
    "this plot is showing us that our SLR model is under-shooting the worldwide_gross_income of movies with very high worldwide gross\n",
    "___\n",
    "### Linear Regression"
   ]
  },
  {
   "cell_type": "code",
   "execution_count": 28,
   "metadata": {},
   "outputs": [
    {
     "data": {
      "text/plain": [
       "-5.300024198399518e+23"
      ]
     },
     "execution_count": 28,
     "metadata": {},
     "output_type": "execute_result"
    }
   ],
   "source": [
    "# starting with a simple linear regression model\n",
    "# usa gross\n",
    "\n",
    "lr_usa_model = LinearRegression() # instatiate model\n",
    "\n",
    "lr_usa_model.fit(Z_usa_train, y_usa_train) # fit model to training data\n",
    "\n",
    "lr_usa_preds = lr_usa_model.predict(Z_usa_test) # calculate predictions based from our model\n",
    "\n",
    "r2_score(y_usa_test, lr_usa_preds) # evaluate our model using r2 score"
   ]
  },
  {
   "cell_type": "markdown",
   "metadata": {},
   "source": [
    "an r2 score of 1 means the model is a perfect predictor. So, the closer to 1 our r2 score is the better.  \n",
    "However a negative r2 score implies our model is a worse predictor than a straight horizontal line or just predicting the mean."
   ]
  },
  {
   "cell_type": "code",
   "execution_count": 29,
   "metadata": {},
   "outputs": [
    {
     "data": {
      "text/plain": [
       "-7.045332358185687e+23"
      ]
     },
     "execution_count": 29,
     "metadata": {},
     "output_type": "execute_result"
    }
   ],
   "source": [
    "# worldwide gross model\n",
    "\n",
    "lr_ww_model = LinearRegression() # instatiate model\n",
    "\n",
    "lr_ww_model.fit(Z_ww_train, y_ww_train) # fit model to training data\n",
    "\n",
    "lr_ww_preds = lr_ww_model.predict(Z_ww_test) # calculate predictions\n",
    "\n",
    "r2_score(y_ww_test, lr_ww_preds) # evaluate our model using r2 score"
   ]
  },
  {
   "cell_type": "markdown",
   "metadata": {},
   "source": [
    "___\n",
    "### Ridge"
   ]
  },
  {
   "cell_type": "code",
   "execution_count": 30,
   "metadata": {},
   "outputs": [
    {
     "name": "stdout",
     "output_type": "stream",
     "text": [
      "Training score: 0.8372245927334292\n",
      "Testing score: 0.7211079104206527\n"
     ]
    }
   ],
   "source": [
    "ridge_usa_model = Ridge(alpha=10) # instatiate model. alpha is our penalty term\n",
    "\n",
    "ridge_usa_model.fit(Z_usa_train, y_usa_train) # fit ridge to training data\n",
    "\n",
    "print(f'Training score: {ridge_usa_model.score(Z_usa_train, y_usa_train)}')\n",
    "print(f'Testing score: {ridge_usa_model.score(Z_usa_test, y_usa_test)}')"
   ]
  },
  {
   "cell_type": "markdown",
   "metadata": {},
   "source": [
    "These two scores tell us that our model is overfit to our training data. From here we can search over a number of alpha scores to find the best alpha using RidgeCV"
   ]
  },
  {
   "cell_type": "code",
   "execution_count": 31,
   "metadata": {
    "scrolled": true
   },
   "outputs": [
    {
     "name": "stderr",
     "output_type": "stream",
     "text": [
      "/Users/Creighton/anaconda3/lib/python3.7/site-packages/sklearn/linear_model/ridge.py:147: LinAlgWarning: Ill-conditioned matrix (rcond=9.52455e-17): result may not be accurate.\n",
      "  overwrite_a=True).T\n",
      "/Users/Creighton/anaconda3/lib/python3.7/site-packages/sklearn/linear_model/ridge.py:147: LinAlgWarning: Ill-conditioned matrix (rcond=7.75042e-17): result may not be accurate.\n",
      "  overwrite_a=True).T\n"
     ]
    }
   ],
   "source": [
    "r_alphas = np.logspace(-12, -5, 10) # this creates a list of 10 numbers between 10e-12 and 10e-5\n",
    "\n",
    "# cross validating our list of r_alphas\n",
    "ridge_usa_model = RidgeCV(alphas=r_alphas, scoring='r2', cv=3)\n",
    "\n",
    "# fit model using the best alpha\n",
    "ridge_usa_model = ridge_usa_model.fit(Z_usa_train, y_usa_train)"
   ]
  },
  {
   "cell_type": "code",
   "execution_count": 32,
   "metadata": {},
   "outputs": [
    {
     "data": {
      "text/plain": [
       "1.2915496650148826e-09"
      ]
     },
     "execution_count": 32,
     "metadata": {},
     "output_type": "execute_result"
    }
   ],
   "source": [
    "ridge_usa_model.alpha_ # our most optimal alpha"
   ]
  },
  {
   "cell_type": "code",
   "execution_count": 33,
   "metadata": {},
   "outputs": [
    {
     "name": "stdout",
     "output_type": "stream",
     "text": [
      "Training score: 0.8497440513067926\n",
      "Testing score: 0.7234740704877465\n"
     ]
    }
   ],
   "source": [
    "print(f'Training score: {ridge_usa_model.score(Z_usa_train, y_usa_train)}')\n",
    "print(f'Testing score: {ridge_usa_model.score(Z_usa_test, y_usa_test)}')"
   ]
  },
  {
   "cell_type": "markdown",
   "metadata": {},
   "source": [
    "Even when hypertuning our alpha, there isn't much change in our model"
   ]
  },
  {
   "cell_type": "markdown",
   "metadata": {},
   "source": [
    "___\n",
    "### Lasso"
   ]
  },
  {
   "cell_type": "code",
   "execution_count": 34,
   "metadata": {},
   "outputs": [
    {
     "data": {
      "text/plain": [
       "-5.300024198399518e+23"
      ]
     },
     "execution_count": 34,
     "metadata": {},
     "output_type": "execute_result"
    }
   ],
   "source": [
    "# simple Linear Regression for comparison\n",
    "lm = LinearRegression()\n",
    "lm.fit(Z_usa_train, y_usa_train)\n",
    "lm.score(Z_usa_test, y_usa_test)"
   ]
  },
  {
   "cell_type": "code",
   "execution_count": 35,
   "metadata": {
    "scrolled": true
   },
   "outputs": [
    {
     "name": "stderr",
     "output_type": "stream",
     "text": [
      "/Users/Creighton/anaconda3/lib/python3.7/site-packages/sklearn/linear_model/coordinate_descent.py:471: ConvergenceWarning: Objective did not converge. You might want to increase the number of iterations. Duality gap: 2340012995737600.0, tolerance: 1488775944736394.8\n",
      "  tol, rng, random, positive)\n",
      "/Users/Creighton/anaconda3/lib/python3.7/site-packages/sklearn/linear_model/coordinate_descent.py:471: ConvergenceWarning: Objective did not converge. You might want to increase the number of iterations. Duality gap: 4742856371252480.0, tolerance: 1488775944736394.8\n",
      "  tol, rng, random, positive)\n",
      "/Users/Creighton/anaconda3/lib/python3.7/site-packages/sklearn/linear_model/coordinate_descent.py:471: ConvergenceWarning: Objective did not converge. You might want to increase the number of iterations. Duality gap: 1.0202189876689408e+16, tolerance: 1488775944736394.8\n",
      "  tol, rng, random, positive)\n",
      "/Users/Creighton/anaconda3/lib/python3.7/site-packages/sklearn/linear_model/coordinate_descent.py:471: ConvergenceWarning: Objective did not converge. You might want to increase the number of iterations. Duality gap: 1.1596947232764672e+16, tolerance: 1488775944736394.8\n",
      "  tol, rng, random, positive)\n",
      "/Users/Creighton/anaconda3/lib/python3.7/site-packages/sklearn/linear_model/coordinate_descent.py:471: ConvergenceWarning: Objective did not converge. You might want to increase the number of iterations. Duality gap: 1.5429608339246848e+16, tolerance: 1488775944736394.8\n",
      "  tol, rng, random, positive)\n",
      "/Users/Creighton/anaconda3/lib/python3.7/site-packages/sklearn/linear_model/coordinate_descent.py:471: ConvergenceWarning: Objective did not converge. You might want to increase the number of iterations. Duality gap: 2.403930287350067e+16, tolerance: 1488775944736394.8\n",
      "  tol, rng, random, positive)\n",
      "/Users/Creighton/anaconda3/lib/python3.7/site-packages/sklearn/linear_model/coordinate_descent.py:471: ConvergenceWarning: Objective did not converge. You might want to increase the number of iterations. Duality gap: 1506778363625984.0, tolerance: 1488775944736394.8\n",
      "  tol, rng, random, positive)\n",
      "/Users/Creighton/anaconda3/lib/python3.7/site-packages/sklearn/linear_model/coordinate_descent.py:471: ConvergenceWarning: Objective did not converge. You might want to increase the number of iterations. Duality gap: 2715229697785856.0, tolerance: 1488775944736394.8\n",
      "  tol, rng, random, positive)\n",
      "/Users/Creighton/anaconda3/lib/python3.7/site-packages/sklearn/linear_model/coordinate_descent.py:471: ConvergenceWarning: Objective did not converge. You might want to increase the number of iterations. Duality gap: 2096033511192064.0, tolerance: 1567043911374911.5\n",
      "  tol, rng, random, positive)\n",
      "/Users/Creighton/anaconda3/lib/python3.7/site-packages/sklearn/linear_model/coordinate_descent.py:471: ConvergenceWarning: Objective did not converge. You might want to increase the number of iterations. Duality gap: 3584055294764032.0, tolerance: 1567043911374911.5\n",
      "  tol, rng, random, positive)\n",
      "/Users/Creighton/anaconda3/lib/python3.7/site-packages/sklearn/linear_model/coordinate_descent.py:471: ConvergenceWarning: Objective did not converge. You might want to increase the number of iterations. Duality gap: 3426695909005568.0, tolerance: 1567043911374911.5\n",
      "  tol, rng, random, positive)\n",
      "/Users/Creighton/anaconda3/lib/python3.7/site-packages/sklearn/linear_model/coordinate_descent.py:471: ConvergenceWarning: Objective did not converge. You might want to increase the number of iterations. Duality gap: 3084905507630592.0, tolerance: 1567043911374911.5\n",
      "  tol, rng, random, positive)\n",
      "/Users/Creighton/anaconda3/lib/python3.7/site-packages/sklearn/linear_model/coordinate_descent.py:471: ConvergenceWarning: Objective did not converge. You might want to increase the number of iterations. Duality gap: 2914087467040768.0, tolerance: 1567043911374911.5\n",
      "  tol, rng, random, positive)\n",
      "/Users/Creighton/anaconda3/lib/python3.7/site-packages/sklearn/linear_model/coordinate_descent.py:471: ConvergenceWarning: Objective did not converge. You might want to increase the number of iterations. Duality gap: 2761593757175296.0, tolerance: 1567043911374911.5\n",
      "  tol, rng, random, positive)\n",
      "/Users/Creighton/anaconda3/lib/python3.7/site-packages/sklearn/linear_model/coordinate_descent.py:471: ConvergenceWarning: Objective did not converge. You might want to increase the number of iterations. Duality gap: 2644670400206336.0, tolerance: 1567043911374911.5\n",
      "  tol, rng, random, positive)\n",
      "/Users/Creighton/anaconda3/lib/python3.7/site-packages/sklearn/linear_model/coordinate_descent.py:471: ConvergenceWarning: Objective did not converge. You might want to increase the number of iterations. Duality gap: 3472619958324736.0, tolerance: 1567043911374911.5\n",
      "  tol, rng, random, positive)\n",
      "/Users/Creighton/anaconda3/lib/python3.7/site-packages/sklearn/linear_model/coordinate_descent.py:471: ConvergenceWarning: Objective did not converge. You might want to increase the number of iterations. Duality gap: 7484678232582656.0, tolerance: 1567043911374911.5\n",
      "  tol, rng, random, positive)\n",
      "/Users/Creighton/anaconda3/lib/python3.7/site-packages/sklearn/linear_model/coordinate_descent.py:471: ConvergenceWarning: Objective did not converge. You might want to increase the number of iterations. Duality gap: 2220106913136896.0, tolerance: 1460523606522585.5\n",
      "  tol, rng, random, positive)\n",
      "/Users/Creighton/anaconda3/lib/python3.7/site-packages/sklearn/linear_model/coordinate_descent.py:471: ConvergenceWarning: Objective did not converge. You might want to increase the number of iterations. Duality gap: 3028704015028480.0, tolerance: 1460523606522585.5\n",
      "  tol, rng, random, positive)\n"
     ]
    }
   ],
   "source": [
    "# USA gross\n",
    "l_alphas = np.logspace(4,6,20) # instatiate alphas to check\n",
    "\n",
    "usa_lasso_model = LassoCV(alphas=l_alphas, cv=3, max_iter=5000) # Cross validate over our alphas to find most optimal\n",
    "\n",
    "usa_lasso_model = usa_lasso_model.fit(Z_usa_train, y_usa_train) # fit model using best alpha"
   ]
  },
  {
   "cell_type": "code",
   "execution_count": 36,
   "metadata": {},
   "outputs": [
    {
     "data": {
      "text/plain": [
       "615848.2110660254"
      ]
     },
     "execution_count": 36,
     "metadata": {},
     "output_type": "execute_result"
    }
   ],
   "source": [
    "usa_lasso_model.alpha_"
   ]
  },
  {
   "cell_type": "code",
   "execution_count": 37,
   "metadata": {},
   "outputs": [
    {
     "name": "stdout",
     "output_type": "stream",
     "text": [
      "Training score: 0.7788890861182848\n",
      "Testing score: 0.7580759951609629\n",
      "RMSE: 31096476.003690515\n"
     ]
    }
   ],
   "source": [
    "print(f'Training score: {usa_lasso_model.score(Z_usa_train, y_usa_train)}')\n",
    "print(f'Testing score: {usa_lasso_model.score(Z_usa_test, y_usa_test)}')\n",
    "print(f'RMSE: {np.sqrt(mean_squared_error(y_usa_train, usa_lasso_model.predict(Z_usa_train)))}')"
   ]
  },
  {
   "cell_type": "code",
   "execution_count": 38,
   "metadata": {},
   "outputs": [],
   "source": [
    "gone_with_the_wind = df.drop(['title','usa_gross_income','worldwide_gross_income'], axis=1).loc[[4]]"
   ]
  },
  {
   "cell_type": "code",
   "execution_count": 39,
   "metadata": {},
   "outputs": [
    {
     "data": {
      "text/plain": [
       "1137"
      ]
     },
     "execution_count": 39,
     "metadata": {},
     "output_type": "execute_result"
    }
   ],
   "source": [
    "gwtw_ss = StandardScaler()\n",
    "Z_gwtw_usa = gwtw_ss.fit_transform(gone_with_the_wind.values)\n",
    "\n",
    "len(Z_gwtw_usa[0])"
   ]
  },
  {
   "cell_type": "code",
   "execution_count": 40,
   "metadata": {},
   "outputs": [
    {
     "data": {
      "text/plain": [
       "1137"
      ]
     },
     "execution_count": 40,
     "metadata": {},
     "output_type": "execute_result"
    }
   ],
   "source": [
    "len(usa_lasso_model.coef_)"
   ]
  },
  {
   "cell_type": "code",
   "execution_count": 42,
   "metadata": {},
   "outputs": [
    {
     "data": {
      "text/plain": [
       "array([40815156.16111543])"
      ]
     },
     "execution_count": 42,
     "metadata": {},
     "output_type": "execute_result"
    }
   ],
   "source": [
    "usa_lasso_model.predict(Z_gwtw_usa) # what our model predicts for Gone With the Wind"
   ]
  },
  {
   "cell_type": "code",
   "execution_count": 43,
   "metadata": {},
   "outputs": [
    {
     "data": {
      "text/plain": [
       "200852579.0"
      ]
     },
     "execution_count": 43,
     "metadata": {},
     "output_type": "execute_result"
    }
   ],
   "source": [
    "df.loc[4, 'usa_gross_income'] # the actual USA gross for Gone With the Wind"
   ]
  },
  {
   "cell_type": "markdown",
   "metadata": {},
   "source": [
    "___"
   ]
  },
  {
   "cell_type": "code",
   "execution_count": 55,
   "metadata": {
    "scrolled": true
   },
   "outputs": [],
   "source": [
    "# World Wide gross\n",
    "l_alphas = np.logspace(6,10,20) # instatiate alphas to check\n",
    "\n",
    "ww_lasso_model = LassoCV(alphas=l_alphas, cv=3, max_iter=5000) # Cross validate over our alphas to find most optimal\n",
    "\n",
    "ww_lasso_model = ww_lasso_model.fit(Z_ww_train, y_ww_train) # fit model using best alpha"
   ]
  },
  {
   "cell_type": "code",
   "execution_count": 56,
   "metadata": {},
   "outputs": [
    {
     "data": {
      "text/plain": [
       "1623776.739188721"
      ]
     },
     "execution_count": 56,
     "metadata": {},
     "output_type": "execute_result"
    }
   ],
   "source": [
    "ww_lasso_model.alpha_"
   ]
  },
  {
   "cell_type": "code",
   "execution_count": 57,
   "metadata": {},
   "outputs": [
    {
     "name": "stdout",
     "output_type": "stream",
     "text": [
      "Training score: 0.8044160395714399\n",
      "Testing score: 0.7826052956156169\n",
      "RMSE: 76470487.35953371\n"
     ]
    }
   ],
   "source": [
    "print(f'Training score: {ww_lasso_model.score(Z_ww_train, y_ww_train)}')\n",
    "print(f'Testing score: {ww_lasso_model.score(Z_ww_test, y_ww_test)}')\n",
    "print(f'RMSE: {np.sqrt(mean_squared_error(y_ww_train, ww_lasso_model.predict(Z_ww_train)))}')"
   ]
  },
  {
   "cell_type": "code",
   "execution_count": 58,
   "metadata": {},
   "outputs": [
    {
     "data": {
      "text/plain": [
       "1137"
      ]
     },
     "execution_count": 58,
     "metadata": {},
     "output_type": "execute_result"
    }
   ],
   "source": [
    "gwtw_ss = StandardScaler()\n",
    "Z_gwtw_ww = gwtw_ss.fit_transform(gone_with_the_wind.values)\n",
    "\n",
    "len(Z_gwtw_ww[0])"
   ]
  },
  {
   "cell_type": "code",
   "execution_count": 59,
   "metadata": {},
   "outputs": [
    {
     "data": {
      "text/plain": [
       "1137"
      ]
     },
     "execution_count": 59,
     "metadata": {},
     "output_type": "execute_result"
    }
   ],
   "source": [
    "len(ww_lasso_model.coef_)"
   ]
  },
  {
   "cell_type": "code",
   "execution_count": 60,
   "metadata": {},
   "outputs": [
    {
     "data": {
      "text/plain": [
       "array([87829297.4355151])"
      ]
     },
     "execution_count": 60,
     "metadata": {},
     "output_type": "execute_result"
    }
   ],
   "source": [
    "ww_lasso_model.predict(Z_gwtw_ww) # what our model predicts for Gone With the Wind"
   ]
  },
  {
   "cell_type": "code",
   "execution_count": 61,
   "metadata": {},
   "outputs": [
    {
     "data": {
      "text/plain": [
       "402352579.0"
      ]
     },
     "execution_count": 61,
     "metadata": {},
     "output_type": "execute_result"
    }
   ],
   "source": [
    "df.loc[4, 'worldwide_gross_income'] # the actual USA gross for Gone With the Wind"
   ]
  },
  {
   "cell_type": "markdown",
   "metadata": {},
   "source": [
    "___"
   ]
  },
  {
   "cell_type": "code",
   "execution_count": 62,
   "metadata": {},
   "outputs": [
    {
     "data": {
      "text/plain": [
       "usa_gross_income                           2.74264e+07\n",
       "worldwide_gross_income                     4.11238e+07\n",
       "country-afghanistan                                  0\n",
       "country-algeria                                      0\n",
       "country-angola                                       0\n",
       "                                              ...     \n",
       "metascore reviews_from_critics                   26280\n",
       "reviews_from_users^2                       2.11412e+06\n",
       "reviews_from_users reviews_from_critics         530710\n",
       "reviews_from_critics^2                          133225\n",
       "title                                        Midsommar\n",
       "Name: 6450, Length: 1140, dtype: object"
      ]
     },
     "execution_count": 62,
     "metadata": {},
     "output_type": "execute_result"
    }
   ],
   "source": [
    "df.loc[6450]"
   ]
  },
  {
   "cell_type": "code",
   "execution_count": 63,
   "metadata": {},
   "outputs": [
    {
     "data": {
      "text/plain": [
       "array([40815156.16111543])"
      ]
     },
     "execution_count": 63,
     "metadata": {},
     "output_type": "execute_result"
    }
   ],
   "source": [
    "# get features for Midsommar\n",
    "midsommar = df.drop(['title','usa_gross_income','worldwide_gross_income'], axis=1).loc[[6450]]\n",
    "\n",
    "# scale our features for Midsommar\n",
    "ms_ss = StandardScaler()\n",
    "Z_ms_usa = ms_ss.fit_transform(midsommar)\n",
    "\n",
    "# predict USA gross for Midsommar\n",
    "usa_lasso_model.predict(Z_ms_usa)"
   ]
  },
  {
   "cell_type": "code",
   "execution_count": 64,
   "metadata": {},
   "outputs": [
    {
     "data": {
      "text/plain": [
       "array([87829297.4355151])"
      ]
     },
     "execution_count": 64,
     "metadata": {},
     "output_type": "execute_result"
    }
   ],
   "source": [
    "# get features for Midsommar\n",
    "midsommar = df.drop(['title','usa_gross_income','worldwide_gross_income'], axis=1).loc[[6450]]\n",
    "\n",
    "# scale our features for Midsommar\n",
    "ms_ss = StandardScaler()\n",
    "Z_ms_ww = ms_ss.fit_transform(midsommar)\n",
    "\n",
    "# predict World Wide gross for Midsommar\n",
    "ww_lasso_model.predict(Z_ms_ww)"
   ]
  },
  {
   "cell_type": "code",
   "execution_count": null,
   "metadata": {},
   "outputs": [],
   "source": []
  },
  {
   "cell_type": "code",
   "execution_count": null,
   "metadata": {},
   "outputs": [],
   "source": []
  }
 ],
 "metadata": {
  "kernelspec": {
   "display_name": "Python 3",
   "language": "python",
   "name": "python3"
  },
  "language_info": {
   "codemirror_mode": {
    "name": "ipython",
    "version": 3
   },
   "file_extension": ".py",
   "mimetype": "text/x-python",
   "name": "python",
   "nbconvert_exporter": "python",
   "pygments_lexer": "ipython3",
   "version": "3.7.3"
  }
 },
 "nbformat": 4,
 "nbformat_minor": 2
}
