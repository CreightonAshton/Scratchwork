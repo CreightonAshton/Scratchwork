{
 "cells": [
  {
   "cell_type": "markdown",
   "metadata": {},
   "source": [
    "# 01 - Cleaning\n",
    "___"
   ]
  },
  {
   "cell_type": "code",
   "execution_count": 1,
   "metadata": {},
   "outputs": [],
   "source": [
    "# import\n",
    "import pandas as pd\n",
    "import numpy as np"
   ]
  },
  {
   "cell_type": "code",
   "execution_count": 3,
   "metadata": {},
   "outputs": [],
   "source": [
    "# reads\n",
    "gross_df = pd.read_csv('../../../../Data/Movies/Box_Office_Mojo/movies_total_gross.csv')\n",
    "summary_df = pd.read_csv('../../../../Data/Movies/Box_Office_Mojo/movies_summary.csv')\n",
    "castcrew_df = pd.read_csv('../../../../Data/Movies/Box_Office_Mojo/movies_castcrew.csv')"
   ]
  },
  {
   "cell_type": "markdown",
   "metadata": {},
   "source": [
    "___\n",
    "## Total Gross"
   ]
  },
  {
   "cell_type": "code",
   "execution_count": 11,
   "metadata": {},
   "outputs": [
    {
     "data": {
      "text/html": [
       "<div>\n",
       "<style scoped>\n",
       "    .dataframe tbody tr th:only-of-type {\n",
       "        vertical-align: middle;\n",
       "    }\n",
       "\n",
       "    .dataframe tbody tr th {\n",
       "        vertical-align: top;\n",
       "    }\n",
       "\n",
       "    .dataframe thead th {\n",
       "        text-align: right;\n",
       "    }\n",
       "</style>\n",
       "<table border=\"1\" class=\"dataframe\">\n",
       "  <thead>\n",
       "    <tr style=\"text-align: right;\">\n",
       "      <th></th>\n",
       "      <th>bom_id</th>\n",
       "      <th>title</th>\n",
       "      <th>total_gross</th>\n",
       "      <th>theaters</th>\n",
       "      <th>release_date</th>\n",
       "      <th>year</th>\n",
       "    </tr>\n",
       "  </thead>\n",
       "  <tbody>\n",
       "    <tr>\n",
       "      <td>0</td>\n",
       "      <td>rl2759034369</td>\n",
       "      <td>Star Wars: Episode IV - A New Hope</td>\n",
       "      <td>$307,263,857</td>\n",
       "      <td>1,750</td>\n",
       "      <td>May 25</td>\n",
       "      <td>1977</td>\n",
       "    </tr>\n",
       "    <tr>\n",
       "      <td>1</td>\n",
       "      <td>rl3561784833</td>\n",
       "      <td>The Deep</td>\n",
       "      <td>$47,346,365</td>\n",
       "      <td>731</td>\n",
       "      <td>Jun 17</td>\n",
       "      <td>1977</td>\n",
       "    </tr>\n",
       "    <tr>\n",
       "      <td>2</td>\n",
       "      <td>rl2004059649</td>\n",
       "      <td>The Spy Who Loved Me</td>\n",
       "      <td>$46,838,673</td>\n",
       "      <td>200</td>\n",
       "      <td>Jul 13</td>\n",
       "      <td>1977</td>\n",
       "    </tr>\n",
       "    <tr>\n",
       "      <td>3</td>\n",
       "      <td>rl2137425409</td>\n",
       "      <td>Oh, God!</td>\n",
       "      <td>$41,687,243</td>\n",
       "      <td>198</td>\n",
       "      <td>Oct 7</td>\n",
       "      <td>1977</td>\n",
       "    </tr>\n",
       "    <tr>\n",
       "      <td>4</td>\n",
       "      <td>rl1582335489</td>\n",
       "      <td>Exorcist II: The Heretic</td>\n",
       "      <td>$30,749,142</td>\n",
       "      <td>703</td>\n",
       "      <td>Jun 17</td>\n",
       "      <td>1977</td>\n",
       "    </tr>\n",
       "  </tbody>\n",
       "</table>\n",
       "</div>"
      ],
      "text/plain": [
       "         bom_id                               title   total_gross theaters  \\\n",
       "0  rl2759034369  Star Wars: Episode IV - A New Hope  $307,263,857    1,750   \n",
       "1  rl3561784833                            The Deep   $47,346,365      731   \n",
       "2  rl2004059649                The Spy Who Loved Me   $46,838,673      200   \n",
       "3  rl2137425409                            Oh, God!   $41,687,243      198   \n",
       "4  rl1582335489            Exorcist II: The Heretic   $30,749,142      703   \n",
       "\n",
       "  release_date  year  \n",
       "0       May 25  1977  \n",
       "1       Jun 17  1977  \n",
       "2       Jul 13  1977  \n",
       "3        Oct 7  1977  \n",
       "4       Jun 17  1977  "
      ]
     },
     "execution_count": 11,
     "metadata": {},
     "output_type": "execute_result"
    }
   ],
   "source": [
    "gross_df.head()"
   ]
  },
  {
   "cell_type": "code",
   "execution_count": 12,
   "metadata": {},
   "outputs": [
    {
     "data": {
      "text/plain": [
       "(16247, 6)"
      ]
     },
     "execution_count": 12,
     "metadata": {},
     "output_type": "execute_result"
    }
   ],
   "source": [
    "gross_df.shape"
   ]
  },
  {
   "cell_type": "code",
   "execution_count": 13,
   "metadata": {},
   "outputs": [
    {
     "data": {
      "text/plain": [
       "bom_id          object\n",
       "title           object\n",
       "total_gross     object\n",
       "theaters        object\n",
       "release_date    object\n",
       "year             int64\n",
       "dtype: object"
      ]
     },
     "execution_count": 13,
     "metadata": {},
     "output_type": "execute_result"
    }
   ],
   "source": [
    "gross_df.dtypes"
   ]
  },
  {
   "cell_type": "code",
   "execution_count": null,
   "metadata": {},
   "outputs": [],
   "source": []
  }
 ],
 "metadata": {
  "kernelspec": {
   "display_name": "Python 3",
   "language": "python",
   "name": "python3"
  },
  "language_info": {
   "codemirror_mode": {
    "name": "ipython",
    "version": 3
   },
   "file_extension": ".py",
   "mimetype": "text/x-python",
   "name": "python",
   "nbconvert_exporter": "python",
   "pygments_lexer": "ipython3",
   "version": "3.7.3"
  }
 },
 "nbformat": 4,
 "nbformat_minor": 2
}
