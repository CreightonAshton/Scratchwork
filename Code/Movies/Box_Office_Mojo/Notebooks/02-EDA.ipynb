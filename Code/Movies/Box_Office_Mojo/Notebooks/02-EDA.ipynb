{
 "cells": [
  {
   "cell_type": "markdown",
   "metadata": {},
   "source": [
    "# EDA\n",
    "___"
   ]
  },
  {
   "cell_type": "code",
   "execution_count": 9,
   "metadata": {},
   "outputs": [],
   "source": [
    "# imports\n",
    "import pandas as pd\n",
    "import numpy as np\n",
    "import matplotlib.pyplot as plt\n",
    "import seaborn as sns"
   ]
  },
  {
   "cell_type": "code",
   "execution_count": 2,
   "metadata": {},
   "outputs": [],
   "source": [
    "# reads\n",
    "gross_df = pd.read_csv('../../../../Data/Movies/Box_Office_Mojo/cleaning/total_gross_v02.csv')\n",
    "summary_df = pd.read_csv('../../../../Data/Movies/Box_Office_Mojo/cleaning/summary_v02.csv')\n",
    "castcrew_df = pd.read_csv('../../../../Data/Movies/Box_Office_Mojo/cleaning/castcrew_v02.csv')"
   ]
  },
  {
   "cell_type": "markdown",
   "metadata": {},
   "source": [
    "___"
   ]
  },
  {
   "cell_type": "code",
   "execution_count": 3,
   "metadata": {},
   "outputs": [
    {
     "data": {
      "text/plain": [
       "(15922, 6)"
      ]
     },
     "execution_count": 3,
     "metadata": {},
     "output_type": "execute_result"
    }
   ],
   "source": [
    "gross_df.shape"
   ]
  },
  {
   "cell_type": "code",
   "execution_count": 4,
   "metadata": {},
   "outputs": [
    {
     "data": {
      "text/html": [
       "<div>\n",
       "<style scoped>\n",
       "    .dataframe tbody tr th:only-of-type {\n",
       "        vertical-align: middle;\n",
       "    }\n",
       "\n",
       "    .dataframe tbody tr th {\n",
       "        vertical-align: top;\n",
       "    }\n",
       "\n",
       "    .dataframe thead th {\n",
       "        text-align: right;\n",
       "    }\n",
       "</style>\n",
       "<table border=\"1\" class=\"dataframe\">\n",
       "  <thead>\n",
       "    <tr style=\"text-align: right;\">\n",
       "      <th></th>\n",
       "      <th>bom_id</th>\n",
       "      <th>title</th>\n",
       "      <th>total_gross</th>\n",
       "      <th>theaters</th>\n",
       "      <th>release_date</th>\n",
       "      <th>year</th>\n",
       "    </tr>\n",
       "  </thead>\n",
       "  <tbody>\n",
       "    <tr>\n",
       "      <td>0</td>\n",
       "      <td>rl2759034369</td>\n",
       "      <td>Star Wars: Episode IV - A New Hope</td>\n",
       "      <td>307263857</td>\n",
       "      <td>1750</td>\n",
       "      <td>1977-05-25</td>\n",
       "      <td>1977</td>\n",
       "    </tr>\n",
       "    <tr>\n",
       "      <td>1</td>\n",
       "      <td>rl3561784833</td>\n",
       "      <td>The Deep</td>\n",
       "      <td>47346365</td>\n",
       "      <td>731</td>\n",
       "      <td>1977-06-17</td>\n",
       "      <td>1977</td>\n",
       "    </tr>\n",
       "    <tr>\n",
       "      <td>2</td>\n",
       "      <td>rl2004059649</td>\n",
       "      <td>The Spy Who Loved Me</td>\n",
       "      <td>46838673</td>\n",
       "      <td>200</td>\n",
       "      <td>1977-07-13</td>\n",
       "      <td>1977</td>\n",
       "    </tr>\n",
       "    <tr>\n",
       "      <td>3</td>\n",
       "      <td>rl2137425409</td>\n",
       "      <td>Oh, God!</td>\n",
       "      <td>41687243</td>\n",
       "      <td>198</td>\n",
       "      <td>1977-10-07</td>\n",
       "      <td>1977</td>\n",
       "    </tr>\n",
       "    <tr>\n",
       "      <td>4</td>\n",
       "      <td>rl1582335489</td>\n",
       "      <td>Exorcist II: The Heretic</td>\n",
       "      <td>30749142</td>\n",
       "      <td>703</td>\n",
       "      <td>1977-06-17</td>\n",
       "      <td>1977</td>\n",
       "    </tr>\n",
       "  </tbody>\n",
       "</table>\n",
       "</div>"
      ],
      "text/plain": [
       "         bom_id                               title  total_gross  theaters  \\\n",
       "0  rl2759034369  Star Wars: Episode IV - A New Hope    307263857      1750   \n",
       "1  rl3561784833                            The Deep     47346365       731   \n",
       "2  rl2004059649                The Spy Who Loved Me     46838673       200   \n",
       "3  rl2137425409                            Oh, God!     41687243       198   \n",
       "4  rl1582335489            Exorcist II: The Heretic     30749142       703   \n",
       "\n",
       "  release_date  year  \n",
       "0   1977-05-25  1977  \n",
       "1   1977-06-17  1977  \n",
       "2   1977-07-13  1977  \n",
       "3   1977-10-07  1977  \n",
       "4   1977-06-17  1977  "
      ]
     },
     "execution_count": 4,
     "metadata": {},
     "output_type": "execute_result"
    }
   ],
   "source": [
    "gross_df.head()"
   ]
  },
  {
   "cell_type": "code",
   "execution_count": 11,
   "metadata": {},
   "outputs": [
    {
     "data": {
      "text/plain": [
       "bom_id          object\n",
       "title           object\n",
       "total_gross      int64\n",
       "theaters         int64\n",
       "release_date    object\n",
       "year             int64\n",
       "dtype: object"
      ]
     },
     "execution_count": 11,
     "metadata": {},
     "output_type": "execute_result"
    }
   ],
   "source": [
    "gross_df.dtypes"
   ]
  },
  {
   "cell_type": "code",
   "execution_count": 12,
   "metadata": {},
   "outputs": [
    {
     "data": {
      "text/html": [
       "<div>\n",
       "<style scoped>\n",
       "    .dataframe tbody tr th:only-of-type {\n",
       "        vertical-align: middle;\n",
       "    }\n",
       "\n",
       "    .dataframe tbody tr th {\n",
       "        vertical-align: top;\n",
       "    }\n",
       "\n",
       "    .dataframe thead th {\n",
       "        text-align: right;\n",
       "    }\n",
       "</style>\n",
       "<table border=\"1\" class=\"dataframe\">\n",
       "  <thead>\n",
       "    <tr style=\"text-align: right;\">\n",
       "      <th></th>\n",
       "      <th>total_gross</th>\n",
       "      <th>theaters</th>\n",
       "      <th>year</th>\n",
       "    </tr>\n",
       "  </thead>\n",
       "  <tbody>\n",
       "    <tr>\n",
       "      <td>count</td>\n",
       "      <td>1.592200e+04</td>\n",
       "      <td>15922.000000</td>\n",
       "      <td>15922.000000</td>\n",
       "    </tr>\n",
       "    <tr>\n",
       "      <td>mean</td>\n",
       "      <td>1.798390e+07</td>\n",
       "      <td>763.025751</td>\n",
       "      <td>2005.653561</td>\n",
       "    </tr>\n",
       "    <tr>\n",
       "      <td>std</td>\n",
       "      <td>4.678278e+07</td>\n",
       "      <td>1118.956385</td>\n",
       "      <td>10.094669</td>\n",
       "    </tr>\n",
       "    <tr>\n",
       "      <td>min</td>\n",
       "      <td>3.000000e+01</td>\n",
       "      <td>0.000000</td>\n",
       "      <td>1977.000000</td>\n",
       "    </tr>\n",
       "    <tr>\n",
       "      <td>25%</td>\n",
       "      <td>5.126725e+04</td>\n",
       "      <td>7.000000</td>\n",
       "      <td>1999.000000</td>\n",
       "    </tr>\n",
       "    <tr>\n",
       "      <td>50%</td>\n",
       "      <td>6.954895e+05</td>\n",
       "      <td>69.000000</td>\n",
       "      <td>2007.000000</td>\n",
       "    </tr>\n",
       "    <tr>\n",
       "      <td>75%</td>\n",
       "      <td>1.428554e+07</td>\n",
       "      <td>1276.000000</td>\n",
       "      <td>2014.000000</td>\n",
       "    </tr>\n",
       "    <tr>\n",
       "      <td>max</td>\n",
       "      <td>9.366622e+08</td>\n",
       "      <td>4802.000000</td>\n",
       "      <td>2019.000000</td>\n",
       "    </tr>\n",
       "  </tbody>\n",
       "</table>\n",
       "</div>"
      ],
      "text/plain": [
       "        total_gross      theaters          year\n",
       "count  1.592200e+04  15922.000000  15922.000000\n",
       "mean   1.798390e+07    763.025751   2005.653561\n",
       "std    4.678278e+07   1118.956385     10.094669\n",
       "min    3.000000e+01      0.000000   1977.000000\n",
       "25%    5.126725e+04      7.000000   1999.000000\n",
       "50%    6.954895e+05     69.000000   2007.000000\n",
       "75%    1.428554e+07   1276.000000   2014.000000\n",
       "max    9.366622e+08   4802.000000   2019.000000"
      ]
     },
     "execution_count": 12,
     "metadata": {},
     "output_type": "execute_result"
    }
   ],
   "source": [
    "gross_df.describe()"
   ]
  },
  {
   "cell_type": "markdown",
   "metadata": {},
   "source": [
    "___"
   ]
  },
  {
   "cell_type": "code",
   "execution_count": 5,
   "metadata": {},
   "outputs": [
    {
     "data": {
      "text/plain": [
       "(15922, 14)"
      ]
     },
     "execution_count": 5,
     "metadata": {},
     "output_type": "execute_result"
    }
   ],
   "source": [
    "summary_df.shape"
   ]
  },
  {
   "cell_type": "code",
   "execution_count": 6,
   "metadata": {
    "scrolled": false
   },
   "outputs": [
    {
     "data": {
      "text/html": [
       "<div>\n",
       "<style scoped>\n",
       "    .dataframe tbody tr th:only-of-type {\n",
       "        vertical-align: middle;\n",
       "    }\n",
       "\n",
       "    .dataframe tbody tr th {\n",
       "        vertical-align: top;\n",
       "    }\n",
       "\n",
       "    .dataframe thead th {\n",
       "        text-align: right;\n",
       "    }\n",
       "</style>\n",
       "<table border=\"1\" class=\"dataframe\">\n",
       "  <thead>\n",
       "    <tr style=\"text-align: right;\">\n",
       "      <th></th>\n",
       "      <th>bom_id</th>\n",
       "      <th>imdb_id</th>\n",
       "      <th>title</th>\n",
       "      <th>domestic_gross</th>\n",
       "      <th>international_gross</th>\n",
       "      <th>worldwide_gross</th>\n",
       "      <th>distributor</th>\n",
       "      <th>opening</th>\n",
       "      <th>budget</th>\n",
       "      <th>mpaa</th>\n",
       "      <th>run_time</th>\n",
       "      <th>genres</th>\n",
       "      <th>in_release</th>\n",
       "      <th>widest_release</th>\n",
       "    </tr>\n",
       "  </thead>\n",
       "  <tbody>\n",
       "    <tr>\n",
       "      <td>0</td>\n",
       "      <td>rl2759034369</td>\n",
       "      <td>tt0076759</td>\n",
       "      <td>Star Wars: Episode IV - A New Hope</td>\n",
       "      <td>307263857</td>\n",
       "      <td>195751992</td>\n",
       "      <td>503015849</td>\n",
       "      <td>Twentieth Century Fox</td>\n",
       "      <td>1554475.0</td>\n",
       "      <td>11000000.0</td>\n",
       "      <td>PG</td>\n",
       "      <td>121.0</td>\n",
       "      <td>Action|Adventure|Fantasy|Sci-Fi</td>\n",
       "      <td>951</td>\n",
       "      <td>1750.0</td>\n",
       "    </tr>\n",
       "    <tr>\n",
       "      <td>1</td>\n",
       "      <td>rl3561784833</td>\n",
       "      <td>tt0075925</td>\n",
       "      <td>The Deep</td>\n",
       "      <td>47346365</td>\n",
       "      <td>0</td>\n",
       "      <td>47346365</td>\n",
       "      <td>Columbia Pictures</td>\n",
       "      <td>6835540.0</td>\n",
       "      <td>NaN</td>\n",
       "      <td>NONE</td>\n",
       "      <td>123.0</td>\n",
       "      <td>Adventure|Mystery|Thriller</td>\n",
       "      <td>198</td>\n",
       "      <td>731.0</td>\n",
       "    </tr>\n",
       "    <tr>\n",
       "      <td>2</td>\n",
       "      <td>rl2004059649</td>\n",
       "      <td>tt0076752</td>\n",
       "      <td>The Spy Who Loved Me</td>\n",
       "      <td>46838673</td>\n",
       "      <td>0</td>\n",
       "      <td>46838673</td>\n",
       "      <td>United Artists</td>\n",
       "      <td>NaN</td>\n",
       "      <td>NaN</td>\n",
       "      <td>NONE</td>\n",
       "      <td>125.0</td>\n",
       "      <td>Action|Adventure|Thriller</td>\n",
       "      <td>172</td>\n",
       "      <td>200.0</td>\n",
       "    </tr>\n",
       "    <tr>\n",
       "      <td>3</td>\n",
       "      <td>rl2137425409</td>\n",
       "      <td>tt0076489</td>\n",
       "      <td>Oh, God!</td>\n",
       "      <td>41687243</td>\n",
       "      <td>0</td>\n",
       "      <td>41687243</td>\n",
       "      <td>Warner Bros.</td>\n",
       "      <td>2040920.0</td>\n",
       "      <td>NaN</td>\n",
       "      <td>NONE</td>\n",
       "      <td>98.0</td>\n",
       "      <td>Comedy|Fantasy</td>\n",
       "      <td>86</td>\n",
       "      <td>198.0</td>\n",
       "    </tr>\n",
       "    <tr>\n",
       "      <td>4</td>\n",
       "      <td>rl1582335489</td>\n",
       "      <td>tt0076009</td>\n",
       "      <td>Exorcist II: The Heretic</td>\n",
       "      <td>30749142</td>\n",
       "      <td>0</td>\n",
       "      <td>30749142</td>\n",
       "      <td>Warner Bros.</td>\n",
       "      <td>6735000.0</td>\n",
       "      <td>NaN</td>\n",
       "      <td>NONE</td>\n",
       "      <td>117.0</td>\n",
       "      <td>Horror</td>\n",
       "      <td>198</td>\n",
       "      <td>703.0</td>\n",
       "    </tr>\n",
       "  </tbody>\n",
       "</table>\n",
       "</div>"
      ],
      "text/plain": [
       "         bom_id    imdb_id                               title  \\\n",
       "0  rl2759034369  tt0076759  Star Wars: Episode IV - A New Hope   \n",
       "1  rl3561784833  tt0075925                            The Deep   \n",
       "2  rl2004059649  tt0076752                The Spy Who Loved Me   \n",
       "3  rl2137425409  tt0076489                            Oh, God!   \n",
       "4  rl1582335489  tt0076009            Exorcist II: The Heretic   \n",
       "\n",
       "   domestic_gross  international_gross  worldwide_gross  \\\n",
       "0       307263857            195751992        503015849   \n",
       "1        47346365                    0         47346365   \n",
       "2        46838673                    0         46838673   \n",
       "3        41687243                    0         41687243   \n",
       "4        30749142                    0         30749142   \n",
       "\n",
       "             distributor    opening      budget  mpaa  run_time  \\\n",
       "0  Twentieth Century Fox  1554475.0  11000000.0    PG     121.0   \n",
       "1      Columbia Pictures  6835540.0         NaN  NONE     123.0   \n",
       "2         United Artists        NaN         NaN  NONE     125.0   \n",
       "3           Warner Bros.  2040920.0         NaN  NONE      98.0   \n",
       "4           Warner Bros.  6735000.0         NaN  NONE     117.0   \n",
       "\n",
       "                            genres  in_release  widest_release  \n",
       "0  Action|Adventure|Fantasy|Sci-Fi         951          1750.0  \n",
       "1       Adventure|Mystery|Thriller         198           731.0  \n",
       "2        Action|Adventure|Thriller         172           200.0  \n",
       "3                   Comedy|Fantasy          86           198.0  \n",
       "4                           Horror         198           703.0  "
      ]
     },
     "execution_count": 6,
     "metadata": {},
     "output_type": "execute_result"
    }
   ],
   "source": [
    "summary_df.head()"
   ]
  },
  {
   "cell_type": "code",
   "execution_count": 13,
   "metadata": {},
   "outputs": [
    {
     "data": {
      "text/plain": [
       "bom_id                  object\n",
       "imdb_id                 object\n",
       "title                   object\n",
       "domestic_gross           int64\n",
       "international_gross      int64\n",
       "worldwide_gross          int64\n",
       "distributor             object\n",
       "opening                float64\n",
       "budget                 float64\n",
       "mpaa                    object\n",
       "run_time               float64\n",
       "genres                  object\n",
       "in_release               int64\n",
       "widest_release         float64\n",
       "dtype: object"
      ]
     },
     "execution_count": 13,
     "metadata": {},
     "output_type": "execute_result"
    }
   ],
   "source": [
    "summary_df.dtypes"
   ]
  },
  {
   "cell_type": "code",
   "execution_count": 15,
   "metadata": {},
   "outputs": [
    {
     "data": {
      "text/html": [
       "<div>\n",
       "<style scoped>\n",
       "    .dataframe tbody tr th:only-of-type {\n",
       "        vertical-align: middle;\n",
       "    }\n",
       "\n",
       "    .dataframe tbody tr th {\n",
       "        vertical-align: top;\n",
       "    }\n",
       "\n",
       "    .dataframe thead th {\n",
       "        text-align: right;\n",
       "    }\n",
       "</style>\n",
       "<table border=\"1\" class=\"dataframe\">\n",
       "  <thead>\n",
       "    <tr style=\"text-align: right;\">\n",
       "      <th></th>\n",
       "      <th>domestic_gross</th>\n",
       "      <th>international_gross</th>\n",
       "      <th>worldwide_gross</th>\n",
       "      <th>opening</th>\n",
       "      <th>budget</th>\n",
       "      <th>run_time</th>\n",
       "      <th>in_release</th>\n",
       "      <th>widest_release</th>\n",
       "    </tr>\n",
       "  </thead>\n",
       "  <tbody>\n",
       "    <tr>\n",
       "      <td>count</td>\n",
       "      <td>1.592200e+04</td>\n",
       "      <td>1.592200e+04</td>\n",
       "      <td>1.592200e+04</td>\n",
       "      <td>1.512600e+04</td>\n",
       "      <td>3.318000e+03</td>\n",
       "      <td>15867.000000</td>\n",
       "      <td>15922.000000</td>\n",
       "      <td>15915.000000</td>\n",
       "    </tr>\n",
       "    <tr>\n",
       "      <td>mean</td>\n",
       "      <td>1.798390e+07</td>\n",
       "      <td>2.124325e+07</td>\n",
       "      <td>3.922715e+07</td>\n",
       "      <td>4.824242e+06</td>\n",
       "      <td>4.536256e+07</td>\n",
       "      <td>104.598979</td>\n",
       "      <td>257.164427</td>\n",
       "      <td>763.361357</td>\n",
       "    </tr>\n",
       "    <tr>\n",
       "      <td>std</td>\n",
       "      <td>4.678278e+07</td>\n",
       "      <td>7.731491e+07</td>\n",
       "      <td>1.193382e+08</td>\n",
       "      <td>1.397907e+07</td>\n",
       "      <td>4.672607e+07</td>\n",
       "      <td>23.610029</td>\n",
       "      <td>204.934224</td>\n",
       "      <td>1119.087987</td>\n",
       "    </tr>\n",
       "    <tr>\n",
       "      <td>min</td>\n",
       "      <td>3.000000e+01</td>\n",
       "      <td>0.000000e+00</td>\n",
       "      <td>3.000000e+01</td>\n",
       "      <td>1.100000e+01</td>\n",
       "      <td>2.200000e+02</td>\n",
       "      <td>8.000000</td>\n",
       "      <td>8.000000</td>\n",
       "      <td>1.000000</td>\n",
       "    </tr>\n",
       "    <tr>\n",
       "      <td>25%</td>\n",
       "      <td>5.126725e+04</td>\n",
       "      <td>0.000000e+00</td>\n",
       "      <td>1.134072e+05</td>\n",
       "      <td>1.015100e+04</td>\n",
       "      <td>1.344750e+07</td>\n",
       "      <td>91.000000</td>\n",
       "      <td>144.000000</td>\n",
       "      <td>7.000000</td>\n",
       "    </tr>\n",
       "    <tr>\n",
       "      <td>50%</td>\n",
       "      <td>6.954895e+05</td>\n",
       "      <td>1.333100e+04</td>\n",
       "      <td>2.253972e+06</td>\n",
       "      <td>7.788250e+04</td>\n",
       "      <td>3.000000e+07</td>\n",
       "      <td>100.000000</td>\n",
       "      <td>248.000000</td>\n",
       "      <td>69.000000</td>\n",
       "    </tr>\n",
       "    <tr>\n",
       "      <td>75%</td>\n",
       "      <td>1.428554e+07</td>\n",
       "      <td>5.690442e+06</td>\n",
       "      <td>2.254709e+07</td>\n",
       "      <td>3.559025e+06</td>\n",
       "      <td>6.000000e+07</td>\n",
       "      <td>113.000000</td>\n",
       "      <td>335.000000</td>\n",
       "      <td>1276.000000</td>\n",
       "    </tr>\n",
       "    <tr>\n",
       "      <td>max</td>\n",
       "      <td>9.366622e+08</td>\n",
       "      <td>1.994571e+09</td>\n",
       "      <td>2.797801e+09</td>\n",
       "      <td>3.571150e+08</td>\n",
       "      <td>3.560000e+08</td>\n",
       "      <td>808.000000</td>\n",
       "      <td>7608.000000</td>\n",
       "      <td>4802.000000</td>\n",
       "    </tr>\n",
       "  </tbody>\n",
       "</table>\n",
       "</div>"
      ],
      "text/plain": [
       "       domestic_gross  international_gross  worldwide_gross       opening  \\\n",
       "count    1.592200e+04         1.592200e+04     1.592200e+04  1.512600e+04   \n",
       "mean     1.798390e+07         2.124325e+07     3.922715e+07  4.824242e+06   \n",
       "std      4.678278e+07         7.731491e+07     1.193382e+08  1.397907e+07   \n",
       "min      3.000000e+01         0.000000e+00     3.000000e+01  1.100000e+01   \n",
       "25%      5.126725e+04         0.000000e+00     1.134072e+05  1.015100e+04   \n",
       "50%      6.954895e+05         1.333100e+04     2.253972e+06  7.788250e+04   \n",
       "75%      1.428554e+07         5.690442e+06     2.254709e+07  3.559025e+06   \n",
       "max      9.366622e+08         1.994571e+09     2.797801e+09  3.571150e+08   \n",
       "\n",
       "             budget      run_time    in_release  widest_release  \n",
       "count  3.318000e+03  15867.000000  15922.000000    15915.000000  \n",
       "mean   4.536256e+07    104.598979    257.164427      763.361357  \n",
       "std    4.672607e+07     23.610029    204.934224     1119.087987  \n",
       "min    2.200000e+02      8.000000      8.000000        1.000000  \n",
       "25%    1.344750e+07     91.000000    144.000000        7.000000  \n",
       "50%    3.000000e+07    100.000000    248.000000       69.000000  \n",
       "75%    6.000000e+07    113.000000    335.000000     1276.000000  \n",
       "max    3.560000e+08    808.000000   7608.000000     4802.000000  "
      ]
     },
     "execution_count": 15,
     "metadata": {},
     "output_type": "execute_result"
    }
   ],
   "source": [
    "summary_df.describe()"
   ]
  },
  {
   "cell_type": "markdown",
   "metadata": {},
   "source": [
    "___"
   ]
  },
  {
   "cell_type": "code",
   "execution_count": 7,
   "metadata": {},
   "outputs": [
    {
     "data": {
      "text/plain": [
       "(15922, 14)"
      ]
     },
     "execution_count": 7,
     "metadata": {},
     "output_type": "execute_result"
    }
   ],
   "source": [
    "castcrew_df.shape"
   ]
  },
  {
   "cell_type": "code",
   "execution_count": 8,
   "metadata": {
    "scrolled": false
   },
   "outputs": [
    {
     "data": {
      "text/html": [
       "<div>\n",
       "<style scoped>\n",
       "    .dataframe tbody tr th:only-of-type {\n",
       "        vertical-align: middle;\n",
       "    }\n",
       "\n",
       "    .dataframe tbody tr th {\n",
       "        vertical-align: top;\n",
       "    }\n",
       "\n",
       "    .dataframe thead th {\n",
       "        text-align: right;\n",
       "    }\n",
       "</style>\n",
       "<table border=\"1\" class=\"dataframe\">\n",
       "  <thead>\n",
       "    <tr style=\"text-align: right;\">\n",
       "      <th></th>\n",
       "      <th>bom_id</th>\n",
       "      <th>imdb_id</th>\n",
       "      <th>title</th>\n",
       "      <th>actor_1</th>\n",
       "      <th>actor_2</th>\n",
       "      <th>actor_3</th>\n",
       "      <th>actor_4</th>\n",
       "      <th>director</th>\n",
       "      <th>writer</th>\n",
       "      <th>producer</th>\n",
       "      <th>cinematographer</th>\n",
       "      <th>editor</th>\n",
       "      <th>production_designer</th>\n",
       "      <th>composer</th>\n",
       "    </tr>\n",
       "  </thead>\n",
       "  <tbody>\n",
       "    <tr>\n",
       "      <td>0</td>\n",
       "      <td>rl2759034369</td>\n",
       "      <td>tt0076759</td>\n",
       "      <td>Star Wars: Episode IV - A New Hope (1977)</td>\n",
       "      <td>Mark Hamill</td>\n",
       "      <td>Harrison Ford</td>\n",
       "      <td>Carrie Fisher</td>\n",
       "      <td>Alec Guinness</td>\n",
       "      <td>George Lucas</td>\n",
       "      <td>George Lucas</td>\n",
       "      <td>Gary Kurtz|Rick McCallum</td>\n",
       "      <td>Gilbert Taylor</td>\n",
       "      <td>Richard Chew|T.M. Christopher|Paul Hirsch|Marc...</td>\n",
       "      <td>John Barry</td>\n",
       "      <td>John Williams</td>\n",
       "    </tr>\n",
       "    <tr>\n",
       "      <td>1</td>\n",
       "      <td>rl3561784833</td>\n",
       "      <td>tt0075925</td>\n",
       "      <td>The Deep (1977)</td>\n",
       "      <td>Jacqueline Bisset</td>\n",
       "      <td>Nick Nolte</td>\n",
       "      <td>Dick Anthony Williams</td>\n",
       "      <td>Robert Shaw</td>\n",
       "      <td>Peter Yates</td>\n",
       "      <td>Peter Benchley|Peter Benchley|Tracy Keenan Wynn</td>\n",
       "      <td>Peter Guber</td>\n",
       "      <td>Christopher Challis</td>\n",
       "      <td>David Berlatsky</td>\n",
       "      <td>Anthony Masters</td>\n",
       "      <td>John Barry</td>\n",
       "    </tr>\n",
       "    <tr>\n",
       "      <td>2</td>\n",
       "      <td>rl2004059649</td>\n",
       "      <td>tt0076752</td>\n",
       "      <td>The Spy Who Loved Me (1977)</td>\n",
       "      <td>Roger Moore</td>\n",
       "      <td>Barbara Bach</td>\n",
       "      <td>Curd Jürgens</td>\n",
       "      <td>Richard Kiel</td>\n",
       "      <td>Lewis Gilbert</td>\n",
       "      <td>Christopher Wood|Richard Maibaum|Ian Fleming</td>\n",
       "      <td>Albert R. Broccoli</td>\n",
       "      <td>Claude Renoir</td>\n",
       "      <td>John Glen</td>\n",
       "      <td>Ken Adam</td>\n",
       "      <td>Marvin Hamlisch</td>\n",
       "    </tr>\n",
       "    <tr>\n",
       "      <td>3</td>\n",
       "      <td>rl2137425409</td>\n",
       "      <td>tt0076489</td>\n",
       "      <td>Oh, God! (1977)</td>\n",
       "      <td>John Denver</td>\n",
       "      <td>George Burns</td>\n",
       "      <td>Teri Garr</td>\n",
       "      <td>Donald Pleasence</td>\n",
       "      <td>Carl Reiner</td>\n",
       "      <td>Larry Gelbart|Avery Corman</td>\n",
       "      <td>Jerry Weintraub</td>\n",
       "      <td>Victor J. Kemper</td>\n",
       "      <td>Bud Molin</td>\n",
       "      <td>NONE</td>\n",
       "      <td>Jack Elliott</td>\n",
       "    </tr>\n",
       "    <tr>\n",
       "      <td>4</td>\n",
       "      <td>rl1582335489</td>\n",
       "      <td>tt0076009</td>\n",
       "      <td>Exorcist II: The Heretic (1977)</td>\n",
       "      <td>Richard Burton</td>\n",
       "      <td>Linda Blair</td>\n",
       "      <td>Louise Fletcher</td>\n",
       "      <td>Max von Sydow</td>\n",
       "      <td>John Boorman|Rospo Pallenberg</td>\n",
       "      <td>William Goodhart|William Peter Blatty|Rospo Pa...</td>\n",
       "      <td>John Boorman|Richard Lederer</td>\n",
       "      <td>William A. Fraker</td>\n",
       "      <td>Tom Priestley</td>\n",
       "      <td>Richard Macdonald</td>\n",
       "      <td>Ennio Morricone</td>\n",
       "    </tr>\n",
       "  </tbody>\n",
       "</table>\n",
       "</div>"
      ],
      "text/plain": [
       "         bom_id    imdb_id                                      title  \\\n",
       "0  rl2759034369  tt0076759  Star Wars: Episode IV - A New Hope (1977)   \n",
       "1  rl3561784833  tt0075925                            The Deep (1977)   \n",
       "2  rl2004059649  tt0076752                The Spy Who Loved Me (1977)   \n",
       "3  rl2137425409  tt0076489                            Oh, God! (1977)   \n",
       "4  rl1582335489  tt0076009            Exorcist II: The Heretic (1977)   \n",
       "\n",
       "             actor_1        actor_2                actor_3           actor_4  \\\n",
       "0        Mark Hamill  Harrison Ford          Carrie Fisher     Alec Guinness   \n",
       "1  Jacqueline Bisset     Nick Nolte  Dick Anthony Williams       Robert Shaw   \n",
       "2        Roger Moore   Barbara Bach           Curd Jürgens      Richard Kiel   \n",
       "3        John Denver   George Burns              Teri Garr  Donald Pleasence   \n",
       "4     Richard Burton    Linda Blair        Louise Fletcher     Max von Sydow   \n",
       "\n",
       "                        director  \\\n",
       "0                   George Lucas   \n",
       "1                    Peter Yates   \n",
       "2                  Lewis Gilbert   \n",
       "3                    Carl Reiner   \n",
       "4  John Boorman|Rospo Pallenberg   \n",
       "\n",
       "                                              writer  \\\n",
       "0                                       George Lucas   \n",
       "1    Peter Benchley|Peter Benchley|Tracy Keenan Wynn   \n",
       "2       Christopher Wood|Richard Maibaum|Ian Fleming   \n",
       "3                         Larry Gelbart|Avery Corman   \n",
       "4  William Goodhart|William Peter Blatty|Rospo Pa...   \n",
       "\n",
       "                       producer      cinematographer  \\\n",
       "0      Gary Kurtz|Rick McCallum       Gilbert Taylor   \n",
       "1                   Peter Guber  Christopher Challis   \n",
       "2            Albert R. Broccoli        Claude Renoir   \n",
       "3               Jerry Weintraub     Victor J. Kemper   \n",
       "4  John Boorman|Richard Lederer    William A. Fraker   \n",
       "\n",
       "                                              editor production_designer  \\\n",
       "0  Richard Chew|T.M. Christopher|Paul Hirsch|Marc...          John Barry   \n",
       "1                                    David Berlatsky     Anthony Masters   \n",
       "2                                          John Glen            Ken Adam   \n",
       "3                                          Bud Molin                NONE   \n",
       "4                                      Tom Priestley   Richard Macdonald   \n",
       "\n",
       "          composer  \n",
       "0    John Williams  \n",
       "1       John Barry  \n",
       "2  Marvin Hamlisch  \n",
       "3     Jack Elliott  \n",
       "4  Ennio Morricone  "
      ]
     },
     "execution_count": 8,
     "metadata": {},
     "output_type": "execute_result"
    }
   ],
   "source": [
    "castcrew_df.head()"
   ]
  },
  {
   "cell_type": "code",
   "execution_count": 17,
   "metadata": {},
   "outputs": [
    {
     "data": {
      "text/plain": [
       "bom_id                 object\n",
       "imdb_id                object\n",
       "title                  object\n",
       "actor_1                object\n",
       "actor_2                object\n",
       "actor_3                object\n",
       "actor_4                object\n",
       "director               object\n",
       "writer                 object\n",
       "producer               object\n",
       "cinematographer        object\n",
       "editor                 object\n",
       "production_designer    object\n",
       "composer               object\n",
       "dtype: object"
      ]
     },
     "execution_count": 17,
     "metadata": {},
     "output_type": "execute_result"
    }
   ],
   "source": [
    "castcrew_df.dtypes"
   ]
  },
  {
   "cell_type": "markdown",
   "metadata": {},
   "source": [
    "___"
   ]
  },
  {
   "cell_type": "code",
   "execution_count": 30,
   "metadata": {},
   "outputs": [
    {
     "data": {
      "text/plain": [
       "8386         1920\n",
       "12133        1920\n",
       "8021         1921\n",
       "13540        1921\n",
       "10037        1925\n",
       "           ...   \n",
       "15573        2019\n",
       "15302        2019\n",
       "14646        2020\n",
       "12146     ERROR!!\n",
       "10420    Hysteria\n",
       "Name: title, Length: 15922, dtype: object"
      ]
     },
     "execution_count": 30,
     "metadata": {},
     "output_type": "execute_result"
    }
   ],
   "source": [
    "castcrew_df['title'].map(lambda x: (x.split()[-1].strip(')(')) if x.split()[-1].strip(')(').isdigit() else x).sort_values()"
   ]
  },
  {
   "cell_type": "code",
   "execution_count": 32,
   "metadata": {},
   "outputs": [
    {
     "data": {
      "text/plain": [
       "bom_id                           rl895976961\n",
       "imdb_id                            tt2250380\n",
       "title                    Next Year Jerusalem\n",
       "domestic_gross                          8093\n",
       "international_gross                        0\n",
       "worldwide_gross                         8093\n",
       "distributor                        First Run\n",
       "opening                                 2590\n",
       "budget                                   NaN\n",
       "mpaa                                    NONE\n",
       "run_time                                  72\n",
       "genres                 Biography|Documentary\n",
       "in_release                               230\n",
       "widest_release                             2\n",
       "Name: 12146, dtype: object"
      ]
     },
     "execution_count": 32,
     "metadata": {},
     "output_type": "execute_result"
    }
   ],
   "source": [
    "summary_df.loc[12146]"
   ]
  },
  {
   "cell_type": "code",
   "execution_count": 33,
   "metadata": {},
   "outputs": [
    {
     "data": {
      "text/plain": [
       "bom_id                           rl3495462401\n",
       "imdb_id                             tt1064958\n",
       "title                                Hysteria\n",
       "domestic_gross                        1804139\n",
       "international_gross                   7780117\n",
       "worldwide_gross                       9584256\n",
       "distributor            Sony Pictures Classics\n",
       "opening                                 35656\n",
       "budget                                    NaN\n",
       "mpaa                                     NONE\n",
       "run_time                                  NaN\n",
       "genres                               Thriller\n",
       "in_release                                228\n",
       "widest_release                            218\n",
       "Name: 10420, dtype: object"
      ]
     },
     "execution_count": 33,
     "metadata": {},
     "output_type": "execute_result"
    }
   ],
   "source": [
    "summary_df.loc[10420]"
   ]
  }
 ],
 "metadata": {
  "kernelspec": {
   "display_name": "Python 3",
   "language": "python",
   "name": "python3"
  },
  "language_info": {
   "codemirror_mode": {
    "name": "ipython",
    "version": 3
   },
   "file_extension": ".py",
   "mimetype": "text/x-python",
   "name": "python",
   "nbconvert_exporter": "python",
   "pygments_lexer": "ipython3",
   "version": "3.7.3"
  }
 },
 "nbformat": 4,
 "nbformat_minor": 2
}
