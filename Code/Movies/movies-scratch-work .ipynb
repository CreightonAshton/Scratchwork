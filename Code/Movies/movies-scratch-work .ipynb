{
 "cells": [
  {
   "cell_type": "markdown",
   "metadata": {},
   "source": [
    "# Movies\n",
    "___\n",
    "Data source: [https://www.kaggle.com/stefanoleone992/imdb-extensive-dataset]"
   ]
  },
  {
   "cell_type": "code",
   "execution_count": null,
   "metadata": {},
   "outputs": [],
   "source": [
    "# imports\n",
    "import pandas as pd\n",
    "import numpy as np\n",
    "import matplotlib.pyplot as plt"
   ]
  },
  {
   "cell_type": "code",
   "execution_count": null,
   "metadata": {},
   "outputs": [],
   "source": [
    "# read in data\n",
    "movies_df = pd.read_csv('../../Data/Movies/kaggle/imdb-extensive-dataset/IMDb movies.csv')\n",
    "names_df = pd.read_csv('../../Data/Movies/kaggle/imdb-extensive-dataset/IMDb names.csv')\n",
    "ratings_df = pd.read_csv('../../Data/Movies/kaggle/imdb-extensive-dataset/IMDb ratings.csv')\n",
    "tp_df = pd.read_csv('../../Data/Movies/kaggle/imdb-extensive-dataset/IMDb title_principals.csv')"
   ]
  },
  {
   "cell_type": "code",
   "execution_count": null,
   "metadata": {},
   "outputs": [],
   "source": [
    "movies_df.shape"
   ]
  },
  {
   "cell_type": "code",
   "execution_count": null,
   "metadata": {},
   "outputs": [],
   "source": [
    "movies_df.head()"
   ]
  },
  {
   "cell_type": "code",
   "execution_count": null,
   "metadata": {},
   "outputs": [],
   "source": [
    "names_df.shape"
   ]
  },
  {
   "cell_type": "code",
   "execution_count": null,
   "metadata": {},
   "outputs": [],
   "source": [
    "names_df.head()"
   ]
  },
  {
   "cell_type": "code",
   "execution_count": null,
   "metadata": {},
   "outputs": [],
   "source": [
    "ratings_df.shape"
   ]
  },
  {
   "cell_type": "code",
   "execution_count": null,
   "metadata": {},
   "outputs": [],
   "source": [
    "ratings_df.head()"
   ]
  },
  {
   "cell_type": "code",
   "execution_count": null,
   "metadata": {},
   "outputs": [],
   "source": [
    "tp_df.shape"
   ]
  },
  {
   "cell_type": "code",
   "execution_count": null,
   "metadata": {},
   "outputs": [],
   "source": [
    "tp_df.head()"
   ]
  },
  {
   "cell_type": "markdown",
   "metadata": {},
   "source": [
    "___\n",
    "## Movies DF - Cleaning\n",
    "\n",
    "I'd like to get all the data I can regarding movies with a recorded budget in US dollars with accompaning box office grosses."
   ]
  },
  {
   "cell_type": "code",
   "execution_count": null,
   "metadata": {},
   "outputs": [],
   "source": [
    "movies_df.isnull().mean()"
   ]
  },
  {
   "cell_type": "code",
   "execution_count": null,
   "metadata": {},
   "outputs": [],
   "source": [
    "# fixing the typo in the columns\n",
    "movies_df.rename(columns={'worlwide_gross_income': 'worldwide_gross_income'}, inplace=True)"
   ]
  },
  {
   "cell_type": "code",
   "execution_count": null,
   "metadata": {},
   "outputs": [],
   "source": [
    "movies_df.dtypes"
   ]
  },
  {
   "cell_type": "code",
   "execution_count": null,
   "metadata": {},
   "outputs": [],
   "source": [
    "# create a new df with out the null values in budget and usa_gross_income\n",
    "budgets_df = movies_df[(movies_df['budget'].notnull()) & (movies_df['usa_gross_income'].notnull())]\n",
    "budgets_df['budget'].value_counts()"
   ]
  },
  {
   "cell_type": "code",
   "execution_count": null,
   "metadata": {
    "scrolled": true
   },
   "outputs": [],
   "source": [
    "budgets_df.shape"
   ]
  },
  {
   "cell_type": "code",
   "execution_count": null,
   "metadata": {},
   "outputs": [],
   "source": [
    "budgets_df['budget'].map(lambda x: x.split()[0]).value_counts()"
   ]
  },
  {
   "cell_type": "code",
   "execution_count": null,
   "metadata": {
    "scrolled": true
   },
   "outputs": [],
   "source": [
    "# let's only look at movies with US dollars as the currencty\n",
    "us_budget_df = budgets_df[budgets_df['budget'].map(lambda x: x.split()[0] == '$')]\n",
    "us_budget_df.head()"
   ]
  },
  {
   "cell_type": "code",
   "execution_count": null,
   "metadata": {
    "scrolled": true
   },
   "outputs": [],
   "source": [
    "# converting budget, usa_gross_income, and worlwide_gross_income to numerical data\n",
    "us_budget_df.loc[us_budget_df.index, 'budget'] = us_budget_df.loc[us_budget_df.index, 'budget'].map(\n",
    "    lambda x: x.split()[-1]\n",
    ").astype(int)\n",
    "\n",
    "\n",
    "us_budget_df.loc[us_budget_df.index, 'usa_gross_income'] = us_budget_df.loc[\n",
    "    us_budget_df.index, 'usa_gross_income'\n",
    "].map(\n",
    "    lambda x: x.lstrip('$')\n",
    ").astype(int)\n",
    "\n",
    "\n",
    "us_budget_df.loc[us_budget_df.index, 'worldwide_gross_income'] = us_budget_df.loc[\n",
    "    us_budget_df.index, 'worldwide_gross_income'\n",
    "].map(\n",
    "    lambda x: x.lstrip('$')\n",
    ").astype(int)"
   ]
  },
  {
   "cell_type": "code",
   "execution_count": null,
   "metadata": {},
   "outputs": [],
   "source": [
    "us_budget_df.dtypes"
   ]
  },
  {
   "cell_type": "code",
   "execution_count": null,
   "metadata": {},
   "outputs": [],
   "source": [
    "us_budget_df['usa_gross_income'].sort_values()"
   ]
  },
  {
   "cell_type": "code",
   "execution_count": null,
   "metadata": {},
   "outputs": [],
   "source": [
    "us_budget_df.hist(figsize=(12,9));\n",
    "plt.tight_layout();"
   ]
  },
  {
   "cell_type": "markdown",
   "metadata": {},
   "source": [
    "After a quick cleaning of the budget/gross data, we can see from the histograms of those columns that the data is very heavily skewed right.\n",
    "___\n",
    "For a regression exercise let's take a look at making worldwide_gross_income our target."
   ]
  },
  {
   "cell_type": "code",
   "execution_count": null,
   "metadata": {},
   "outputs": [],
   "source": [
    "# first let's only look at the df where we have worldwide_gross_income\n",
    "wwgross_df = movies_df.loc[movies_df['worldwide_gross_income'].notnull()]\n",
    "wwgross_df.shape"
   ]
  },
  {
   "cell_type": "code",
   "execution_count": null,
   "metadata": {},
   "outputs": [],
   "source": [
    "# here we're going to convert the worldwide_gross_income into numerical data starting with the USDs\n",
    "usd_index = wwgross_df.loc[wwgross_df['worldwide_gross_income'].map(lambda x: x.split()[0]) == '$'].index\n",
    "usd_values = wwgross_df.loc[usd_index, 'worldwide_gross_income'].map(lambda x: x.lstrip('$')).values\n",
    "\n",
    "wwgross_df.loc[usd_index, 'worldwide_gross_income'] = usd_values"
   ]
  },
  {
   "cell_type": "code",
   "execution_count": null,
   "metadata": {
    "scrolled": false
   },
   "outputs": [],
   "source": [
    "wwgross_df['worldwide_gross_income'].map(lambda x: x.lstrip('$')).sort_values()"
   ]
  },
  {
   "cell_type": "code",
   "execution_count": null,
   "metadata": {},
   "outputs": [],
   "source": [
    "# Now let's convert everything to USD. First let's do INR\n",
    "inr_index = wwgross_df.loc[wwgross_df['worldwide_gross_income'].map(lambda x: x.split()[0] == 'INR')].index\n",
    "inr_values = wwgross_df.loc[inr_index, 'worldwide_gross_income'].map(lambda x: x.lstrip('INR')).values\n",
    "\n",
    "# exchange rate for 1 INR is equal to .013\n",
    "inr_to_usd_values = [round(inr*.013).astype(str) for inr in inr_values.astype(int)]\n",
    "\n",
    "wwgross_df.loc[inr_index, 'worldwide_gross_income'] = inr_to_usd_values"
   ]
  },
  {
   "cell_type": "code",
   "execution_count": null,
   "metadata": {
    "scrolled": false
   },
   "outputs": [],
   "source": [
    "wwgross_df.loc[inr_index].head()"
   ]
  },
  {
   "cell_type": "code",
   "execution_count": null,
   "metadata": {},
   "outputs": [],
   "source": [
    "wwgross_df['worldwide_gross_income'].map(lambda x: x.lstrip('$')).sort_values()"
   ]
  },
  {
   "cell_type": "code",
   "execution_count": null,
   "metadata": {},
   "outputs": [],
   "source": [
    "npr_index = wwgross_df.loc[wwgross_df['worldwide_gross_income'].map(lambda x: x.split()[0] == 'NPR')].index\n",
    "npr_value = wwgross_df.loc[npr_index, 'worldwide_gross_income'].map(lambda x: x.split()[-1]).values\n",
    "\n",
    "# exchange rate 1 npr to .0082 usd\n",
    "npr_to_usd = npr_value.astype(int) * .0082\n",
    "\n",
    "wwgross_df.loc[npr_index, 'worldwide_gross_income'] = npr_to_usd.astype(str)"
   ]
  },
  {
   "cell_type": "code",
   "execution_count": null,
   "metadata": {},
   "outputs": [],
   "source": [
    "wwgross_df['worldwide_gross_income'].map(lambda x: x.lstrip('$')).sort_values()"
   ]
  },
  {
   "cell_type": "code",
   "execution_count": null,
   "metadata": {},
   "outputs": [],
   "source": [
    "pkr_index = wwgross_df.loc[wwgross_df['worldwide_gross_income'].map(lambda x: x.split()[0] == 'PKR')].index\n",
    "pkr_values = wwgross_df.loc[pkr_index, 'worldwide_gross_income'].map(lambda x: x.split()[-1]).values\n",
    "\n",
    "# exchange rate 1 pkr to .0062\n",
    "pkr_to_usd = pkr_values.astype(int) * .0062\n",
    "\n",
    "wwgross_df.loc[pkr_index, 'worldwide_gross_income'] = pkr_to_usd.astype(str)"
   ]
  },
  {
   "cell_type": "code",
   "execution_count": null,
   "metadata": {},
   "outputs": [],
   "source": [
    "wwgross_df['worldwide_gross_income'].map(lambda x: x.lstrip('$')).sort_values()"
   ]
  },
  {
   "cell_type": "code",
   "execution_count": null,
   "metadata": {},
   "outputs": [],
   "source": [
    "# convert worldwide gross income to numerical\n",
    "wwgross_df.loc[:,'worldwide_gross_income'] = wwgross_df['worldwide_gross_income'].map(\n",
    "    lambda x: x.split('.')[0]\n",
    ").astype(int)"
   ]
  },
  {
   "cell_type": "code",
   "execution_count": null,
   "metadata": {},
   "outputs": [],
   "source": [
    "wwgross_df.dtypes"
   ]
  },
  {
   "cell_type": "markdown",
   "metadata": {},
   "source": [
    "Next we should repeat the process for `budget` and `usa_gross_income`\n",
    " \n",
    "The next step is to remove any extra columns we don't need when making predictions about `worldwide_gross_income` or `usa_gross_income`. Then I'm also going to drop all the nulls for now to get an initial model.  \n",
    "\n",
    "Columns we are not going to need are:  \n",
    "`imdb_title_id` (doesn't tell us anything relevant)  \n",
    "`original_title` (nearly duplicate column, the `title` column is better)  \n",
    "`date_published` (we're only interested in the year of release, not so much when it was published.)  \n",
    "`description` (This is represented better in other columns like genre)"
   ]
  },
  {
   "cell_type": "code",
   "execution_count": null,
   "metadata": {
    "scrolled": true
   },
   "outputs": [],
   "source": [
    "wwgross_df.drop(columns=['imdb_title_id', 'original_title', 'date_published', 'description'], inplace=True)"
   ]
  },
  {
   "cell_type": "code",
   "execution_count": null,
   "metadata": {},
   "outputs": [],
   "source": [
    "df = wwgross_df.dropna()\n",
    "df.shape"
   ]
  },
  {
   "cell_type": "code",
   "execution_count": null,
   "metadata": {},
   "outputs": [],
   "source": [
    "df.loc[df['budget'].map(lambda x: x.split()[0]) == 'EUR'].head()"
   ]
  },
  {
   "cell_type": "code",
   "execution_count": null,
   "metadata": {},
   "outputs": [],
   "source": [
    "# get a list of all other budget currencies that we should convert\n",
    "budget_currencies = df['budget'].loc[df['budget'].map(lambda x: x.split()[0] != '$')].map(\n",
    "    lambda x: x.split()[0]).value_counts().index\n",
    "budget_currencies"
   ]
  },
  {
   "cell_type": "markdown",
   "metadata": {},
   "source": [
    "FRF, DEM, ESP, FIM, and ATS are obsolete may need to look at individually.  \n",
    "  \n",
    "in fact if we wanted to be more accurate we should adjust all monetary values for inflation, but for now we'll just convert what we have"
   ]
  },
  {
   "cell_type": "code",
   "execution_count": null,
   "metadata": {},
   "outputs": [],
   "source": [
    "rates = [1.09, 1.24, .71, .64, .17, .0094, .013, .14, .097, .18, .00082, .15, .56, .13, .1, .0031, .041, .01, .031, .04,\n",
    " .71, .015, .013, 1.04, .24, .0026, .28, .18, .60, .018, .0012, .08, .0068]\n",
    "\n",
    "# let's make a dictionary for the each currencies conversion rate to usd\n",
    "conversion_dict = dict(zip(budget_currencies, rates))\n",
    "conversion_dict"
   ]
  },
  {
   "cell_type": "code",
   "execution_count": null,
   "metadata": {},
   "outputs": [],
   "source": [
    "# let's loop through each currency and convert them to usd\n",
    "for cur in budget_currencies:\n",
    "    # get indecies and values for all the same currency\n",
    "    ind = df['budget'].loc[df['budget'].map(lambda x: x.split()[0] == cur)].index\n",
    "    values = df.loc[ind, 'budget'].map(lambda x: x.split()[-1]).values\n",
    "    \n",
    "    # convert each value to usd\n",
    "    to_usd = [(\"$ \" + round(val*conversion_dict[cur]).astype(str)) for val in values.astype(int)]\n",
    "    \n",
    "    # update dataframe\n",
    "    df.loc[ind, 'budget'] = to_usd"
   ]
  },
  {
   "cell_type": "code",
   "execution_count": null,
   "metadata": {},
   "outputs": [],
   "source": [
    "# stripping away the '$'\n",
    "usd_budget_index = df.loc[df['budget'].map(lambda x: x.split()[0] == \"$\")].index\n",
    "usd_budget_values = df.loc[usd_budget_index, 'budget'].map(lambda x: x.lstrip('$')).values\n",
    "\n",
    "df.loc[usd_budget_index, 'budget'] = usd_budget_values"
   ]
  },
  {
   "cell_type": "code",
   "execution_count": null,
   "metadata": {},
   "outputs": [],
   "source": [
    "# update the dataframe\n",
    "df['budget'] = df['budget'].astype(float).astype(int).values"
   ]
  },
  {
   "cell_type": "code",
   "execution_count": null,
   "metadata": {},
   "outputs": [],
   "source": [
    "df.dtypes"
   ]
  },
  {
   "cell_type": "code",
   "execution_count": null,
   "metadata": {},
   "outputs": [],
   "source": [
    "df.head()"
   ]
  },
  {
   "cell_type": "code",
   "execution_count": null,
   "metadata": {},
   "outputs": [],
   "source": [
    "df['usa_gross_income'].map(lambda x: x.split()[0]).value_counts()"
   ]
  },
  {
   "cell_type": "code",
   "execution_count": null,
   "metadata": {},
   "outputs": [],
   "source": [
    "df.loc[:,'usa_gross_income'] = df['usa_gross_income'].map(lambda x: x.split()[-1]).values.astype(int)"
   ]
  },
  {
   "cell_type": "code",
   "execution_count": null,
   "metadata": {},
   "outputs": [],
   "source": [
    "df.dtypes"
   ]
  },
  {
   "cell_type": "code",
   "execution_count": null,
   "metadata": {},
   "outputs": [],
   "source": [
    "df.isnull().sum()"
   ]
  },
  {
   "cell_type": "code",
   "execution_count": null,
   "metadata": {
    "scrolled": false
   },
   "outputs": [],
   "source": [
    "df.head()"
   ]
  },
  {
   "cell_type": "code",
   "execution_count": null,
   "metadata": {},
   "outputs": [],
   "source": [
    "df.shape"
   ]
  },
  {
   "cell_type": "markdown",
   "metadata": {},
   "source": [
    "Now all the currencies are all converted to USD and to numerical data and all the nulls have been removed. Now let's save out our cleaned df. "
   ]
  },
  {
   "cell_type": "code",
   "execution_count": null,
   "metadata": {},
   "outputs": [],
   "source": [
    "df.to_csv('../../Data/Movies/IMDB_Movies_cleaned.csv', index=False)"
   ]
  }
 ],
 "metadata": {
  "kernelspec": {
   "display_name": "Python 3",
   "language": "python",
   "name": "python3"
  },
  "language_info": {
   "codemirror_mode": {
    "name": "ipython",
    "version": 3
   },
   "file_extension": ".py",
   "mimetype": "text/x-python",
   "name": "python",
   "nbconvert_exporter": "python",
   "pygments_lexer": "ipython3",
   "version": "3.7.3"
  }
 },
 "nbformat": 4,
 "nbformat_minor": 2
}
